{
  "nbformat": 4,
  "nbformat_minor": 0,
  "metadata": {
    "colab": {
      "name": "Difficult Code.ipynb",
      "provenance": [],
      "collapsed_sections": [],
      "include_colab_link": true
    },
    "kernelspec": {
      "name": "python3",
      "display_name": "Python 3"
    },
    "accelerator": "GPU"
  },
  "cells": [
    {
      "cell_type": "markdown",
      "metadata": {
        "id": "view-in-github",
        "colab_type": "text"
      },
      "source": [
        "<a href=\"https://colab.research.google.com/github/piyushjain220/TSAI/blob/main/NLP/Resources/Difficult_Code.ipynb\" target=\"_parent\"><img src=\"https://colab.research.google.com/assets/colab-badge.svg\" alt=\"Open In Colab\"/></a>"
      ]
    },
    {
      "cell_type": "code",
      "metadata": {
        "id": "qiR8m3KWGCzm"
      },
      "source": [
        "import torch\n",
        "import torch.nn as nn\n",
        "import random"
      ],
      "execution_count": null,
      "outputs": []
    },
    {
      "cell_type": "code",
      "metadata": {
        "id": "czWjLm6yNuWd"
      },
      "source": [
        "import torch\n",
        "import torchvision # provide access to datasets, models, transforms, utils, etc\n",
        "import torchvision.transforms as transforms"
      ],
      "execution_count": null,
      "outputs": []
    },
    {
      "cell_type": "code",
      "metadata": {
        "id": "CpX2U7x4NvDr"
      },
      "source": [
        "# let's extend the Dataset class of Pytorch to build our own nums dataset\n",
        "from torch.utils.data import Dataset\n",
        "import random\n",
        "numbers = [1, 2, 3, 4, 5, 6, 7, 8, 9]\n",
        "\n",
        "class NumbersDataset(Dataset):\n",
        "  def __init__(self):\n",
        "    pass\n",
        "\n",
        "  def __getitem__(self, index):\n",
        "    num1 = random.choice(numbers)\n",
        "    num2 = random.choice(numbers)\n",
        "    add_res = torch.tensor(num1 + num2, dtype=torch.float32)\n",
        "    nums = torch.tensor([num1, num2], dtype=torch.float32)\n",
        "    return nums, add_res\n",
        "  \n",
        "  def __len__(self):\n",
        "    return 1000"
      ],
      "execution_count": null,
      "outputs": []
    },
    {
      "cell_type": "code",
      "metadata": {
        "id": "MzOufOVUOIib"
      },
      "source": [
        "m_dataset = NumbersDataset()"
      ],
      "execution_count": null,
      "outputs": []
    },
    {
      "cell_type": "code",
      "metadata": {
        "colab": {
          "base_uri": "https://localhost:8080/"
        },
        "id": "St8L7a59ON1h",
        "outputId": "9e22da44-30e9-45cb-e6a3-c785f4ef70ca"
      },
      "source": [
        "next(iter(m_dataset))"
      ],
      "execution_count": null,
      "outputs": [
        {
          "output_type": "execute_result",
          "data": {
            "text/plain": [
              "(tensor([6., 4.]), tensor(10.))"
            ]
          },
          "metadata": {
            "tags": []
          },
          "execution_count": 5
        }
      ]
    },
    {
      "cell_type": "code",
      "metadata": {
        "colab": {
          "base_uri": "https://localhost:8080/"
        },
        "id": "_f4vxQv7OSAY",
        "outputId": "29053254-2a5d-407e-c8b8-066f27507883"
      },
      "source": [
        "train_loader = torch.utils.data.DataLoader(m_dataset\n",
        "    ,batch_size=10\n",
        "    ,shuffle=False\n",
        ")\n",
        "\n",
        "next(iter(train_loader))"
      ],
      "execution_count": null,
      "outputs": [
        {
          "output_type": "execute_result",
          "data": {
            "text/plain": [
              "[tensor([[1., 6.],\n",
              "         [7., 3.],\n",
              "         [9., 2.],\n",
              "         [8., 8.],\n",
              "         [7., 5.],\n",
              "         [2., 7.],\n",
              "         [6., 2.],\n",
              "         [9., 2.],\n",
              "         [6., 2.],\n",
              "         [2., 2.]]),\n",
              " tensor([ 7., 10., 11., 16., 12.,  9.,  8., 11.,  8.,  4.])]"
            ]
          },
          "metadata": {
            "tags": []
          },
          "execution_count": 6
        }
      ]
    },
    {
      "cell_type": "code",
      "metadata": {
        "id": "nDi4GNHoOog7"
      },
      "source": [
        "import torch.nn.functional as F\n",
        "class Network(nn.Module):\n",
        "    def __init__(self):\n",
        "        super().__init__()\n",
        "        self.fc1 = nn.Linear(in_features=2, out_features=10, bias=False)\n",
        "        self.fc2 = nn.Linear(in_features=10, out_features=10, bias=False)\n",
        "        self.out = nn.Linear(in_features=10, out_features=1, bias=False)\n",
        "\n",
        "    def forward(self, t):\n",
        "        t = self.fc1(t)\n",
        "        t = F.relu(t)\n",
        "        t = self.fc2(t)\n",
        "        t = F.relu(t)\n",
        "        t = self.out(t)\n",
        "\n",
        "        return t"
      ],
      "execution_count": null,
      "outputs": []
    },
    {
      "cell_type": "code",
      "metadata": {
        "colab": {
          "base_uri": "https://localhost:8080/"
        },
        "id": "C3S53fUyQ4XJ",
        "outputId": "2e118b3f-e5e5-421f-c157-002da8b77705"
      },
      "source": [
        "network = Network()\n",
        "pred = network(next(iter(m_dataset))[0])\n",
        "pred"
      ],
      "execution_count": null,
      "outputs": [
        {
          "output_type": "execute_result",
          "data": {
            "text/plain": [
              "tensor([0.3219], grad_fn=<SqueezeBackward3>)"
            ]
          },
          "metadata": {
            "tags": []
          },
          "execution_count": 8
        }
      ]
    },
    {
      "cell_type": "code",
      "metadata": {
        "colab": {
          "base_uri": "https://localhost:8080/"
        },
        "id": "8DLcemRfQ6JX",
        "outputId": "83f05108-86c4-4aef-d8ec-693884b05508"
      },
      "source": [
        "import torch.optim as optim\n",
        "import math\n",
        "\n",
        "network = Network()\n",
        "\n",
        "train_loader = torch.utils.data.DataLoader(m_dataset, batch_size=10000000)\n",
        "optimizer = optim.Adam(network.parameters(), lr=0.1)\n",
        "\n",
        "total_loss = 0\n",
        "total_correct = 0\n",
        "\n",
        "for epoch in range(20):\n",
        "\n",
        "    total_loss = 0\n",
        "    total_correct = 0\n",
        "    if epoch == 10:\n",
        "      optimizer = optim.Adam(network.parameters(), lr=0.001)\n",
        "    for batch in train_loader: # Get Batch\n",
        "        nums, add_res = batch \n",
        "\n",
        "        preds = network(nums) # Pass Batch\n",
        "        add_res = add_res.type(torch.FloatTensor)\n",
        "        loss = F.mse_loss(preds, add_res) # Calculate Loss\n",
        "\n",
        "        optimizer.zero_grad()\n",
        "        loss.backward() # Calculate Gradients\n",
        "        optimizer.step() # Update Weights\n",
        "\n",
        "        total_loss += loss.item()\n",
        "\n",
        "    print(\n",
        "        \"epoch:\", epoch, \n",
        "        \"loss:\", total_loss\n",
        "    )\n"
      ],
      "execution_count": null,
      "outputs": [
        {
          "output_type": "stream",
          "text": [
            "/usr/local/lib/python3.6/dist-packages/ipykernel_launcher.py:23: UserWarning: Using a target size (torch.Size([1000])) that is different to the input size (torch.Size([1000, 1])). This will likely lead to incorrect results due to broadcasting. Please ensure they have the same size.\n"
          ],
          "name": "stderr"
        },
        {
          "output_type": "stream",
          "text": [
            "epoch: 0 loss: 111.69872283935547\n",
            "epoch: 1 loss: 89.619873046875\n",
            "epoch: 2 loss: 48.00177764892578\n",
            "epoch: 3 loss: 24.836925506591797\n",
            "epoch: 4 loss: 61.17211151123047\n",
            "epoch: 5 loss: 38.62464904785156\n",
            "epoch: 6 loss: 25.989276885986328\n",
            "epoch: 7 loss: 30.433700561523438\n",
            "epoch: 8 loss: 39.1937370300293\n",
            "epoch: 9 loss: 41.257164001464844\n",
            "epoch: 10 loss: 41.45707702636719\n",
            "epoch: 11 loss: 38.92074966430664\n",
            "epoch: 12 loss: 38.77179718017578\n",
            "epoch: 13 loss: 38.51563262939453\n",
            "epoch: 14 loss: 38.24116516113281\n",
            "epoch: 15 loss: 39.28142547607422\n",
            "epoch: 16 loss: 37.93470001220703\n",
            "epoch: 17 loss: 37.18488693237305\n",
            "epoch: 18 loss: 35.618194580078125\n",
            "epoch: 19 loss: 36.34186553955078\n"
          ],
          "name": "stdout"
        }
      ]
    },
    {
      "cell_type": "code",
      "metadata": {
        "colab": {
          "base_uri": "https://localhost:8080/"
        },
        "id": "5ZDhiTcAS2j7",
        "outputId": "87eab158-8e7f-423e-d440-c43aff6e5985"
      },
      "source": [
        "X = torch.tensor([1., 0.])\n",
        "pred = network(X)\n",
        "pred, X"
      ],
      "execution_count": null,
      "outputs": [
        {
          "output_type": "execute_result",
          "data": {
            "text/plain": [
              "(tensor([0.6753], grad_fn=<SqueezeBackward3>), tensor([1., 0.]))"
            ]
          },
          "metadata": {
            "tags": []
          },
          "execution_count": 20
        }
      ]
    },
    {
      "cell_type": "code",
      "metadata": {
        "id": "qTy3_9ruZB8j"
      },
      "source": [
        ""
      ],
      "execution_count": null,
      "outputs": []
    }
  ]
}