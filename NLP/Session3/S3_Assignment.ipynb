{
  "nbformat": 4,
  "nbformat_minor": 0,
  "metadata": {
    "colab": {
      "name": "TSAI:S3_Assignment.ipynb",
      "provenance": [],
      "collapsed_sections": [],
      "authorship_tag": "ABX9TyPlfyYbHkPo8M3MYhnisy7A",
      "include_colab_link": true
    },
    "kernelspec": {
      "name": "python3",
      "display_name": "Python 3"
    }
  },
  "cells": [
    {
      "cell_type": "markdown",
      "metadata": {
        "id": "view-in-github",
        "colab_type": "text"
      },
      "source": [
        "<a href=\"https://colab.research.google.com/github/piyushjain220/TSAI/blob/main/NLP/Session3/S3_Assignment.ipynb\" target=\"_parent\"><img src=\"https://colab.research.google.com/assets/colab-badge.svg\" alt=\"Open In Colab\"/></a>"
      ]
    },
    {
      "cell_type": "markdown",
      "metadata": {
        "id": "i1st4Z0JJULz"
      },
      "source": [
        "### **Question 1.** Write a function using only list filter lambda that can tell whether a number is a Fibonacci number or not. You can use a pre-calculated list/dict to store fab numbers till 10000 PTS:100"
      ]
    },
    {
      "cell_type": "code",
      "metadata": {
        "id": "GHHLhFmyJb4V",
        "outputId": "1b04b25c-dd5b-471b-d987-bc9a474891cc",
        "colab": {
          "base_uri": "https://localhost:8080/"
        }
      },
      "source": [
        "fab_numbers_till = 10000\n",
        "n1, n2 = 0, 1\n",
        "ulist=[]\n",
        "while n1 <= fab_numbers_till:\n",
        "  ulist.append(n1)\n",
        "  new_no = n1+n2\n",
        "  n1=n2\n",
        "  n2=new_no\n",
        "\n",
        "def check_fibo(number):\n",
        "  validate =lambda value : value in ulist\n",
        "  return f\"Yes, {number} is a valid fibonacci series number under {fab_numbers_till}.\" if validate(number) else f\"No, {number} is NOT a valid fibonacci series number under {fab_numbers_till}.\"\n",
        "\n",
        "input = 3\n",
        "print(check_fibo(input))"
      ],
      "execution_count": 92,
      "outputs": [
        {
          "output_type": "stream",
          "text": [
            "Yes, 3 is a valid fibonacci series number under 10000.\n"
          ],
          "name": "stdout"
        }
      ]
    },
    {
      "cell_type": "markdown",
      "metadata": {
        "id": "Y2xUr5NUJqq7"
      },
      "source": [
        "### **Question 2.** Using list comprehension (and zip/lambda/etc if required)\n",
        "Write five different expressions that:\n",
        "* add 2 iterables a and b such that a is even and b is odd\n"
      ]
    },
    {
      "cell_type": "code",
      "metadata": {
        "id": "93iWOxnzKRPY",
        "outputId": "b5ff1686-1e40-4860-cef3-001e92aad335",
        "colab": {
          "base_uri": "https://localhost:8080/"
        }
      },
      "source": [
        "a=[1,2,3,4,5,6,7,8,9]\n",
        "b=[1,2,3,4,5,6,7,8,9]\n",
        "result=list(map(sum,zip(filter(lambda x: x%2==0, a),filter(lambda y: y%2!=0, b))))\n",
        "print(result)"
      ],
      "execution_count": 93,
      "outputs": [
        {
          "output_type": "stream",
          "text": [
            "[3, 7, 11, 15]\n"
          ],
          "name": "stdout"
        }
      ]
    },
    {
      "cell_type": "markdown",
      "metadata": {
        "id": "nVdMPGQUKSE8"
      },
      "source": [
        "* strips every vowel from a string provided (tsai>>t s)"
      ]
    },
    {
      "cell_type": "code",
      "metadata": {
        "id": "xutoSRABKUDu",
        "outputId": "a4a4df0c-4fa7-4968-af71-3b759735e7f9",
        "colab": {
          "base_uri": "https://localhost:8080/"
        }
      },
      "source": [
        "string=\"tsAi\"\n",
        "# Using List Comprehension\n",
        "list_of_vowels=[\"a\",\"e\",\"i\",\"o\",\"u\"]\n",
        "final_str = ''.join([x for x in string.lower() if x not in list_of_vowels])\n",
        "print(final_str)\n",
        "\n",
        "# Using Lambda, filter\n",
        "final_str = lambda str : ''.join(filter(lambda x: x not in list_of_vowels, str.lower()))\n",
        "print(final_str(string))"
      ],
      "execution_count": 94,
      "outputs": [
        {
          "output_type": "stream",
          "text": [
            "ts\n",
            "ts\n"
          ],
          "name": "stdout"
        }
      ]
    },
    {
      "cell_type": "markdown",
      "metadata": {
        "id": "GoW8uSKKKUo0"
      },
      "source": [
        "* acts like a ReLU function for a 1D array"
      ]
    },
    {
      "cell_type": "code",
      "metadata": {
        "id": "qfSmVuhbKWRh",
        "outputId": "a8629438-7097-451b-d5db-576b74714a2f",
        "colab": {
          "base_uri": "https://localhost:8080/"
        }
      },
      "source": [
        "input = [0,-1,1,5,-8,-7,-0.5,0.0,0.15,23]\n",
        "\n",
        "# Using List Comprehension\n",
        "output = [x if x >= 0 else 0 for x in input]\n",
        "print(output)\n",
        "\n",
        "# Using Lambda, filter\n",
        "output = lambda l : [x if x>0 else 0 for x in l]\n",
        "print(output(input))"
      ],
      "execution_count": 95,
      "outputs": [
        {
          "output_type": "stream",
          "text": [
            "[0, 0, 1, 5, 0, 0, 0, 0.0, 0.15, 23]\n",
            "[0, 0, 1, 5, 0, 0, 0, 0, 0.15, 23]\n"
          ],
          "name": "stdout"
        }
      ]
    },
    {
      "cell_type": "markdown",
      "metadata": {
        "id": "zGLYqkS0KWys"
      },
      "source": [
        "* acts like a sigmoid function for a 1D array"
      ]
    },
    {
      "cell_type": "code",
      "metadata": {
        "id": "zwAV1HXSKYWh",
        "outputId": "bdfa24c3-911f-4e9a-f227-eb7551a34dd0",
        "colab": {
          "base_uri": "https://localhost:8080/"
        }
      },
      "source": [
        "import math\n",
        "input = [0,-1,1,5,-8,-7,-0.5,0.0,0.15,23]\n",
        "\n",
        "# Using List Comprehension\n",
        "output = [math.exp(x) / (math.exp(x)+1) for x in input]\n",
        "print(output)\n",
        "\n",
        "# Using Lambda\n",
        "output = lambda l : [1 / (1 + math.exp(-x)) for x in l]\n",
        "print(output(input))"
      ],
      "execution_count": 96,
      "outputs": [
        {
          "output_type": "stream",
          "text": [
            "[0.5, 0.2689414213699951, 0.7310585786300049, 0.9933071490757152, 0.00033535013046647816, 0.0009110511944006454, 0.37754066879814546, 0.5, 0.5374298453437495, 0.9999999998973812]\n",
            "[0.5, 0.2689414213699951, 0.7310585786300049, 0.9933071490757153, 0.0003353501304664781, 0.0009110511944006454, 0.3775406687981454, 0.5, 0.5374298453437496, 0.9999999998973812]\n"
          ],
          "name": "stdout"
        }
      ]
    },
    {
      "cell_type": "markdown",
      "metadata": {
        "id": "ulmzxDWvKY24"
      },
      "source": [
        "* takes a small character string and shifts all characters by 5 (handle boundary conditions) tsai>>yxfn"
      ]
    },
    {
      "cell_type": "code",
      "metadata": {
        "id": "nz--LcrpFMI-",
        "outputId": "63bdf24b-9d07-4593-96ab-563cd7c66c20",
        "colab": {
          "base_uri": "https://localhost:8080/"
        }
      },
      "source": [
        "import string\n",
        "alphabets = string.ascii_lowercase\n",
        "output = lambda input : \"\".join([alphabets[(alphabets.index(x) + 5) % len(alphabets)] for x in input])\n",
        "\n",
        "input = \"tsai\"\n",
        "print(output(input))"
      ],
      "execution_count": 97,
      "outputs": [
        {
          "output_type": "stream",
          "text": [
            "yxfn\n"
          ],
          "name": "stdout"
        }
      ]
    },
    {
      "cell_type": "markdown",
      "metadata": {
        "id": "ika4cIqrKck6"
      },
      "source": [
        "### **Question 3.** A list comprehension expression that takes a ~200 word paragraph (write your own paragraph to check), and checks whether it has any of the swear words mentioned in https://github.com/RobertJGabriel/Google-profanity-words/blob/master/list.txt"
      ]
    },
    {
      "cell_type": "code",
      "metadata": {
        "id": "MlKfJrAEKmIh",
        "outputId": "07de0d85-b625-4347-d428-a7c1a639d565",
        "colab": {
          "base_uri": "https://localhost:8080/"
        }
      },
      "source": [
        "!wget https://raw.githubusercontent.com/RobertJGabriel/Google-profanity-words/master/list.txt -O swear_words\n",
        "with open(\"swear_words\", \"r\") as sw:\n",
        "    swear_words = [x.strip() for x in sw.readlines()]"
      ],
      "execution_count": 98,
      "outputs": [
        {
          "output_type": "stream",
          "text": [
            "--2020-11-05 08:40:38--  https://raw.githubusercontent.com/RobertJGabriel/Google-profanity-words/master/list.txt\n",
            "Resolving raw.githubusercontent.com (raw.githubusercontent.com)... 151.101.0.133, 151.101.64.133, 151.101.128.133, ...\n",
            "Connecting to raw.githubusercontent.com (raw.githubusercontent.com)|151.101.0.133|:443... connected.\n",
            "HTTP request sent, awaiting response... 200 OK\n",
            "Length: 3622 (3.5K) [text/plain]\n",
            "Saving to: ‘swear_words’\n",
            "\n",
            "\rswear_words           0%[                    ]       0  --.-KB/s               \rswear_words         100%[===================>]   3.54K  --.-KB/s    in 0s      \n",
            "\n",
            "2020-11-05 08:40:38 (40.1 MB/s) - ‘swear_words’ saved [3622/3622]\n",
            "\n"
          ],
          "name": "stdout"
        }
      ]
    },
    {
      "cell_type": "code",
      "metadata": {
        "id": "cTSEPUNGaC7o",
        "outputId": "07c527fb-199d-4606-fba1-3923624a232c",
        "colab": {
          "base_uri": "https://localhost:8080/"
        }
      },
      "source": [
        "# Returns a Boolean Response\n",
        "check_list = lambda text : any([True for w in swear_words if w in text])\n",
        "\n",
        "# Returns a response with text displaying how many words found.\n",
        "check_list1 = lambda text : f\"Text contains {len([True for w in swear_words if w in text])} Swear Words.\" if len([True for w in swear_words if w in text]) > 0 else \"Text Does not contain any Swear words.\"\n",
        "\n",
        "text = \"\"\"As the billionaire Mistry clan and the Tata conglomerate head for a bitter split, they are already preparing for their next battle: the value of a stake in Tata Sons Pvt., which is at the center of India’s biggest corporate feud.\n",
        "The Mistry family-owned Shapoorji Pallonji Group holds 18.4% of the holding company of the software-to-trucks Tata empire, and wants to sell it and raise funds for its own cash-strapped businesses. It had previously sought to pledge the shares as collateral, but was blocked this week when Tata told the Supreme Court it was open to buying the stock itself if Mistrys needed money.\n",
        "But the focus of the years-long dispute could now shift to what each party thinks is the fair valuation of the stake. While court filings peg it at more than 1.5 trillion rupees ($20.3 billion), the eventual deal value will depend on which side can drive a hard bargain.\n",
        "The indebted SP Group, with upcoming debt maturities, may prefer a quick deal. Even at depressed valuations, it won’t be easy for the Tata Group or any other investor to fork out such a sum at a time when many economies, including India’s, have been ravaged by the coronavirus pandemic.\n",
        "“The parting of ways will lie in the details as it is not clear they will quickly agree to a valuation,” said Shriram Subramanian, founder of proxy advisory firm InGovern Research Services Pvt. in Bangalore. “Additionally, Tata group is in no hurry while the SP group is hard-pressed for funding.”.\"\"\"\n",
        "\n",
        "text1=\"what a fudge packer ass he is!\"\n",
        "\n",
        "print(check_list(text1))\n",
        "print(check_list1(text1))"
      ],
      "execution_count": 99,
      "outputs": [
        {
          "output_type": "stream",
          "text": [
            "True\n",
            "Text contains 2 Swear Words.\n"
          ],
          "name": "stdout"
        }
      ]
    },
    {
      "cell_type": "markdown",
      "metadata": {
        "id": "NnHuO3QeKoCt"
      },
      "source": [
        "### **Question 4.** Using reduce functions:\n",
        "* add only even numbers in a list"
      ]
    },
    {
      "cell_type": "code",
      "metadata": {
        "id": "tehV9NNWK1OD",
        "outputId": "00d52636-117e-4491-ce66-40374d540eec",
        "colab": {
          "base_uri": "https://localhost:8080/"
        }
      },
      "source": [
        "from functools import reduce\n",
        "output = lambda inp : reduce(lambda x,y: x+y, filter(lambda x: x%2==0, inp))\n",
        "\n",
        "input = [1, 2, 3, 4, 5, 6]\n",
        "print(output(input))"
      ],
      "execution_count": 100,
      "outputs": [
        {
          "output_type": "stream",
          "text": [
            "12\n"
          ],
          "name": "stdout"
        }
      ]
    },
    {
      "cell_type": "markdown",
      "metadata": {
        "id": "-exY-74wK1tL"
      },
      "source": [
        "* find the biggest character in a string (printable ascii characters)"
      ]
    },
    {
      "cell_type": "code",
      "metadata": {
        "id": "eJPnI6k4K3WN",
        "outputId": "1473ef95-0bcf-42b5-98cf-ab30364b9927",
        "colab": {
          "base_uri": "https://localhost:8080/"
        }
      },
      "source": [
        "output = lambda inp : reduce(lambda x,y: x if x > y else y, inp)\n",
        "\n",
        "input = \"Piyush\"\n",
        "print(output(input))"
      ],
      "execution_count": 101,
      "outputs": [
        {
          "output_type": "stream",
          "text": [
            "y\n"
          ],
          "name": "stdout"
        }
      ]
    },
    {
      "cell_type": "markdown",
      "metadata": {
        "id": "Kt6-XUILK4B3"
      },
      "source": [
        "* adds every 3rd number in a list"
      ]
    },
    {
      "cell_type": "code",
      "metadata": {
        "id": "Z_Wxtjg8kSi1",
        "outputId": "599f114e-d7e5-4989-b51b-00a57250786b",
        "colab": {
          "base_uri": "https://localhost:8080/"
        }
      },
      "source": [
        "output = lambda inp : reduce(lambda x,y: x+y, inp[2::3])\n",
        "\n",
        "input = [1,2,3,4,5,6,7,8,9,10,11,12]\n",
        "print(output(input))"
      ],
      "execution_count": 102,
      "outputs": [
        {
          "output_type": "stream",
          "text": [
            "30\n"
          ],
          "name": "stdout"
        }
      ]
    },
    {
      "cell_type": "markdown",
      "metadata": {
        "id": "QbU8w-CXK52s"
      },
      "source": [
        "### **Question 5.** Using randint, random.choice and list comprehensions, write an expression that generates 15 random KADDAADDDD number plates, where KA is fixed, D stands for a digit, and A stands for Capital alphabets. 10<<DD<<99 & 1000<<DDDD<<9999"
      ]
    },
    {
      "cell_type": "code",
      "metadata": {
        "id": "9Kogd3hqlrn9",
        "outputId": "70124aec-733a-453a-f49f-106df570297f",
        "colab": {
          "base_uri": "https://localhost:8080/"
        }
      },
      "source": [
        "import random\n",
        "output = lambda number_of_plates: ['KA' + str(random.randint(10,99)) + str(\"\".join(random.choice(string.ascii_uppercase) for k in range(2))) + str(random.randint(1000,9999)) for i in range(number_of_plates)]\n",
        "\n",
        "print(output(15))"
      ],
      "execution_count": 110,
      "outputs": [
        {
          "output_type": "stream",
          "text": [
            "['KA12FA1376', 'KA23AI1482', 'KA18WX4706', 'KA75PL1893', 'KA74NR1179', 'KA47TT5269', 'KA92ER5155', 'KA23NQ7360', 'KA95SI8091', 'KA77TG2451', 'KA75CB4420', 'KA36JW6554', 'KA75GJ8909', 'KA59CQ3814', 'KA45KL3720']\n"
          ],
          "name": "stdout"
        }
      ]
    },
    {
      "cell_type": "markdown",
      "metadata": {
        "id": "sJXgADAQK-Yr"
      },
      "source": [
        "### **Question 6.** Write the above again from scratch where KA can be changed to DL, and 1000/9999 ranges can be provided."
      ]
    },
    {
      "cell_type": "code",
      "metadata": {
        "id": "I4eIa9CuJ1ao",
        "outputId": "e82c1303-ec10-4bcd-cfdb-d6057875ab84",
        "colab": {
          "base_uri": "https://localhost:8080/"
        }
      },
      "source": [
        "import random\n",
        "output = lambda state, lower_range, upper_range, number_of_plates : [state + str(random.randint(10,99)) + str(\"\".join(random.choice(string.ascii_uppercase) for k in range(2))) + str(random.randint(lower_range,upper_range)) for i in range(number_of_plates)]\n",
        "\n",
        "print(output('DL',1000,9999,15))"
      ],
      "execution_count": 111,
      "outputs": [
        {
          "output_type": "stream",
          "text": [
            "['DL10JY3954', 'DL89ZO2642', 'DL13NF6793', 'DL13YC2173', 'DL66OO8938', 'DL47MW5861', 'DL85SW2097', 'DL70XV8345', 'DL79JE9986', 'DL75XS9932', 'DL58HN2425', 'DL41MN6657', 'DL89XF5078', 'DL77EX5015', 'DL56AS8589']\n"
          ],
          "name": "stdout"
        }
      ]
    },
    {
      "cell_type": "code",
      "metadata": {
        "id": "v5sT2sVg1um5"
      },
      "source": [
        ""
      ],
      "execution_count": null,
      "outputs": []
    }
  ]
}