{
  "nbformat": 4,
  "nbformat_minor": 0,
  "metadata": {
    "kernelspec": {
      "display_name": "Python 3",
      "language": "python",
      "name": "python3"
    },
    "language_info": {
      "codemirror_mode": {
        "name": "ipython",
        "version": 3
      },
      "file_extension": ".py",
      "mimetype": "text/x-python",
      "name": "python",
      "nbconvert_exporter": "python",
      "pygments_lexer": "ipython3",
      "version": "3.7.0"
    },
    "colab": {
      "name": "2_Upgraded_Sentiment_Analysis_Assignment.ipynb",
      "provenance": [],
      "collapsed_sections": [],
      "machine_shape": "hm",
      "include_colab_link": true
    },
    "accelerator": "GPU"
  },
  "cells": [
    {
      "cell_type": "markdown",
      "metadata": {
        "id": "view-in-github",
        "colab_type": "text"
      },
      "source": [
        "<a href=\"https://colab.research.google.com/github/piyushjain220/TSAI/blob/main/NLP/Session4/Sentiment_Analysis_Assignment.ipynb\" target=\"_parent\"><img src=\"https://colab.research.google.com/assets/colab-badge.svg\" alt=\"Open In Colab\"/></a>"
      ]
    },
    {
      "cell_type": "markdown",
      "metadata": {
        "id": "5JRhIgDeSs45"
      },
      "source": [
        "# 2 - Updated Sentiment Analysis: Code Updated for Assignment 4\n",
        "\n",
        "**Change this code in such a way that:**\n",
        "\n",
        "- it has 3 LSTM layers\n",
        "- it has used a for loop to do so in the forward function\n",
        "- the dropout value used is 0.2\n",
        "- trained on the text that is reversed (for example \"my name is Rohan\" becomes \"Rohan is name my\"\n",
        "- achieves 87% or more accuracy\n",
        "- once done, share the Github link as well (after training on Google Colab, move the file to GitHub).\n"
      ]
    },
    {
      "cell_type": "code",
      "metadata": {
        "id": "BMFrAY9hSs46"
      },
      "source": [
        "import torch\n",
        "from torchtext import data\n",
        "from torchtext import datasets\n",
        "from functools import partial\n",
        "from tqdm import tqdm \n",
        "\n",
        "SEED = 1234\n",
        "\n",
        "torch.manual_seed(SEED)\n",
        "torch.backends.cudnn.deterministic = True\n",
        "\n",
        "TEXT = data.Field(tokenize = 'spacy', include_lengths = True)\n",
        "LABEL = data.LabelField(dtype = torch.float)\n",
        "tqdm = partial(tqdm, position=0, leave=True)"
      ],
      "execution_count": 1,
      "outputs": []
    },
    {
      "cell_type": "code",
      "metadata": {
        "id": "AZrOgGJ4Ss46"
      },
      "source": [
        "from torchtext import datasets\n",
        "\n",
        "train_data, test_data = datasets.IMDB.splits(TEXT, LABEL)"
      ],
      "execution_count": 2,
      "outputs": []
    },
    {
      "cell_type": "code",
      "metadata": {
        "id": "aTxdtNjSSs46"
      },
      "source": [
        "import random\n",
        "\n",
        "train_data, valid_data = train_data.split(random_state = random.seed(SEED))"
      ],
      "execution_count": 3,
      "outputs": []
    },
    {
      "cell_type": "code",
      "metadata": {
        "id": "HZk4FY_kSs46"
      },
      "source": [
        "MAX_VOCAB_SIZE = 25_000\n",
        "\n",
        "TEXT.build_vocab(train_data, \n",
        "                 max_size = MAX_VOCAB_SIZE, \n",
        "                 vectors = \"glove.6B.100d\", \n",
        "                 unk_init = torch.Tensor.normal_)\n",
        "\n",
        "LABEL.build_vocab(train_data)"
      ],
      "execution_count": 4,
      "outputs": []
    },
    {
      "cell_type": "code",
      "metadata": {
        "id": "l07mU3drSs46"
      },
      "source": [
        "BATCH_SIZE = 64\n",
        "\n",
        "device = torch.device('cuda' if torch.cuda.is_available() else 'cpu')\n",
        "\n",
        "train_iterator, valid_iterator, test_iterator = data.BucketIterator.splits(\n",
        "    (train_data, valid_data, test_data), \n",
        "    batch_size = BATCH_SIZE,\n",
        "    sort_within_batch = True,\n",
        "    device = device)"
      ],
      "execution_count": 5,
      "outputs": []
    },
    {
      "cell_type": "markdown",
      "metadata": {
        "id": "7c78rOWYSs46"
      },
      "source": [
        "## Build the Model"
      ]
    },
    {
      "cell_type": "code",
      "metadata": {
        "id": "AbzMppTxSs46"
      },
      "source": [
        "import torch.nn as nn\n",
        "import torch.nn.functional as F\n",
        "\n",
        "class RNN(nn.Module):\n",
        "    def __init__(self, vocab_size, embedding_dim, hidden_dim, output_dim, n_layers, bidirectional, dropout, pad_idx):\n",
        "        super(RNN,self).__init__()\n",
        "        \n",
        "        self.embedding = nn.Embedding(vocab_size, embedding_dim, padding_idx = pad_idx)\n",
        "        \n",
        "        self.rnn1 = nn.LSTM(embedding_dim, int(hidden_dim/4), bidirectional=bidirectional)        \n",
        "        self.rnn2 = nn.LSTM(int(hidden_dim/2), int(hidden_dim/4), bidirectional=bidirectional)        \n",
        "        self.rnn3 = nn.LSTM(int(hidden_dim/2), hidden_dim, bidirectional=bidirectional)\n",
        "        \n",
        "        self.rnns = [self.rnn1,self.rnn2,self.rnn3]\n",
        "        self.fc = nn.Linear(hidden_dim*2 , output_dim)        \n",
        "        self.dropout = nn.Dropout(dropout)       \n",
        "        \n",
        "    def forward(self, text, text_lengths):\n",
        "        embedded = self.dropout(self.embedding(text))\n",
        "        packed_embedded = nn.utils.rnn.pack_padded_sequence(embedded, text_lengths.cpu().numpy())\n",
        "        \n",
        "        pack_emb = packed_embedded\n",
        "        for lstm in self.rnns:\n",
        "          packed_output, (hidden, cell) = lstm(pack_emb)\n",
        "          pack_emb = packed_output\n",
        "\n",
        "        output, output_lengths = nn.utils.rnn.pad_packed_sequence(packed_output)\n",
        "        hidden = self.dropout(torch.cat((hidden[-2,:,:], hidden[-1,:,:]), dim = 1))\n",
        "\n",
        "        return self.fc(hidden)"
      ],
      "execution_count": 6,
      "outputs": []
    },
    {
      "cell_type": "code",
      "metadata": {
        "id": "N_AspI2PSs46"
      },
      "source": [
        "INPUT_DIM = len(TEXT.vocab)\n",
        "EMBEDDING_DIM = 100\n",
        "HIDDEN_DIM = 256\n",
        "OUTPUT_DIM = 1\n",
        "N_LAYERS = 1\n",
        "BIDIRECTIONAL = True\n",
        "DROPOUT = 0.2\n",
        "PAD_IDX = TEXT.vocab.stoi[TEXT.pad_token]\n",
        "\n",
        "model = RNN(INPUT_DIM, \n",
        "            EMBEDDING_DIM, \n",
        "            HIDDEN_DIM, \n",
        "            OUTPUT_DIM,\n",
        "            N_LAYERS,\n",
        "            BIDIRECTIONAL, \n",
        "            DROPOUT, \n",
        "            PAD_IDX)"
      ],
      "execution_count": 7,
      "outputs": []
    },
    {
      "cell_type": "code",
      "metadata": {
        "id": "6cjXJxYNSs46",
        "colab": {
          "base_uri": "https://localhost:8080/"
        },
        "outputId": "2cd9aa5e-2620-4c57-8f93-100877b7a514"
      },
      "source": [
        "def count_parameters(model):\n",
        "    return sum(p.numel() for p in model.parameters() if p.requires_grad)\n",
        "\n",
        "print(f'The model has {count_parameters(model):,} trainable parameters')"
      ],
      "execution_count": 8,
      "outputs": [
        {
          "output_type": "stream",
          "text": [
            "The model has 3,475,561 trainable parameters\n"
          ],
          "name": "stdout"
        }
      ]
    },
    {
      "cell_type": "code",
      "metadata": {
        "id": "r4BNUXFtSs47",
        "colab": {
          "base_uri": "https://localhost:8080/"
        },
        "outputId": "cd3223fb-bc1d-491c-c5ba-0d84d6bd6d8c"
      },
      "source": [
        "pretrained_embeddings = TEXT.vocab.vectors\n",
        "model.embedding.weight.data.copy_(pretrained_embeddings)\n",
        "UNK_IDX = TEXT.vocab.stoi[TEXT.unk_token]\n",
        "\n",
        "model.embedding.weight.data[UNK_IDX] = torch.zeros(EMBEDDING_DIM)\n",
        "model.embedding.weight.data[PAD_IDX] = torch.zeros(EMBEDDING_DIM)\n",
        "\n",
        "print(model.embedding.weight.data)"
      ],
      "execution_count": 9,
      "outputs": [
        {
          "output_type": "stream",
          "text": [
            "tensor([[ 0.0000,  0.0000,  0.0000,  ...,  0.0000,  0.0000,  0.0000],\n",
            "        [ 0.0000,  0.0000,  0.0000,  ...,  0.0000,  0.0000,  0.0000],\n",
            "        [-0.0382, -0.2449,  0.7281,  ..., -0.1459,  0.8278,  0.2706],\n",
            "        ...,\n",
            "        [-0.1830, -1.1160,  2.3601,  ..., -1.6465,  0.2431,  0.5666],\n",
            "        [-0.2326, -1.2659, -1.1949,  ...,  0.9952, -0.0324, -0.1769],\n",
            "        [-0.6184,  0.0806,  1.7381,  ...,  0.0445, -0.5604, -0.3227]])\n"
          ],
          "name": "stdout"
        }
      ]
    },
    {
      "cell_type": "markdown",
      "metadata": {
        "id": "WFW4LFHuSs48"
      },
      "source": [
        "## Train the Model"
      ]
    },
    {
      "cell_type": "code",
      "metadata": {
        "id": "XnfaqS5fSs48"
      },
      "source": [
        "import torch.optim as optim\n",
        "\n",
        "optimizer = optim.Adam(model.parameters(), weight_decay=1e-4)"
      ],
      "execution_count": 10,
      "outputs": []
    },
    {
      "cell_type": "code",
      "metadata": {
        "id": "eRCwi9KISs48"
      },
      "source": [
        "criterion = nn.BCEWithLogitsLoss()\n",
        "\n",
        "model = model.to(device)\n",
        "criterion = criterion.to(device)"
      ],
      "execution_count": 11,
      "outputs": []
    },
    {
      "cell_type": "code",
      "metadata": {
        "id": "kzYQD1BzSs48"
      },
      "source": [
        "def binary_accuracy(preds, y):\n",
        "    \"\"\"\n",
        "    Returns accuracy per batch, i.e. if you get 8/10 right, this returns 0.8, NOT 8\n",
        "    \"\"\"\n",
        "\n",
        "    #round predictions to the closest integer\n",
        "    rounded_preds = torch.round(torch.sigmoid(preds))\n",
        "    correct = (rounded_preds == y).float() #convert into float for division \n",
        "    acc = correct.sum() / len(correct)\n",
        "    return acc"
      ],
      "execution_count": 12,
      "outputs": []
    },
    {
      "cell_type": "code",
      "metadata": {
        "id": "GVyHFw93Ss48"
      },
      "source": [
        "def train(model, iterator, optimizer, criterion):\n",
        "    \n",
        "    epoch_loss = 0\n",
        "    epoch_acc = 0\n",
        "    \n",
        "    model.train()\n",
        "    \n",
        "    for _, batch in tqdm(enumerate(iterator), total=len(iterator)):\n",
        "        \n",
        "        optimizer.zero_grad()\n",
        "        \n",
        "        text, text_lengths = batch.text\n",
        "\n",
        "        reverse_text = torch.flip(text, [0])\n",
        "\n",
        "        combined_text = torch.cat([text, reverse_text], axis=1)\n",
        "        combined_labels = torch.cat([batch.label, batch.label])\n",
        "        combined_lengths = torch.cat([text_lengths, text_lengths])\n",
        "        \n",
        "        predictions = model(text, text_lengths).squeeze(1)\n",
        "        \n",
        "        loss = criterion(predictions, batch.label)\n",
        "        \n",
        "        acc = binary_accuracy(predictions, batch.label)\n",
        "        \n",
        "        loss.backward()\n",
        "        \n",
        "        optimizer.step()\n",
        "        \n",
        "        epoch_loss += loss.item()\n",
        "        epoch_acc += acc.item()\n",
        "        \n",
        "    return epoch_loss / len(iterator), epoch_acc / len(iterator)"
      ],
      "execution_count": 13,
      "outputs": []
    },
    {
      "cell_type": "code",
      "metadata": {
        "id": "_0D_FQR7Ss48"
      },
      "source": [
        "def evaluate(model, iterator, criterion):\n",
        "    \n",
        "    epoch_loss = 0\n",
        "    epoch_acc = 0\n",
        "    \n",
        "    model.eval()\n",
        "    \n",
        "    with torch.no_grad():\n",
        "    \n",
        "        for _, batch in tqdm(enumerate(iterator), total=len(iterator)):\n",
        "\n",
        "            text, text_lengths = batch.text\n",
        "            \n",
        "            predictions = model(text, text_lengths).squeeze(1)\n",
        "            \n",
        "            loss = criterion(predictions, batch.label)\n",
        "            \n",
        "            acc = binary_accuracy(predictions, batch.label)\n",
        "\n",
        "            epoch_loss += loss.item()\n",
        "            epoch_acc += acc.item()\n",
        "        \n",
        "    return epoch_loss / len(iterator), epoch_acc / len(iterator)"
      ],
      "execution_count": 14,
      "outputs": []
    },
    {
      "cell_type": "markdown",
      "metadata": {
        "id": "KMueEoHtSs48"
      },
      "source": [
        "And also create a nice function to tell us how long our epochs are taking."
      ]
    },
    {
      "cell_type": "code",
      "metadata": {
        "id": "5b0QbWTtSs48"
      },
      "source": [
        "import time\n",
        "\n",
        "def epoch_time(start_time, end_time):\n",
        "    elapsed_time = end_time - start_time\n",
        "    elapsed_mins = int(elapsed_time / 60)\n",
        "    elapsed_secs = int(elapsed_time - (elapsed_mins * 60))\n",
        "    return elapsed_mins, elapsed_secs"
      ],
      "execution_count": 15,
      "outputs": []
    },
    {
      "cell_type": "code",
      "metadata": {
        "colab": {
          "base_uri": "https://localhost:8080/"
        },
        "id": "B6maB4uHPio_",
        "outputId": "5d8562ec-0a58-4564-db46-5be5070e041d"
      },
      "source": [
        "print(model)"
      ],
      "execution_count": 16,
      "outputs": [
        {
          "output_type": "stream",
          "text": [
            "RNN(\n",
            "  (embedding): Embedding(25002, 100, padding_idx=1)\n",
            "  (rnn1): LSTM(100, 64, bidirectional=True)\n",
            "  (rnn2): LSTM(128, 64, bidirectional=True)\n",
            "  (rnn3): LSTM(128, 256, bidirectional=True)\n",
            "  (fc): Linear(in_features=512, out_features=1, bias=True)\n",
            "  (dropout): Dropout(p=0.2, inplace=False)\n",
            ")\n"
          ],
          "name": "stdout"
        }
      ]
    },
    {
      "cell_type": "markdown",
      "metadata": {
        "id": "GT8qH5YhSs48"
      },
      "source": [
        "Finally, we train our model..."
      ]
    },
    {
      "cell_type": "code",
      "metadata": {
        "id": "huiiNXY2Ss48",
        "colab": {
          "base_uri": "https://localhost:8080/"
        },
        "outputId": "65e37213-2934-474e-d08e-4db2f3b051f8"
      },
      "source": [
        "N_EPOCHS = 20\n",
        "\n",
        "best_valid_loss = float('inf')\n",
        "\n",
        "for epoch in range(N_EPOCHS):\n",
        "\n",
        "    start_time = time.time()\n",
        "    \n",
        "    train_loss, train_acc = train(model, train_iterator, optimizer, criterion)\n",
        "    valid_loss, valid_acc = evaluate(model, valid_iterator, criterion)\n",
        "    \n",
        "    end_time = time.time()\n",
        "\n",
        "    epoch_mins, epoch_secs = epoch_time(start_time, end_time)\n",
        "    \n",
        "    if valid_loss < best_valid_loss:\n",
        "        best_valid_loss = valid_loss\n",
        "        torch.save(model.state_dict(), 'tut2-model.pt')\n",
        "    \n",
        "    print(f'Epoch: {epoch+1:02} | Epoch Time: {epoch_mins}m {epoch_secs}s')\n",
        "    print(f'\\tTrain Loss: {train_loss:.3f} | Train Acc: {train_acc*100:.2f}%')\n",
        "    print(f'\\t Val. Loss: {valid_loss:.3f} |  Val. Acc: {valid_acc*100:.2f}%')"
      ],
      "execution_count": 17,
      "outputs": [
        {
          "output_type": "stream",
          "text": [
            "100%|██████████| 274/274 [00:22<00:00, 12.27it/s]\n",
            "100%|██████████| 118/118 [00:04<00:00, 25.92it/s]\n",
            "  0%|          | 0/274 [00:00<?, ?it/s]"
          ],
          "name": "stderr"
        },
        {
          "output_type": "stream",
          "text": [
            "Epoch: 01 | Epoch Time: 0m 26s\n",
            "\tTrain Loss: 0.635 | Train Acc: 62.25%\n",
            "\t Val. Loss: 0.622 |  Val. Acc: 66.17%\n"
          ],
          "name": "stdout"
        },
        {
          "output_type": "stream",
          "text": [
            "100%|██████████| 274/274 [00:22<00:00, 12.19it/s]\n",
            "100%|██████████| 118/118 [00:04<00:00, 26.01it/s]\n",
            "  1%|          | 2/274 [00:00<00:15, 17.52it/s]"
          ],
          "name": "stderr"
        },
        {
          "output_type": "stream",
          "text": [
            "Epoch: 02 | Epoch Time: 0m 27s\n",
            "\tTrain Loss: 0.509 | Train Acc: 75.32%\n",
            "\t Val. Loss: 0.391 |  Val. Acc: 83.55%\n"
          ],
          "name": "stdout"
        },
        {
          "output_type": "stream",
          "text": [
            "100%|██████████| 274/274 [00:22<00:00, 12.11it/s]\n",
            "100%|██████████| 118/118 [00:04<00:00, 25.67it/s]\n",
            "  1%|          | 2/274 [00:00<00:22, 11.85it/s]"
          ],
          "name": "stderr"
        },
        {
          "output_type": "stream",
          "text": [
            "Epoch: 03 | Epoch Time: 0m 27s\n",
            "\tTrain Loss: 0.433 | Train Acc: 80.45%\n",
            "\t Val. Loss: 0.369 |  Val. Acc: 84.58%\n"
          ],
          "name": "stdout"
        },
        {
          "output_type": "stream",
          "text": [
            "100%|██████████| 274/274 [00:22<00:00, 12.02it/s]\n",
            "100%|██████████| 118/118 [00:05<00:00, 23.45it/s]\n",
            "  0%|          | 0/274 [00:00<?, ?it/s]"
          ],
          "name": "stderr"
        },
        {
          "output_type": "stream",
          "text": [
            "Epoch: 04 | Epoch Time: 0m 27s\n",
            "\tTrain Loss: 0.350 | Train Acc: 85.13%\n",
            "\t Val. Loss: 0.330 |  Val. Acc: 85.74%\n"
          ],
          "name": "stdout"
        },
        {
          "output_type": "stream",
          "text": [
            "100%|██████████| 274/274 [00:22<00:00, 12.04it/s]\n",
            "100%|██████████| 118/118 [00:04<00:00, 25.68it/s]\n",
            "  1%|          | 2/274 [00:00<00:21, 12.87it/s]"
          ],
          "name": "stderr"
        },
        {
          "output_type": "stream",
          "text": [
            "Epoch: 05 | Epoch Time: 0m 27s\n",
            "\tTrain Loss: 0.327 | Train Acc: 85.99%\n",
            "\t Val. Loss: 0.403 |  Val. Acc: 83.64%\n"
          ],
          "name": "stdout"
        },
        {
          "output_type": "stream",
          "text": [
            "100%|██████████| 274/274 [00:23<00:00, 11.91it/s]\n",
            "100%|██████████| 118/118 [00:04<00:00, 24.95it/s]\n",
            "  1%|          | 2/274 [00:00<00:17, 15.26it/s]"
          ],
          "name": "stderr"
        },
        {
          "output_type": "stream",
          "text": [
            "Epoch: 06 | Epoch Time: 0m 27s\n",
            "\tTrain Loss: 0.258 | Train Acc: 89.81%\n",
            "\t Val. Loss: 0.297 |  Val. Acc: 88.69%\n"
          ],
          "name": "stdout"
        },
        {
          "output_type": "stream",
          "text": [
            "100%|██████████| 274/274 [00:22<00:00, 11.97it/s]\n",
            "100%|██████████| 118/118 [00:04<00:00, 25.41it/s]\n",
            "  0%|          | 0/274 [00:00<?, ?it/s]"
          ],
          "name": "stderr"
        },
        {
          "output_type": "stream",
          "text": [
            "Epoch: 07 | Epoch Time: 0m 27s\n",
            "\tTrain Loss: 0.258 | Train Acc: 89.96%\n",
            "\t Val. Loss: 0.313 |  Val. Acc: 86.94%\n"
          ],
          "name": "stdout"
        },
        {
          "output_type": "stream",
          "text": [
            "100%|██████████| 274/274 [00:22<00:00, 11.96it/s]\n",
            "100%|██████████| 118/118 [00:04<00:00, 25.35it/s]\n",
            "  1%|          | 2/274 [00:00<00:18, 14.59it/s]"
          ],
          "name": "stderr"
        },
        {
          "output_type": "stream",
          "text": [
            "Epoch: 08 | Epoch Time: 0m 27s\n",
            "\tTrain Loss: 0.212 | Train Acc: 92.03%\n",
            "\t Val. Loss: 0.286 |  Val. Acc: 88.68%\n"
          ],
          "name": "stdout"
        },
        {
          "output_type": "stream",
          "text": [
            "100%|██████████| 274/274 [00:22<00:00, 11.99it/s]\n",
            "100%|██████████| 118/118 [00:04<00:00, 25.57it/s]\n",
            "  0%|          | 1/274 [00:00<00:39,  7.00it/s]"
          ],
          "name": "stderr"
        },
        {
          "output_type": "stream",
          "text": [
            "Epoch: 09 | Epoch Time: 0m 27s\n",
            "\tTrain Loss: 0.188 | Train Acc: 92.92%\n",
            "\t Val. Loss: 0.282 |  Val. Acc: 88.90%\n"
          ],
          "name": "stdout"
        },
        {
          "output_type": "stream",
          "text": [
            "100%|██████████| 274/274 [00:22<00:00, 12.00it/s]\n",
            "100%|██████████| 118/118 [00:04<00:00, 24.76it/s]\n",
            "  0%|          | 1/274 [00:00<00:27,  9.85it/s]"
          ],
          "name": "stderr"
        },
        {
          "output_type": "stream",
          "text": [
            "Epoch: 10 | Epoch Time: 0m 27s\n",
            "\tTrain Loss: 0.170 | Train Acc: 93.86%\n",
            "\t Val. Loss: 0.307 |  Val. Acc: 88.37%\n"
          ],
          "name": "stdout"
        },
        {
          "output_type": "stream",
          "text": [
            "100%|██████████| 274/274 [00:23<00:00, 11.86it/s]\n",
            "100%|██████████| 118/118 [00:04<00:00, 25.22it/s]\n",
            "  0%|          | 1/274 [00:00<00:50,  5.41it/s]"
          ],
          "name": "stderr"
        },
        {
          "output_type": "stream",
          "text": [
            "Epoch: 11 | Epoch Time: 0m 27s\n",
            "\tTrain Loss: 0.133 | Train Acc: 95.41%\n",
            "\t Val. Loss: 0.326 |  Val. Acc: 88.54%\n"
          ],
          "name": "stdout"
        },
        {
          "output_type": "stream",
          "text": [
            "100%|██████████| 274/274 [00:22<00:00, 11.94it/s]\n",
            "100%|██████████| 118/118 [00:04<00:00, 25.73it/s]\n",
            "  1%|          | 2/274 [00:00<00:25, 10.68it/s]"
          ],
          "name": "stderr"
        },
        {
          "output_type": "stream",
          "text": [
            "Epoch: 12 | Epoch Time: 0m 27s\n",
            "\tTrain Loss: 0.111 | Train Acc: 96.22%\n",
            "\t Val. Loss: 0.358 |  Val. Acc: 88.45%\n"
          ],
          "name": "stdout"
        },
        {
          "output_type": "stream",
          "text": [
            "100%|██████████| 274/274 [00:22<00:00, 12.29it/s]\n",
            "100%|██████████| 118/118 [00:04<00:00, 26.34it/s]\n",
            "  1%|          | 2/274 [00:00<00:19, 14.10it/s]"
          ],
          "name": "stderr"
        },
        {
          "output_type": "stream",
          "text": [
            "Epoch: 13 | Epoch Time: 0m 26s\n",
            "\tTrain Loss: 0.110 | Train Acc: 96.24%\n",
            "\t Val. Loss: 0.334 |  Val. Acc: 88.53%\n"
          ],
          "name": "stdout"
        },
        {
          "output_type": "stream",
          "text": [
            "100%|██████████| 274/274 [00:22<00:00, 12.12it/s]\n",
            "100%|██████████| 118/118 [00:04<00:00, 25.77it/s]\n",
            "  1%|          | 2/274 [00:00<00:21, 12.62it/s]"
          ],
          "name": "stderr"
        },
        {
          "output_type": "stream",
          "text": [
            "Epoch: 14 | Epoch Time: 0m 27s\n",
            "\tTrain Loss: 0.085 | Train Acc: 97.20%\n",
            "\t Val. Loss: 0.398 |  Val. Acc: 88.50%\n"
          ],
          "name": "stdout"
        },
        {
          "output_type": "stream",
          "text": [
            "100%|██████████| 274/274 [00:22<00:00, 11.96it/s]\n",
            "100%|██████████| 118/118 [00:04<00:00, 25.31it/s]\n",
            "  1%|          | 2/274 [00:00<00:21, 12.46it/s]"
          ],
          "name": "stderr"
        },
        {
          "output_type": "stream",
          "text": [
            "Epoch: 15 | Epoch Time: 0m 27s\n",
            "\tTrain Loss: 0.076 | Train Acc: 97.53%\n",
            "\t Val. Loss: 0.392 |  Val. Acc: 88.94%\n"
          ],
          "name": "stdout"
        },
        {
          "output_type": "stream",
          "text": [
            "100%|██████████| 274/274 [00:22<00:00, 12.02it/s]\n",
            "100%|██████████| 118/118 [00:04<00:00, 25.68it/s]\n",
            "  1%|          | 2/274 [00:00<00:14, 18.92it/s]"
          ],
          "name": "stderr"
        },
        {
          "output_type": "stream",
          "text": [
            "Epoch: 16 | Epoch Time: 0m 27s\n",
            "\tTrain Loss: 0.069 | Train Acc: 97.83%\n",
            "\t Val. Loss: 0.409 |  Val. Acc: 88.64%\n"
          ],
          "name": "stdout"
        },
        {
          "output_type": "stream",
          "text": [
            "100%|██████████| 274/274 [00:22<00:00, 12.21it/s]\n",
            "100%|██████████| 118/118 [00:04<00:00, 25.83it/s]\n",
            "  1%|          | 2/274 [00:00<00:19, 13.95it/s]"
          ],
          "name": "stderr"
        },
        {
          "output_type": "stream",
          "text": [
            "Epoch: 17 | Epoch Time: 0m 27s\n",
            "\tTrain Loss: 0.071 | Train Acc: 97.66%\n",
            "\t Val. Loss: 0.463 |  Val. Acc: 87.79%\n"
          ],
          "name": "stdout"
        },
        {
          "output_type": "stream",
          "text": [
            "100%|██████████| 274/274 [00:22<00:00, 12.09it/s]\n",
            "100%|██████████| 118/118 [00:04<00:00, 26.07it/s]\n",
            "  1%|          | 2/274 [00:00<00:13, 19.55it/s]"
          ],
          "name": "stderr"
        },
        {
          "output_type": "stream",
          "text": [
            "Epoch: 18 | Epoch Time: 0m 27s\n",
            "\tTrain Loss: 0.061 | Train Acc: 98.03%\n",
            "\t Val. Loss: 0.377 |  Val. Acc: 88.70%\n"
          ],
          "name": "stdout"
        },
        {
          "output_type": "stream",
          "text": [
            "100%|██████████| 274/274 [00:22<00:00, 12.07it/s]\n",
            "100%|██████████| 118/118 [00:04<00:00, 26.02it/s]\n",
            "  0%|          | 1/274 [00:00<00:30,  8.92it/s]"
          ],
          "name": "stderr"
        },
        {
          "output_type": "stream",
          "text": [
            "Epoch: 19 | Epoch Time: 0m 27s\n",
            "\tTrain Loss: 0.051 | Train Acc: 98.51%\n",
            "\t Val. Loss: 0.417 |  Val. Acc: 87.93%\n"
          ],
          "name": "stdout"
        },
        {
          "output_type": "stream",
          "text": [
            "100%|██████████| 274/274 [00:22<00:00, 12.31it/s]\n",
            "100%|██████████| 118/118 [00:04<00:00, 27.18it/s]"
          ],
          "name": "stderr"
        },
        {
          "output_type": "stream",
          "text": [
            "Epoch: 20 | Epoch Time: 0m 26s\n",
            "\tTrain Loss: 0.054 | Train Acc: 98.20%\n",
            "\t Val. Loss: 0.445 |  Val. Acc: 87.85%\n"
          ],
          "name": "stdout"
        },
        {
          "output_type": "stream",
          "text": [
            "\n"
          ],
          "name": "stderr"
        }
      ]
    },
    {
      "cell_type": "code",
      "metadata": {
        "id": "EWXTU9MDSs48",
        "colab": {
          "base_uri": "https://localhost:8080/"
        },
        "outputId": "062b9b83-cbf5-4b42-b2bd-d9a81a01628c"
      },
      "source": [
        "model.load_state_dict(torch.load('tut2-model.pt'))\n",
        "\n",
        "test_loss, test_acc = evaluate(model, test_iterator, criterion)\n",
        "\n",
        "print(f'Test Loss: {test_loss:.3f} | Test Acc: {test_acc*100:.2f}%')"
      ],
      "execution_count": 18,
      "outputs": [
        {
          "output_type": "stream",
          "text": [
            "100%|██████████| 391/391 [00:13<00:00, 28.65it/s]"
          ],
          "name": "stderr"
        },
        {
          "output_type": "stream",
          "text": [
            "Test Loss: 0.295 | Test Acc: 88.20%\n"
          ],
          "name": "stdout"
        },
        {
          "output_type": "stream",
          "text": [
            "\n"
          ],
          "name": "stderr"
        }
      ]
    },
    {
      "cell_type": "markdown",
      "metadata": {
        "id": "ZWMMFujhSs48"
      },
      "source": [
        "## User Input"
      ]
    },
    {
      "cell_type": "code",
      "metadata": {
        "id": "MQDUpmKxSs48"
      },
      "source": [
        "import spacy\n",
        "nlp = spacy.load('en')\n",
        "\n",
        "def predict_sentiment(model, sentence):\n",
        "    model.eval()\n",
        "    tokenized = [tok.text for tok in nlp.tokenizer(sentence)]\n",
        "    indexed = [TEXT.vocab.stoi[t] for t in tokenized]\n",
        "    length = [len(indexed)]\n",
        "    tensor = torch.LongTensor(indexed).to(device)\n",
        "    tensor = tensor.unsqueeze(1)\n",
        "    length_tensor = torch.LongTensor(length)\n",
        "    prediction = torch.sigmoid(model(tensor, length_tensor))\n",
        "    return prediction.item()"
      ],
      "execution_count": 19,
      "outputs": []
    },
    {
      "cell_type": "markdown",
      "metadata": {
        "id": "zqKtpXofSs48"
      },
      "source": [
        "An example negative review..."
      ]
    },
    {
      "cell_type": "code",
      "metadata": {
        "id": "04VWg7g_Ss48",
        "colab": {
          "base_uri": "https://localhost:8080/"
        },
        "outputId": "6e0c6905-b9dd-41be-a368-1643b0cf8a91"
      },
      "source": [
        "predict_sentiment(model, \"This film is terrible\")"
      ],
      "execution_count": 20,
      "outputs": [
        {
          "output_type": "execute_result",
          "data": {
            "text/plain": [
              "0.016976863145828247"
            ]
          },
          "metadata": {
            "tags": []
          },
          "execution_count": 20
        }
      ]
    },
    {
      "cell_type": "markdown",
      "metadata": {
        "id": "KDrIebFHSs48"
      },
      "source": [
        "An example positive review..."
      ]
    },
    {
      "cell_type": "code",
      "metadata": {
        "id": "-Q0cCZr0Ss48",
        "colab": {
          "base_uri": "https://localhost:8080/"
        },
        "outputId": "1d13d43d-98f5-4fe7-824a-048b5f0431d8"
      },
      "source": [
        "predict_sentiment(model, \"This film is great\")"
      ],
      "execution_count": 21,
      "outputs": [
        {
          "output_type": "execute_result",
          "data": {
            "text/plain": [
              "0.9975478053092957"
            ]
          },
          "metadata": {
            "tags": []
          },
          "execution_count": 21
        }
      ]
    },
    {
      "cell_type": "markdown",
      "metadata": {
        "id": "L_xIAToLSs49"
      },
      "source": [
        "## Next Steps\n",
        "\n",
        "We've now built a decent sentiment analysis model for movie reviews! In the next notebook we'll implement a model that gets comparable accuracy with far fewer parameters and trains much, much faster."
      ]
    },
    {
      "cell_type": "code",
      "metadata": {
        "id": "9OYGIcOpYRc-"
      },
      "source": [
        ""
      ],
      "execution_count": 21,
      "outputs": []
    }
  ]
}