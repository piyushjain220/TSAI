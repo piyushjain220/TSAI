{
  "nbformat": 4,
  "nbformat_minor": 0,
  "metadata": {
    "colab": {
      "name": "Python Assignment Codes.ipynb",
      "provenance": [],
      "collapsed_sections": [],
      "include_colab_link": true
    },
    "kernelspec": {
      "name": "python3",
      "display_name": "Python 3"
    },
    "accelerator": "GPU"
  },
  "cells": [
    {
      "cell_type": "markdown",
      "metadata": {
        "id": "view-in-github",
        "colab_type": "text"
      },
      "source": [
        "<a href=\"https://colab.research.google.com/github/piyushjain220/TSAI/blob/main/NLP/Session8/Python_Assignment_Codes.ipynb\" target=\"_parent\"><img src=\"https://colab.research.google.com/assets/colab-badge.svg\" alt=\"Open In Colab\"/></a>"
      ]
    },
    {
      "cell_type": "code",
      "metadata": {
        "id": "Z20mHv19jajb",
        "colab": {
          "base_uri": "https://localhost:8080/"
        },
        "outputId": "45cc378d-3fd0-4263-d13d-416f426038b7"
      },
      "source": [
        "# Given a string, find the length of the longest substring without repeating characters.\r\n",
        "str = \"piyushjain\"\r\n",
        "\r\n",
        "def longest_non_repeat(str):   \r\n",
        "    i=0\r\n",
        "    max_length = 1\r\n",
        "\r\n",
        "    for i,c in enumerate(str):       \r\n",
        "        start_at = i\r\n",
        "        sub_str=[]         \r\n",
        "        while (start_at < len(str)) and (str[start_at] not in sub_str):\r\n",
        "            sub_str.append(str[start_at])\r\n",
        "            start_at = start_at + 1\r\n",
        "        if len(sub_str) > max_length:\r\n",
        "            max_length = len(sub_str)\r\n",
        "        print(sub_str)\r\n",
        "    return max_length\r\n",
        "\r\n",
        "longest_non_repeat(str)"
      ],
      "execution_count": 1,
      "outputs": [
        {
          "output_type": "stream",
          "text": [
            "['p', 'i', 'y', 'u', 's', 'h', 'j', 'a']\n",
            "['i', 'y', 'u', 's', 'h', 'j', 'a']\n",
            "['y', 'u', 's', 'h', 'j', 'a', 'i', 'n']\n",
            "['u', 's', 'h', 'j', 'a', 'i', 'n']\n",
            "['s', 'h', 'j', 'a', 'i', 'n']\n",
            "['h', 'j', 'a', 'i', 'n']\n",
            "['j', 'a', 'i', 'n']\n",
            "['a', 'i', 'n']\n",
            "['i', 'n']\n",
            "['n']\n"
          ],
          "name": "stdout"
        },
        {
          "output_type": "execute_result",
          "data": {
            "text/plain": [
              "8"
            ]
          },
          "metadata": {
            "tags": []
          },
          "execution_count": 1
        }
      ]
    },
    {
      "cell_type": "code",
      "metadata": {
        "id": "zFX8t5gcjabq",
        "colab": {
          "base_uri": "https://localhost:8080/"
        },
        "outputId": "2f4221fe-278f-4c4f-e172-3f824b68cbe1"
      },
      "source": [
        "# Given an array of integers, return indices of the two numbers such that they add up to a specific target.\r\n",
        "input_array = [2, 7, 11, 15]\r\n",
        "target = 26\r\n",
        "result = []\r\n",
        "\r\n",
        "for i, num in enumerate(input_array):\r\n",
        "    for j in range(i+1, len(input_array)):\r\n",
        "        print(i,j)"
      ],
      "execution_count": 2,
      "outputs": [
        {
          "output_type": "stream",
          "text": [
            "0 1\n",
            "0 2\n",
            "0 3\n",
            "1 2\n",
            "1 3\n",
            "2 3\n"
          ],
          "name": "stdout"
        }
      ]
    },
    {
      "cell_type": "code",
      "metadata": {
        "id": "jUPBz4owjaTO",
        "colab": {
          "base_uri": "https://localhost:8080/"
        },
        "outputId": "bb7beaf6-5144-4490-c3e7-15890be3d5fb"
      },
      "source": [
        "# Given a sorted integer array without duplicates, return the summary of its ranges.\r\n",
        "input_array = [0,1,2,4,5,7]\r\n",
        "start=0\r\n",
        "result = []\r\n",
        "while start < len(input_array):\r\n",
        "    end = start \r\n",
        "    while end+1<len(input_array) and ((input_array[end+1] - input_array[end]) == 1):\r\n",
        "        end = end + 1\r\n",
        "    if end!=start:\r\n",
        "        result.append(\"{0}-->{1}\".format(input_array[start], input_array[end]))\r\n",
        "        print(result)\r\n",
        "    else:\r\n",
        "        result.append(\"{0}\".format(input_array[start]))\r\n",
        "        print(result)\r\n",
        "    start = end+1\r\n",
        "\r\n",
        "print(result)"
      ],
      "execution_count": 3,
      "outputs": [
        {
          "output_type": "stream",
          "text": [
            "['0-->2']\n",
            "['0-->2', '4-->5']\n",
            "['0-->2', '4-->5', '7']\n",
            "['0-->2', '4-->5', '7']\n"
          ],
          "name": "stdout"
        }
      ]
    },
    {
      "cell_type": "code",
      "metadata": {
        "id": "V-hUvng_jaLa",
        "colab": {
          "base_uri": "https://localhost:8080/"
        },
        "outputId": "993d4137-52f1-4f98-e375-7e8118e54656"
      },
      "source": [
        "# Rotate an array of n elements to the right by k steps.\r\n",
        "org = [1,2,3,4,5,6,7]\r\n",
        "result = org[:]\r\n",
        "steps = 3\r\n",
        "\r\n",
        "for idx,num in enumerate(org):\r\n",
        "    if idx+steps < len(org):\r\n",
        "        result[idx+steps] = org[idx]\r\n",
        "    else:\r\n",
        "        result[idx+steps-len(org)] = org[idx]\r\n",
        "\r\n",
        "print(result)"
      ],
      "execution_count": 4,
      "outputs": [
        {
          "output_type": "stream",
          "text": [
            "[5, 6, 7, 1, 2, 3, 4]\n"
          ],
          "name": "stdout"
        }
      ]
    },
    {
      "cell_type": "code",
      "metadata": {
        "id": "FIPVAkkdjaBB",
        "colab": {
          "base_uri": "https://localhost:8080/"
        },
        "outputId": "838cad4a-aeb9-4e93-ecc8-693638d94d71"
      },
      "source": [
        "# Consider an array of non-negative integers. A second array is formed by shuffling the elements of the first array and deleting a random element. Given these two arrays, find which element is missing in the second array.\r\n",
        "first_array = [1,2,3,4,5,6,7]\r\n",
        "second_array = [3,7,2,1,4,6]\r\n",
        "\r\n",
        "def finder(first_array, second_array):\r\n",
        "    return(sum(first_array) - sum(second_array))\r\n",
        "\r\n",
        "missing_number = finder(first_array, second_array)\r\n",
        "\r\n",
        "print(missing_number)"
      ],
      "execution_count": 5,
      "outputs": [
        {
          "output_type": "stream",
          "text": [
            "5\n"
          ],
          "name": "stdout"
        }
      ]
    },
    {
      "cell_type": "code",
      "metadata": {
        "id": "jzYUqvGLjl2f",
        "colab": {
          "base_uri": "https://localhost:8080/"
        },
        "outputId": "4f28934f-4b11-49c0-de08-034bb199c9de"
      },
      "source": [
        "# Given a collection of intervals which are already sorted by start number, merge all overlapping intervals.\r\n",
        "org_intervals = [[1,3],[2,6],[5,10],[11,16],[15,18],[19,22]]\r\n",
        "i = 0\r\n",
        "while i < len(org_intervals)-1:\r\n",
        "    if org_intervals[i+1][0] < org_intervals[i][1]:\r\n",
        "        org_intervals[i][1]=org_intervals[i+1][1]\r\n",
        "        del org_intervals[i+1]\r\n",
        "        i = i - 1\r\n",
        "    i = i + 1\r\n",
        "print(org_intervals)"
      ],
      "execution_count": 6,
      "outputs": [
        {
          "output_type": "stream",
          "text": [
            "[[1, 10], [11, 18], [19, 22]]\n"
          ],
          "name": "stdout"
        }
      ]
    },
    {
      "cell_type": "code",
      "metadata": {
        "colab": {
          "base_uri": "https://localhost:8080/"
        },
        "id": "2u_5F4EsvJYv",
        "outputId": "2a76e1ee-d0c0-4de2-949e-083919a6daa5"
      },
      "source": [
        "# Given a list slice it into a 3 equal chunks and revert each list\r\n",
        "sampleList = [11, 45, 8, 23, 14, 12, 78, 45, 89]\r\n",
        "\r\n",
        "length = len(sampleList)\r\n",
        "chunkSize  = int(length/3)\r\n",
        "start = 0\r\n",
        "end = chunkSize\r\n",
        "for i in range(1, 4, 1):\r\n",
        "  indexes = slice(start, end, 1)\r\n",
        "  listChunk = sampleList[indexes]\r\n",
        "  mylist = [i for i in listChunk]\r\n",
        "  print(\"After reversing it \", mylist)\r\n",
        "  start = end\r\n",
        "  if(i != 2):\r\n",
        "    end +=chunkSize\r\n",
        "  else:\r\n",
        "    end += length - chunkSize"
      ],
      "execution_count": 7,
      "outputs": [
        {
          "output_type": "stream",
          "text": [
            "After reversing it  [11, 45, 8]\n",
            "After reversing it  [23, 14, 12]\n",
            "After reversing it  [78, 45, 89]\n"
          ],
          "name": "stdout"
        }
      ]
    },
    {
      "cell_type": "code",
      "metadata": {
        "colab": {
          "base_uri": "https://localhost:8080/"
        },
        "id": "9fWQvL4mvjMC",
        "outputId": "570d0da4-6efb-431d-fa00-2e7b004ff304"
      },
      "source": [
        "# write a program to calculate exponents of an input\r\n",
        "input = 9\r\n",
        "exponent = 2\r\n",
        "final = pow(input, exponent)\r\n",
        "print(f'Exponent Value is:{final}')"
      ],
      "execution_count": 8,
      "outputs": [
        {
          "output_type": "stream",
          "text": [
            "Exponent Value is:81\n"
          ],
          "name": "stdout"
        }
      ]
    },
    {
      "cell_type": "code",
      "metadata": {
        "colab": {
          "base_uri": "https://localhost:8080/"
        },
        "id": "2gaJwM2IvlMo",
        "outputId": "53f70ddc-47ba-4b75-9f38-2dc61a19addf"
      },
      "source": [
        "# write a program to multiply two Matrix \r\n",
        "# 3x3 matrix\r\n",
        "X = [[12,7,3],\r\n",
        "    [4 ,5,6],\r\n",
        "    [7 ,8,9]]\r\n",
        "# 3x4 matrix\r\n",
        "Y = [[5,8,1,2],\r\n",
        "    [6,7,3,0],\r\n",
        "    [4,5,9,1]]\r\n",
        "# result is 3x4\r\n",
        "result = [[0,0,0,0],\r\n",
        "         [0,0,0,0],\r\n",
        "         [0,0,0,0]]\r\n",
        "\r\n",
        "# iterate through rows of X\r\n",
        "for i in range(len(X)):\r\n",
        "   # iterate through columns of Y\r\n",
        "   for j in range(len(Y[0])):\r\n",
        "       # iterate through rows of Y\r\n",
        "       for k in range(len(Y)):\r\n",
        "           result[i][j] += X[i][k] * Y[k][j]\r\n",
        "print(f\"Final Result is{result}\")"
      ],
      "execution_count": 9,
      "outputs": [
        {
          "output_type": "stream",
          "text": [
            "Final Result is[[114, 160, 60, 27], [74, 97, 73, 14], [119, 157, 112, 23]]\n"
          ],
          "name": "stdout"
        }
      ]
    },
    {
      "cell_type": "code",
      "metadata": {
        "colab": {
          "base_uri": "https://localhost:8080/"
        },
        "id": "JCIobW3pvnFi",
        "outputId": "c3cb10e6-3f4a-42d6-ee56-34441d370086"
      },
      "source": [
        "# write a program to find and print the remainder of two number\r\n",
        "\r\n",
        "num1 = 12\r\n",
        "num2 = 10\r\n",
        "\r\n",
        "ratio = num1 % num2\r\n",
        "print(f'remainder:{ratio}')"
      ],
      "execution_count": 10,
      "outputs": [
        {
          "output_type": "stream",
          "text": [
            "remainder:2\n"
          ],
          "name": "stdout"
        }
      ]
    },
    {
      "cell_type": "code",
      "metadata": {
        "colab": {
          "base_uri": "https://localhost:8080/"
        },
        "id": "02u7nlbqyOtD",
        "outputId": "ba86701f-9b84-49ea-e9c2-2c5842c2a23b"
      },
      "source": [
        "# reverse a number in Python\r\n",
        "number = 1367891\r\n",
        "revs_number = 0  \r\n",
        "while (number > 0):\r\n",
        "  remainder = number % 10\r\n",
        "  revs_number = (revs_number * 10) + remainder\r\n",
        "  number = number // 10\r\n",
        "print(\"The reverse number is : {}\".format(revs_number)) "
      ],
      "execution_count": 11,
      "outputs": [
        {
          "output_type": "stream",
          "text": [
            "The reverse number is : 1987631\n"
          ],
          "name": "stdout"
        }
      ]
    },
    {
      "cell_type": "code",
      "metadata": {
        "colab": {
          "base_uri": "https://localhost:8080/"
        },
        "id": "blMhOuu2zETy",
        "outputId": "df5451a4-c3d5-4a35-d545-af2dd5dbb8d2"
      },
      "source": [
        "# Python program to compute sum of digits in number\r\n",
        "def sumDigits(no):  \r\n",
        "    return 0 if no == 0 else int(no % 10) + sumDigits(int(no / 10))   \r\n",
        "n = 1234511\r\n",
        "print(sumDigits(n))"
      ],
      "execution_count": 12,
      "outputs": [
        {
          "output_type": "stream",
          "text": [
            "17\n"
          ],
          "name": "stdout"
        }
      ]
    },
    {
      "cell_type": "code",
      "metadata": {
        "colab": {
          "base_uri": "https://localhost:8080/"
        },
        "id": "o1QTe4Uo0MI3",
        "outputId": "2e358102-e849-413d-ee97-fe044e3bf30b"
      },
      "source": [
        "# Find the middle element of a random number list\r\n",
        "my_list = [4,3,2,9,10,44,1]\r\n",
        "print(\"mid value is \",my_list[int(len(my_list)/2)])"
      ],
      "execution_count": 13,
      "outputs": [
        {
          "output_type": "stream",
          "text": [
            "mid value is  9\n"
          ],
          "name": "stdout"
        }
      ]
    },
    {
      "cell_type": "code",
      "metadata": {
        "colab": {
          "base_uri": "https://localhost:8080/"
        },
        "id": "TFWKkKiE0tyH",
        "outputId": "7bf820ad-af5e-4ea2-96a2-4da38e8f111d"
      },
      "source": [
        "# Sort the list in ascending order\r\n",
        "my_list = [4,3,2,9,10,44,1]\r\n",
        "my_list.sort()\r\n",
        "print(f\"Ascending Order list:,{my_list}\")"
      ],
      "execution_count": 14,
      "outputs": [
        {
          "output_type": "stream",
          "text": [
            "Ascending Order list:,[1, 2, 3, 4, 9, 10, 44]\n"
          ],
          "name": "stdout"
        }
      ]
    },
    {
      "cell_type": "code",
      "metadata": {
        "colab": {
          "base_uri": "https://localhost:8080/"
        },
        "id": "M0cQh1Cj1N_T",
        "outputId": "786455fc-df38-401c-9048-7c61f2a83b28"
      },
      "source": [
        "# Sort the list in descending order\r\n",
        "my_list = [4,3,2,9,10,44,1]\r\n",
        "my_list.sort(reverse=True)\r\n",
        "print(f\"Descending Order list:,{my_list}\")"
      ],
      "execution_count": 15,
      "outputs": [
        {
          "output_type": "stream",
          "text": [
            "Descending Order list:,[44, 10, 9, 4, 3, 2, 1]\n"
          ],
          "name": "stdout"
        }
      ]
    },
    {
      "cell_type": "code",
      "metadata": {
        "colab": {
          "base_uri": "https://localhost:8080/"
        },
        "id": "H3Jv_ZMz1t3W",
        "outputId": "4fd2671e-d576-4be0-8856-6f66f26b3840"
      },
      "source": [
        "# Concatenation of two List\r\n",
        "my_list1 = [4,3,2,9,10,44,1]\r\n",
        "my_list2 = [5,6,2,8,15,14,12]\r\n",
        "print(f\"Sum of two list:,{my_list1+my_list2}\")"
      ],
      "execution_count": 16,
      "outputs": [
        {
          "output_type": "stream",
          "text": [
            "Sum of two list:,[4, 3, 2, 9, 10, 44, 1, 5, 6, 2, 8, 15, 14, 12]\n"
          ],
          "name": "stdout"
        }
      ]
    },
    {
      "cell_type": "code",
      "metadata": {
        "colab": {
          "base_uri": "https://localhost:8080/"
        },
        "id": "pZCnHvwD2UB6",
        "outputId": "75480d3f-b126-4b12-c522-9209860cf0ac"
      },
      "source": [
        "# Removes the item at the given index from the list and returns the removed item\r\n",
        "my_list1 = [4,3,2,9,10,44,1,9,12]\r\n",
        "index = 4\r\n",
        "print(f\"Sum of two list:,{my_list1.pop(index)}\")"
      ],
      "execution_count": 17,
      "outputs": [
        {
          "output_type": "stream",
          "text": [
            "Sum of two list:,10\n"
          ],
          "name": "stdout"
        }
      ]
    },
    {
      "cell_type": "code",
      "metadata": {
        "colab": {
          "base_uri": "https://localhost:8080/"
        },
        "id": "4ih_hhr45bcO",
        "outputId": "b112db29-2d0f-4adc-a64f-bb4e7009c54c"
      },
      "source": [
        "# Adding Element to a List\r\n",
        "animals = ['cat', 'dog', 'rabbit']\r\n",
        "animals.append('guinea pig')\r\n",
        "print('Updated animals list: ', animals)"
      ],
      "execution_count": 18,
      "outputs": [
        {
          "output_type": "stream",
          "text": [
            "Updated animals list:  ['cat', 'dog', 'rabbit', 'guinea pig']\n"
          ],
          "name": "stdout"
        }
      ]
    },
    {
      "cell_type": "code",
      "metadata": {
        "colab": {
          "base_uri": "https://localhost:8080/"
        },
        "id": "ac7G132q6HWe",
        "outputId": "287019f1-0203-4e84-b101-d04407fe68ed"
      },
      "source": [
        "# Returns the number of times the specified element appears in the list\r\n",
        "vowels = ['a', 'e', 'i', 'o', 'i', 'u']\r\n",
        "count = vowels.count('i')\r\n",
        "print('The count of i is:', count)"
      ],
      "execution_count": 19,
      "outputs": [
        {
          "output_type": "stream",
          "text": [
            "The count of i is: 2\n"
          ],
          "name": "stdout"
        }
      ]
    },
    {
      "cell_type": "code",
      "metadata": {
        "colab": {
          "base_uri": "https://localhost:8080/"
        },
        "id": "7tuSTeN66c2e",
        "outputId": "ba6b52aa-09cb-4057-f074-be7311fe19dd"
      },
      "source": [
        "# Count Tuple Elements Inside List\r\n",
        "random = ['a', ('a', 'b'), ('a', 'b'), [3, 4]]\r\n",
        "count = random.count(('a', 'b'))\r\n",
        "print(\"The count of ('a', 'b') is:\", count)"
      ],
      "execution_count": 20,
      "outputs": [
        {
          "output_type": "stream",
          "text": [
            "The count of ('a', 'b') is: 2\n"
          ],
          "name": "stdout"
        }
      ]
    },
    {
      "cell_type": "code",
      "metadata": {
        "colab": {
          "base_uri": "https://localhost:8080/"
        },
        "id": "Hvr4jvfh6w2G",
        "outputId": "1d1103bd-adf1-471d-f774-04eefdae165e"
      },
      "source": [
        "# Removes all items from the list\r\n",
        "list = [{1, 2}, ('a'), ['1.1', '2.2']]\r\n",
        "list.clear()\r\n",
        "print('List:', list)"
      ],
      "execution_count": 21,
      "outputs": [
        {
          "output_type": "stream",
          "text": [
            "List: []\n"
          ],
          "name": "stdout"
        }
      ]
    },
    {
      "cell_type": "code",
      "metadata": {
        "colab": {
          "base_uri": "https://localhost:8080/"
        },
        "id": "SDjQ3L5-7aw2",
        "outputId": "77c13c71-f91f-4850-b19d-73e609e3335e"
      },
      "source": [
        "# access first characters in a string\r\n",
        "word = \"Hello World\"\r\n",
        "letter=word[0]\r\n",
        "print(f\"First Charecter in String:{letter}\")"
      ],
      "execution_count": 22,
      "outputs": [
        {
          "output_type": "stream",
          "text": [
            "First Charecter in String:H\n"
          ],
          "name": "stdout"
        }
      ]
    },
    {
      "cell_type": "code",
      "metadata": {
        "colab": {
          "base_uri": "https://localhost:8080/"
        },
        "id": "S9lfOM4c7rsn",
        "outputId": "e51692d5-8aa5-4943-fd59-5f69b6508348"
      },
      "source": [
        "# access Last characters in a string\r\n",
        "word = \"Hello World\"\r\n",
        "letter=word[-1]\r\n",
        "print(f\"First Charecter in String:{letter}\")"
      ],
      "execution_count": 23,
      "outputs": [
        {
          "output_type": "stream",
          "text": [
            "First Charecter in String:d\n"
          ],
          "name": "stdout"
        }
      ]
    },
    {
      "cell_type": "code",
      "metadata": {
        "colab": {
          "base_uri": "https://localhost:8080/"
        },
        "id": "OpFVLvY47w3t",
        "outputId": "15834434-134a-408c-d2ce-64230cb1d27f"
      },
      "source": [
        "# Generate a list by list comprehension\r\n",
        "list = [x for x in range(10)]\r\n",
        "print(f\"List Generated by list comprehension:{list}\")"
      ],
      "execution_count": 24,
      "outputs": [
        {
          "output_type": "stream",
          "text": [
            "List Generated by list comprehension:[0, 1, 2, 3, 4, 5, 6, 7, 8, 9]\n"
          ],
          "name": "stdout"
        }
      ]
    },
    {
      "cell_type": "code",
      "metadata": {
        "colab": {
          "base_uri": "https://localhost:8080/"
        },
        "id": "vg0YqZRs9Q85",
        "outputId": "c56c0b30-4c1e-4662-ab52-8b40ce913134"
      },
      "source": [
        "# Sort the string list alphabetically\r\n",
        "\r\n",
        "thislist = [\"orange\", \"mango\", \"kiwi\", \"pineapple\", \"banana\"]\r\n",
        "thislist.sort()\r\n",
        "print(f\"Sorted List:{thislist}\")"
      ],
      "execution_count": 25,
      "outputs": [
        {
          "output_type": "stream",
          "text": [
            "Sorted List:['banana', 'kiwi', 'mango', 'orange', 'pineapple']\n"
          ],
          "name": "stdout"
        }
      ]
    },
    {
      "cell_type": "code",
      "metadata": {
        "colab": {
          "base_uri": "https://localhost:8080/"
        },
        "id": "uCgWLR6F-QqO",
        "outputId": "6bbfde92-cfcd-46f9-a0ba-4154a418cf73"
      },
      "source": [
        "# Join Two Sets\r\n",
        "set1 = {\"a\", \"b\" , \"c\"}\r\n",
        "set2 = {1, 2, 3}\r\n",
        "set3 = set2.union(set1)\r\n",
        "print(f\"Joined Set:{set3}\")"
      ],
      "execution_count": 26,
      "outputs": [
        {
          "output_type": "stream",
          "text": [
            "Joined Set:{1, 2, 3, 'b', 'c', 'a'}\n"
          ],
          "name": "stdout"
        }
      ]
    },
    {
      "cell_type": "code",
      "metadata": {
        "colab": {
          "base_uri": "https://localhost:8080/"
        },
        "id": "ChzuZVLp-8af",
        "outputId": "3dd061da-3620-4380-d6bb-f016a98f59d2"
      },
      "source": [
        "# keep only the items that are present in both sets\r\n",
        "x = {\"apple\", \"banana\", \"cherry\"}\r\n",
        "y = {\"google\", \"microsoft\", \"apple\"}\r\n",
        "\r\n",
        "x.intersection_update(y)\r\n",
        "print(f\"Duplicate Value in Two set:{x}\")"
      ],
      "execution_count": 27,
      "outputs": [
        {
          "output_type": "stream",
          "text": [
            "Duplicate Value in Two set:{'apple'}\n"
          ],
          "name": "stdout"
        }
      ]
    },
    {
      "cell_type": "code",
      "metadata": {
        "colab": {
          "base_uri": "https://localhost:8080/"
        },
        "id": "tkw8tDTB_slX",
        "outputId": "322f04a0-92fb-4595-a535-a9846451cadd"
      },
      "source": [
        "# Keep All items from List But NOT the Duplicates\r\n",
        "x = {\"apple\", \"banana\", \"cherry\"}\r\n",
        "y = {\"google\", \"microsoft\", \"apple\"}\r\n",
        "\r\n",
        "x.symmetric_difference_update(y)\r\n",
        "print(f\"Duplicate Value in Two set:{x}\")"
      ],
      "execution_count": 28,
      "outputs": [
        {
          "output_type": "stream",
          "text": [
            "Duplicate Value in Two set:{'microsoft', 'cherry', 'google', 'banana'}\n"
          ],
          "name": "stdout"
        }
      ]
    },
    {
      "cell_type": "code",
      "metadata": {
        "colab": {
          "base_uri": "https://localhost:8080/"
        },
        "id": "T6xkqBrsAMre",
        "outputId": "2bda2a26-00b3-4c7a-adfb-4765b8dfd004"
      },
      "source": [
        "# Create and print a dictionary\r\n",
        "thisdict = {\r\n",
        "  \"brand\": \"Ford\",\r\n",
        "  \"model\": \"Mustang\",\r\n",
        "  \"year\": 1964\r\n",
        "}\r\n",
        "print(f\"Sample Dictionary:{thisdict}\")"
      ],
      "execution_count": 29,
      "outputs": [
        {
          "output_type": "stream",
          "text": [
            "Sample Dictionary:{'brand': 'Ford', 'model': 'Mustang', 'year': 1964}\n"
          ],
          "name": "stdout"
        }
      ]
    },
    {
      "cell_type": "code",
      "metadata": {
        "colab": {
          "base_uri": "https://localhost:8080/"
        },
        "id": "WXyUdU2VAaSN",
        "outputId": "52a6cdd4-0e51-44da-cdd9-e0a8acdd588c"
      },
      "source": [
        "# Calculate the length of dictionary\r\n",
        "thisdict = {\r\n",
        "  \"brand\": \"Ford\",\r\n",
        "  \"model\": \"Mustang\",\r\n",
        "  \"year\": 1964\r\n",
        "}\r\n",
        "\r\n",
        "print(f\"Length of Dictionary:{len(thisdict)}\")"
      ],
      "execution_count": 30,
      "outputs": [
        {
          "output_type": "stream",
          "text": [
            "Length of Dictionary:3\n"
          ],
          "name": "stdout"
        }
      ]
    },
    {
      "cell_type": "code",
      "metadata": {
        "colab": {
          "base_uri": "https://localhost:8080/"
        },
        "id": "oS0mimKMBBBF",
        "outputId": "6a55a3ff-74de-4cac-e7ce-4c8ce6352cfa"
      },
      "source": [
        "# Evaluate a string and a number\r\n",
        "print(bool(\"Hello\"))\r\n",
        "print(bool(15))"
      ],
      "execution_count": 31,
      "outputs": [
        {
          "output_type": "stream",
          "text": [
            "True\n",
            "True\n"
          ],
          "name": "stdout"
        }
      ]
    },
    {
      "cell_type": "code",
      "metadata": {
        "colab": {
          "base_uri": "https://localhost:8080/"
        },
        "id": "KhP7RlGqJLFR",
        "outputId": "66e27f48-3d1b-4f34-f5da-d334139d5982"
      },
      "source": [
        "# Calculate length of a string\r\n",
        "word = \"Hello World\"\r\n",
        "print(f\"Length of string: {len(word)}\")"
      ],
      "execution_count": 32,
      "outputs": [
        {
          "output_type": "stream",
          "text": [
            "Length of string: 11\n"
          ],
          "name": "stdout"
        }
      ]
    },
    {
      "cell_type": "code",
      "metadata": {
        "colab": {
          "base_uri": "https://localhost:8080/"
        },
        "id": "8je7D2NhJagl",
        "outputId": "2add301b-99a5-4c04-b392-a0b39c8e5e06"
      },
      "source": [
        "# Count the number of spaces in a sring\r\n",
        "s = \"Count, the number of spaces\"\r\n",
        "lenx = s.count(' ')\r\n",
        "print(f\"number of spaces in sring: {lenx}\")"
      ],
      "execution_count": 33,
      "outputs": [
        {
          "output_type": "stream",
          "text": [
            "number of spaces in sring: 4\n"
          ],
          "name": "stdout"
        }
      ]
    },
    {
      "cell_type": "code",
      "metadata": {
        "colab": {
          "base_uri": "https://localhost:8080/"
        },
        "id": "sM7EWGa1JtBp",
        "outputId": "5abdad67-e0a0-4842-ff32-e134ee4efc8e"
      },
      "source": [
        "# Split Strings\r\n",
        "word = \"Hello World\"\r\n",
        "ksplit = word.split(' ') \r\n",
        "print(f\"Splited Strings: {ksplit}\")"
      ],
      "execution_count": 34,
      "outputs": [
        {
          "output_type": "stream",
          "text": [
            "Splited Strings: ['Hello', 'World']\n"
          ],
          "name": "stdout"
        }
      ]
    },
    {
      "cell_type": "code",
      "metadata": {
        "colab": {
          "base_uri": "https://localhost:8080/"
        },
        "id": "OQRApMA1J55m",
        "outputId": "c7e391e5-d1f5-47c5-cd8b-175fb5020f3b"
      },
      "source": [
        "# Prints ten dots\r\n",
        "ten = \".\" * 10\r\n",
        "print(f\"Ten dots: {ten}\")"
      ],
      "execution_count": 35,
      "outputs": [
        {
          "output_type": "stream",
          "text": [
            "Ten dots: ..........\n"
          ],
          "name": "stdout"
        }
      ]
    },
    {
      "cell_type": "code",
      "metadata": {
        "colab": {
          "base_uri": "https://localhost:8080/"
        },
        "id": "Klo7ojItKFgD",
        "outputId": "ba9c57b1-e318-4599-f1c3-41b7f9dc73fe"
      },
      "source": [
        "# Replacing a string with another string\r\n",
        "word = \"Hello World\"\r\n",
        "replace = \"Bye\"\r\n",
        "input = \"Hello\"\r\n",
        "after_replace = word.replace(input, replace)\r\n",
        "print(f\"String ater replacement: {after_replace}\")"
      ],
      "execution_count": 36,
      "outputs": [
        {
          "output_type": "stream",
          "text": [
            "String ater replacement: Bye World\n"
          ],
          "name": "stdout"
        }
      ]
    },
    {
      "cell_type": "code",
      "metadata": {
        "colab": {
          "base_uri": "https://localhost:8080/"
        },
        "id": "0A4AUprQKvb-",
        "outputId": "4b2fdda3-b784-46e0-d97b-5f95c56cfa48"
      },
      "source": [
        "#removes leading characters\r\n",
        "word = \" xyz \"\r\n",
        "lstrip = word.lstrip()\r\n",
        "print(f\"String ater removal of leading characters:{lstrip}\")"
      ],
      "execution_count": 37,
      "outputs": [
        {
          "output_type": "stream",
          "text": [
            "String ater removal of leading characters:xyz \n"
          ],
          "name": "stdout"
        }
      ]
    },
    {
      "cell_type": "code",
      "metadata": {
        "colab": {
          "base_uri": "https://localhost:8080/"
        },
        "id": "fHUeiKVJK6Sj",
        "outputId": "0667e10d-9b52-413d-8bf5-a9f8c98e50f8"
      },
      "source": [
        "#removes trailing characters\r\n",
        "word = \" xyz \"\r\n",
        "rstrip = word.rstrip()\r\n",
        "print(f\"String ater removal of trailing characters:{rstrip}\")"
      ],
      "execution_count": 38,
      "outputs": [
        {
          "output_type": "stream",
          "text": [
            "String ater removal of trailing characters: xyz\n"
          ],
          "name": "stdout"
        }
      ]
    },
    {
      "cell_type": "code",
      "metadata": {
        "colab": {
          "base_uri": "https://localhost:8080/"
        },
        "id": "zn5etCdiLVBo",
        "outputId": "a638d1d4-3f89-4202-aa39-46ad8586a1eb"
      },
      "source": [
        "# check if all char are alphanumeric\r\n",
        "word = \"Hello World\"\r\n",
        "check = word.isalnum()\r\n",
        "print(f\"All char are alphanumeric?:{check}\")"
      ],
      "execution_count": 39,
      "outputs": [
        {
          "output_type": "stream",
          "text": [
            "All char are alphanumeric?:False\n"
          ],
          "name": "stdout"
        }
      ]
    },
    {
      "cell_type": "code",
      "metadata": {
        "colab": {
          "base_uri": "https://localhost:8080/"
        },
        "id": "E1bIjoVLLjRv",
        "outputId": "58d2626d-e65d-4d69-ce48-d65c668c35f9"
      },
      "source": [
        "# check if all char in the string are alphabetic\r\n",
        "word = \"Hello World\"\r\n",
        "check = word.isalpha()\r\n",
        "print(f\"All char are alphabetic?:{check}\")"
      ],
      "execution_count": 40,
      "outputs": [
        {
          "output_type": "stream",
          "text": [
            "All char are alphabetic?:False\n"
          ],
          "name": "stdout"
        }
      ]
    },
    {
      "cell_type": "code",
      "metadata": {
        "colab": {
          "base_uri": "https://localhost:8080/"
        },
        "id": "C0rmcrJALxAv",
        "outputId": "82355db9-cb2a-4163-f591-31264d2d8578"
      },
      "source": [
        "# test if string contains digits\r\n",
        "word = \"Hello World\"\r\n",
        "check = word.isdigit()\r\n",
        "print(f\"String contains digits?:{check}\")"
      ],
      "execution_count": 41,
      "outputs": [
        {
          "output_type": "stream",
          "text": [
            "String contains digits?:False\n"
          ],
          "name": "stdout"
        }
      ]
    },
    {
      "cell_type": "code",
      "metadata": {
        "colab": {
          "base_uri": "https://localhost:8080/"
        },
        "id": "OlrWUF5bMANg",
        "outputId": "6d724ad8-223c-47a1-8a26-96343e2ce669"
      },
      "source": [
        "# Test if string contains upper case\r\n",
        "word = \"Hello World\"\r\n",
        "check = word.isupper()\r\n",
        "print(f\"String contains upper case?:{check}\")"
      ],
      "execution_count": 42,
      "outputs": [
        {
          "output_type": "stream",
          "text": [
            "String contains upper case?:False\n"
          ],
          "name": "stdout"
        }
      ]
    },
    {
      "cell_type": "code",
      "metadata": {
        "colab": {
          "base_uri": "https://localhost:8080/"
        },
        "id": "ST-NkE1hMPoS",
        "outputId": "b64034bc-dfe4-4e77-f20c-10feb567be6d"
      },
      "source": [
        "# Test if string starts with H\r\n",
        "word = \"Hello World\"\r\n",
        "check = word.startswith('H')\r\n",
        "print(f\"String starts with H?:{check}\")"
      ],
      "execution_count": 43,
      "outputs": [
        {
          "output_type": "stream",
          "text": [
            "String starts with H?:True\n"
          ],
          "name": "stdout"
        }
      ]
    },
    {
      "cell_type": "code",
      "metadata": {
        "colab": {
          "base_uri": "https://localhost:8080/"
        },
        "id": "9pSfWoV4T50A",
        "outputId": "09268859-0e4e-4b1b-da59-3f2ccf5fe7a5"
      },
      "source": [
        "# Returns an integer value for the given character\r\n",
        "str = \"A\"\r\n",
        "val = ord(str)\r\n",
        "print(f\"Integer value for the given character?:{val}\")"
      ],
      "execution_count": 44,
      "outputs": [
        {
          "output_type": "stream",
          "text": [
            "Integer value for the given character?:65\n"
          ],
          "name": "stdout"
        }
      ]
    },
    {
      "cell_type": "code",
      "metadata": {
        "colab": {
          "base_uri": "https://localhost:8080/"
        },
        "id": "0YZ0JETqXXVy",
        "outputId": "041a346c-1fac-4060-9265-4cdfd2a6ba70"
      },
      "source": [
        "#  Fibonacci series up to 100\r\n",
        "n = 100\r\n",
        "result = []\r\n",
        "a, b = 0 , 1\r\n",
        "while b < n:\r\n",
        "  result. append( b)\r\n",
        "  a, b = b, a + b\r\n",
        "final = result\r\n",
        "print(f\"Fibonacci series up to 100:{final}\")"
      ],
      "execution_count": 45,
      "outputs": [
        {
          "output_type": "stream",
          "text": [
            "Fibonacci series up to 100:[1, 1, 2, 3, 5, 8, 13, 21, 34, 55, 89]\n"
          ],
          "name": "stdout"
        }
      ]
    },
    {
      "cell_type": "code",
      "metadata": {
        "colab": {
          "base_uri": "https://localhost:8080/"
        },
        "id": "oSo4tEWVXsuC",
        "outputId": "77d187ac-213a-4e3a-f742-22641138518a"
      },
      "source": [
        "# Counting total Digits in a string\r\n",
        "str1 = \"abc4234AFde\"\r\n",
        "digitCount = 0\r\n",
        "for i in range(0,len(str1)):\r\n",
        "  char = str1[i]\r\n",
        "  if(char.isdigit()):\r\n",
        "    digitCount += 1\r\n",
        "print('Number of digits: ',digitCount)"
      ],
      "execution_count": 46,
      "outputs": [
        {
          "output_type": "stream",
          "text": [
            "Number of digits:  4\n"
          ],
          "name": "stdout"
        }
      ]
    },
    {
      "cell_type": "code",
      "metadata": {
        "colab": {
          "base_uri": "https://localhost:8080/"
        },
        "id": "ld8EUdoIb3-C",
        "outputId": "5e1e5658-9548-45a5-d688-cfc7556cd77f"
      },
      "source": [
        "# Counting total alphanumeric in a string\r\n",
        "str1 = \"abc4234AFde\"\r\n",
        "digitCount = 0\r\n",
        "for i in range(0,len(str1)):\r\n",
        "  char = str1[i]\r\n",
        "  if(char.isalpha()):\r\n",
        "    digitCount += 1\r\n",
        "print('Number of alphanumeric: ',digitCount)"
      ],
      "execution_count": 47,
      "outputs": [
        {
          "output_type": "stream",
          "text": [
            "Number of alphanumeric:  7\n"
          ],
          "name": "stdout"
        }
      ]
    },
    {
      "cell_type": "code",
      "metadata": {
        "colab": {
          "base_uri": "https://localhost:8080/"
        },
        "id": "dL4vwpfMcG0N",
        "outputId": "0132c02b-2cc5-49a3-9110-45ee1200b336"
      },
      "source": [
        "# Counting total Upper Case in a string\r\n",
        "str1 = \"abc4234AFde\"\r\n",
        "digitCount = 0\r\n",
        "for i in range(0,len(str1)):\r\n",
        "  char = str1[i]\r\n",
        "  if(char.upper()):\r\n",
        "    digitCount += 1\r\n",
        "print('Number total Upper Case: ',digitCount)"
      ],
      "execution_count": 48,
      "outputs": [
        {
          "output_type": "stream",
          "text": [
            "Number total Upper Case:  11\n"
          ],
          "name": "stdout"
        }
      ]
    },
    {
      "cell_type": "code",
      "metadata": {
        "colab": {
          "base_uri": "https://localhost:8080/"
        },
        "id": "zPZPcW8GcRAx",
        "outputId": "78c87cc2-3d3c-455f-d8f6-f13feaceca4f"
      },
      "source": [
        "# Counting total lower Case in a string\r\n",
        "str1 = \"abc4234AFdeaa\"\r\n",
        "digitCount = 0\r\n",
        "for i in range(0,len(str1)):\r\n",
        "  char = str1[i]\r\n",
        "  if(char.lower()):\r\n",
        "    digitCount += 1\r\n",
        "print('Number total lower Case: ',digitCount)"
      ],
      "execution_count": 49,
      "outputs": [
        {
          "output_type": "stream",
          "text": [
            "Number total lower Case:  13\n"
          ],
          "name": "stdout"
        }
      ]
    },
    {
      "cell_type": "code",
      "metadata": {
        "colab": {
          "base_uri": "https://localhost:8080/"
        },
        "id": "Jssit9ntZWhr",
        "outputId": "69b27979-2682-44c9-bd71-a897f06965d7"
      },
      "source": [
        "# Bubble sort in python\r\n",
        "list1 = [1, 5, 3, 4]\r\n",
        "\r\n",
        "for i in range(len(list1)-1):\r\n",
        "  for j in range(i+1,len(list1)):\r\n",
        "    if(list1[i] > list1[j]):\r\n",
        "      temp = list1[i]\r\n",
        "      list1[i] = list1[j]\r\n",
        "      list1[j] = temp\r\n",
        "print(\"Bubble Sorted list: \",list1)"
      ],
      "execution_count": 50,
      "outputs": [
        {
          "output_type": "stream",
          "text": [
            "Bubble Sorted list:  [1, 3, 4, 5]\n"
          ],
          "name": "stdout"
        }
      ]
    },
    {
      "cell_type": "code",
      "metadata": {
        "colab": {
          "base_uri": "https://localhost:8080/"
        },
        "id": "7ukjrt1sdG_5",
        "outputId": "1df3c16b-7ffe-478e-c800-187d1e0a22e9"
      },
      "source": [
        "# Compute the product of every pair of numbers from two lists\r\n",
        "list1 = [1, 2, 3]\r\n",
        "list2 = [5, 6, 7] \r\n",
        "final = [a*b for a in list1 for b in list2]\r\n",
        "print(f\"Product of every pair of numbers from two lists:{final}\")"
      ],
      "execution_count": 51,
      "outputs": [
        {
          "output_type": "stream",
          "text": [
            "Product of every pair of numbers from two lists:[5, 6, 7, 10, 12, 14, 15, 18, 21]\n"
          ],
          "name": "stdout"
        }
      ]
    },
    {
      "cell_type": "code",
      "metadata": {
        "colab": {
          "base_uri": "https://localhost:8080/"
        },
        "id": "f0OKt9uBddrL",
        "outputId": "fb9e7b03-6da2-4b16-af5b-3bd5991c6741"
      },
      "source": [
        "# Calculate the sum of every pair of numbers from two lists\r\n",
        "list1 = [1, 2, 3]\r\n",
        "list2 = [5, 6, 7] \r\n",
        "final = [a+b for a in list1 for b in list2]\r\n",
        "print(f\"sum of every pair of numbers from two lists:{final}\")"
      ],
      "execution_count": 52,
      "outputs": [
        {
          "output_type": "stream",
          "text": [
            "sum of every pair of numbers from two lists:[6, 7, 8, 7, 8, 9, 8, 9, 10]\n"
          ],
          "name": "stdout"
        }
      ]
    },
    {
      "cell_type": "code",
      "metadata": {
        "colab": {
          "base_uri": "https://localhost:8080/"
        },
        "id": "EesriNnAd5Wh",
        "outputId": "8eff7a6f-df82-467b-ff11-8dbac9de16ee"
      },
      "source": [
        "# Calculate the pair-wise product of two lists\r\n",
        "list1 = [1, 2, 3]\r\n",
        "list2 = [5, 6, 7] \r\n",
        "final = [list1[i]*list2[i] for i in range(len(list1))]\r\n",
        "print(f\"pair-wise product of two lists:{final}\")"
      ],
      "execution_count": 53,
      "outputs": [
        {
          "output_type": "stream",
          "text": [
            "pair-wise product of two lists:[5, 12, 21]\n"
          ],
          "name": "stdout"
        }
      ]
    },
    {
      "cell_type": "code",
      "metadata": {
        "colab": {
          "base_uri": "https://localhost:8080/"
        },
        "id": "60mBYdrceI-R",
        "outputId": "2aae2b1b-4f4a-47de-bca1-39f64220a021"
      },
      "source": [
        "# Remove the last element from the stack\r\n",
        "s = [1,2,3,4]\r\n",
        "print(f\"last element from the stack:{s.pop()}\")"
      ],
      "execution_count": 54,
      "outputs": [
        {
          "output_type": "stream",
          "text": [
            "last element from the stack:4\n"
          ],
          "name": "stdout"
        }
      ]
    },
    {
      "cell_type": "code",
      "metadata": {
        "colab": {
          "base_uri": "https://localhost:8080/"
        },
        "id": "TQvDjj97eVUM",
        "outputId": "e58c692c-4025-4cfa-99b0-4e2e42e00b97"
      },
      "source": [
        "# Insert a number at the beginning of the queue\r\n",
        "q = [1,2,3,4]\r\n",
        "q.insert(0,5)\r\n",
        "print(f\"Revised List:{q}\")"
      ],
      "execution_count": 55,
      "outputs": [
        {
          "output_type": "stream",
          "text": [
            "Revised List:[5, 1, 2, 3, 4]\n"
          ],
          "name": "stdout"
        }
      ]
    },
    {
      "cell_type": "code",
      "metadata": {
        "colab": {
          "base_uri": "https://localhost:8080/"
        },
        "id": "YWKwdnufeppZ",
        "outputId": "3c149c3d-c6a4-4a76-dc22-ea3c7fcb2376"
      },
      "source": [
        "# Addition of two vector\r\n",
        "v1 = [1,2,3]\r\n",
        "v2 = [1,2,3]\r\n",
        "s1 = [0,0,0]\r\n",
        "\r\n",
        "for i in range(len(v1)):\r\n",
        "  s1[i] = v1[i] + v2[i]\r\n",
        "print(f\"New Vector:{s1}\")"
      ],
      "execution_count": 56,
      "outputs": [
        {
          "output_type": "stream",
          "text": [
            "New Vector:[2, 4, 6]\n"
          ],
          "name": "stdout"
        }
      ]
    },
    {
      "cell_type": "code",
      "metadata": {
        "id": "ZCdij3dijcnI",
        "colab": {
          "base_uri": "https://localhost:8080/"
        },
        "outputId": "107669a1-c301-4dd2-a3c4-78ea2e76c004"
      },
      "source": [
        "# Replace negative prices with 0 and leave the positive values unchanged in a list\r\n",
        "original_prices = [1.25, -9.45, 10.22, 3.78, -5.92, 1.16]\r\n",
        "prices = [i if i > 0 else 0 for i in original_prices]\r\n",
        "print(f\"Final List:{prices}\")"
      ],
      "execution_count": 57,
      "outputs": [
        {
          "output_type": "stream",
          "text": [
            "Final List:[1.25, 0, 10.22, 3.78, 0, 1.16]\n"
          ],
          "name": "stdout"
        }
      ]
    },
    {
      "cell_type": "code",
      "metadata": {
        "colab": {
          "base_uri": "https://localhost:8080/"
        },
        "id": "E_OoSpw83U3S",
        "outputId": "b675d5e1-4a0e-4e53-826d-9e334f979f24"
      },
      "source": [
        "# Convert dictionary to JSON\r\n",
        "import json\r\n",
        "person_dict = {'name': 'Bob',\r\n",
        "'age': 12,\r\n",
        "'children': None\r\n",
        "}\r\n",
        "person_json = json.dumps(person_dict)\r\n",
        "print(person_json)"
      ],
      "execution_count": 58,
      "outputs": [
        {
          "output_type": "stream",
          "text": [
            "{\"name\": \"Bob\", \"age\": 12, \"children\": null}\n"
          ],
          "name": "stdout"
        }
      ]
    },
    {
      "cell_type": "code",
      "metadata": {
        "id": "fHv5WL2Kn4gx"
      },
      "source": [
        "# Writing JSON to a file\r\n",
        "import json\r\n",
        "person_dict = {\"name\": \"Bob\",\r\n",
        "\"languages\": [\"English\", \"Fench\"],\r\n",
        "\"married\": True,\r\n",
        "\"age\": 32\r\n",
        "}\r\n",
        "with open('person.txt', 'w') as json_file:\r\n",
        "  json.dump(person_dict, json_file)"
      ],
      "execution_count": 59,
      "outputs": []
    },
    {
      "cell_type": "code",
      "metadata": {
        "id": "0_VrDzR5n5f4",
        "colab": {
          "base_uri": "https://localhost:8080/"
        },
        "outputId": "59430f09-8bbf-4773-8258-06443034367f"
      },
      "source": [
        "# Pretty print JSON\r\n",
        "import json\r\n",
        "person_string = '{\"name\": \"Bob\", \"languages\": \"English\", \"numbers\": [2, 1.6, null]}'\r\n",
        "person_dict = json.loads(person_string)\r\n",
        "print(json.dumps(person_dict, indent = 4, sort_keys=True))"
      ],
      "execution_count": 60,
      "outputs": [
        {
          "output_type": "stream",
          "text": [
            "{\n",
            "    \"languages\": \"English\",\n",
            "    \"name\": \"Bob\",\n",
            "    \"numbers\": [\n",
            "        2,\n",
            "        1.6,\n",
            "        null\n",
            "    ]\n",
            "}\n"
          ],
          "name": "stdout"
        }
      ]
    },
    {
      "cell_type": "code",
      "metadata": {
        "colab": {
          "base_uri": "https://localhost:8080/"
        },
        "id": "7Xf0dksi8SZx",
        "outputId": "6cf84c61-aa24-4825-861e-93a659e6ec00"
      },
      "source": [
        "# Check if the key exists or not in JSON\r\n",
        "import json\r\n",
        "\r\n",
        "studentJson =\"\"\"{\r\n",
        "   \"id\": 1,\r\n",
        "   \"name\": \"Piyush Jain\",\r\n",
        "   \"class\": null,\r\n",
        "   \"percentage\": 35,\r\n",
        "   \"email\": \"piyushjain220@gmail.com\"\r\n",
        "}\"\"\"\r\n",
        "\r\n",
        "print(\"Checking if percentage key exists in JSON\")\r\n",
        "student = json.loads(studentJson)\r\n",
        "if \"percentage\" in student:\r\n",
        "    print(\"Key exist in JSON data\")\r\n",
        "    print(student[\"name\"], \"marks is: \", student[\"percentage\"])\r\n",
        "else:\r\n",
        "    print(\"Key doesn't exist in JSON data\")"
      ],
      "execution_count": 61,
      "outputs": [
        {
          "output_type": "stream",
          "text": [
            "Checking if percentage key exists in JSON\n",
            "Key exist in JSON data\n",
            "Piyush Jain marks is:  35\n"
          ],
          "name": "stdout"
        }
      ]
    },
    {
      "cell_type": "code",
      "metadata": {
        "colab": {
          "base_uri": "https://localhost:8080/"
        },
        "id": "9s2go-2s8dXy",
        "outputId": "38168b31-0512-4d9c-c836-64009cac98ee"
      },
      "source": [
        "# Check if there is a value for a key in JSON\r\n",
        "import json\r\n",
        "\r\n",
        "studentJson =\"\"\"{\r\n",
        "   \"id\": 1,\r\n",
        "   \"name\": \"Piyush Jain\",\r\n",
        "   \"class\": null,\r\n",
        "   \"percentage\": 35,\r\n",
        "   \"email\": \"piyushjain220@gmail.com\"\r\n",
        "}\"\"\"\r\n",
        "student = json.loads(studentJson)\r\n",
        "if not (student.get('email') is None):\r\n",
        "     print(\"value is present for given JSON key\")\r\n",
        "     print(student.get('email'))\r\n",
        "else:\r\n",
        "    print(\"value is not present for given JSON key\")"
      ],
      "execution_count": 62,
      "outputs": [
        {
          "output_type": "stream",
          "text": [
            "value is present for given JSON key\n",
            "piyushjain220@gmail.com\n"
          ],
          "name": "stdout"
        }
      ]
    },
    {
      "cell_type": "code",
      "metadata": {
        "colab": {
          "base_uri": "https://localhost:8080/"
        },
        "id": "YAzlHYs58wTZ",
        "outputId": "2df46333-4ccc-4b6e-82bf-544ea6a1469b"
      },
      "source": [
        "# Sort JSON keys in Python and write it into a file\r\n",
        "import json\r\n",
        "sampleJson = {\"id\" : 1, \"name\" : \"value2\", \"age\" : 29}\r\n",
        "\r\n",
        "with open(\"sampleJson.json\", \"w\") as write_file:\r\n",
        "    json.dump(sampleJson, write_file, indent=4, sort_keys=True)\r\n",
        "print(\"Done writing JSON data into a file\")"
      ],
      "execution_count": 63,
      "outputs": [
        {
          "output_type": "stream",
          "text": [
            "Done writing JSON data into a file\n"
          ],
          "name": "stdout"
        }
      ]
    },
    {
      "cell_type": "code",
      "metadata": {
        "colab": {
          "base_uri": "https://localhost:8080/"
        },
        "id": "byDcvp2G894Z",
        "outputId": "0d0ace69-de39-4502-dcfb-665a5bf0c9a7"
      },
      "source": [
        "#  Given a Python list. Turn every item of a list into its square\r\n",
        "aList = [1, 2, 3, 4, 5, 6, 7]\r\n",
        "aList =  [x * x for x in aList]\r\n",
        "print(aList)"
      ],
      "execution_count": 64,
      "outputs": [
        {
          "output_type": "stream",
          "text": [
            "[1, 4, 9, 16, 25, 36, 49]\n"
          ],
          "name": "stdout"
        }
      ]
    },
    {
      "cell_type": "code",
      "metadata": {
        "colab": {
          "base_uri": "https://localhost:8080/"
        },
        "id": "26EQZnN_9ICg",
        "outputId": "a7bba0a7-9288-4d31-e726-1deb523f8583"
      },
      "source": [
        "# Remove empty strings from the list of strings\r\n",
        "list1 = [\"Mike\", \"\", \"Emma\", \"Kelly\", \"\", \"Brad\"]\r\n",
        "resList = [i for i in (filter(None, list1))]\r\n",
        "print(resList)"
      ],
      "execution_count": 65,
      "outputs": [
        {
          "output_type": "stream",
          "text": [
            "['Mike', 'Emma', 'Kelly', 'Brad']\n"
          ],
          "name": "stdout"
        }
      ]
    },
    {
      "cell_type": "code",
      "metadata": {
        "colab": {
          "base_uri": "https://localhost:8080/"
        },
        "id": "2rhx9-Fg-ClA",
        "outputId": "06a3098a-c247-41f8-b650-3a970aeae1d9"
      },
      "source": [
        "# Write a program which will achieve given a Python list, remove all occurrence of an input from the list\r\n",
        "list1 = [5, 20, 15, 20, 25, 50, 20]\r\n",
        "\r\n",
        "def removeValue(sampleList, val):\r\n",
        "   return [value for value in sampleList if value != val]\r\n",
        "   \r\n",
        "resList = removeValue(list1, 20)\r\n",
        "print(resList)"
      ],
      "execution_count": 66,
      "outputs": [
        {
          "output_type": "stream",
          "text": [
            "[5, 15, 25, 50]\n"
          ],
          "name": "stdout"
        }
      ]
    },
    {
      "cell_type": "code",
      "metadata": {
        "colab": {
          "base_uri": "https://localhost:8080/"
        },
        "id": "s2UWe94m-URa",
        "outputId": "31bfbde0-bc0a-432d-83ba-9a388446d700"
      },
      "source": [
        "#  Generate 3 random integers between 100 and 999 which is divisible by 5\r\n",
        "import random\r\n",
        "\r\n",
        "print(\"Generating 3 random integer number between 100 and 999 divisible by 5\")\r\n",
        "for num in range(3):\r\n",
        "    print(random.randrange(100, 999, 5), end=', ')"
      ],
      "execution_count": 67,
      "outputs": [
        {
          "output_type": "stream",
          "text": [
            "Generating 3 random integer number between 100 and 999 divisible by 5\n",
            "495, 185, 700, "
          ],
          "name": "stdout"
        }
      ]
    },
    {
      "cell_type": "code",
      "metadata": {
        "colab": {
          "base_uri": "https://localhost:8080/"
        },
        "id": "tvyNQgz4-bno",
        "outputId": "01402892-2010-44e9-9ac7-5afe2746dff0"
      },
      "source": [
        "# Pick a random character from a given String\r\n",
        "import random\r\n",
        "\r\n",
        "name = 'pynative'\r\n",
        "char = random.choice(name)\r\n",
        "print(\"random char is \", char)"
      ],
      "execution_count": 68,
      "outputs": [
        {
          "output_type": "stream",
          "text": [
            "random char is  e\n"
          ],
          "name": "stdout"
        }
      ]
    },
    {
      "cell_type": "code",
      "metadata": {
        "colab": {
          "base_uri": "https://localhost:8080/"
        },
        "id": "WAecM1HB-hN4",
        "outputId": "4a55581f-9e45-441a-b547-48715bc572b7"
      },
      "source": [
        "# Generate  random String of length 5\r\n",
        "import random\r\n",
        "import string\r\n",
        "\r\n",
        "def randomString(stringLength):\r\n",
        "    \"\"\"Generate a random string of 5 charcters\"\"\"\r\n",
        "    letters = string.ascii_letters\r\n",
        "    return ''.join(random.choice(letters) for i in range(stringLength))\r\n",
        "\r\n",
        "print (\"Random String is \", randomString(5) )"
      ],
      "execution_count": 69,
      "outputs": [
        {
          "output_type": "stream",
          "text": [
            "Random String is  XLjUy\n"
          ],
          "name": "stdout"
        }
      ]
    },
    {
      "cell_type": "code",
      "metadata": {
        "colab": {
          "base_uri": "https://localhost:8080/"
        },
        "id": "2ibJq1fD-saP",
        "outputId": "6caad091-4c74-46d4-f319-89dd3d7a626c"
      },
      "source": [
        "# Generate a random date between given start and end dates\r\n",
        "import random\r\n",
        "import time\r\n",
        "\r\n",
        "def getRandomDate(startDate, endDate ):\r\n",
        "    print(\"Printing random date between\", startDate, \" and \", endDate)\r\n",
        "    randomGenerator = random.random()\r\n",
        "    dateFormat = '%m/%d/%Y'\r\n",
        "\r\n",
        "    startTime = time.mktime(time.strptime(startDate, dateFormat))\r\n",
        "    endTime = time.mktime(time.strptime(endDate, dateFormat))\r\n",
        "\r\n",
        "    randomTime = startTime + randomGenerator * (endTime - startTime)\r\n",
        "    randomDate = time.strftime(dateFormat, time.localtime(randomTime))\r\n",
        "    return randomDate\r\n",
        "\r\n",
        "print (\"Random Date = \", getRandomDate(\"1/1/2016\", \"12/12/2018\"))"
      ],
      "execution_count": 70,
      "outputs": [
        {
          "output_type": "stream",
          "text": [
            "Printing random date between 1/1/2016  and  12/12/2018\n",
            "Random Date =  12/15/2016\n"
          ],
          "name": "stdout"
        }
      ]
    },
    {
      "cell_type": "code",
      "metadata": {
        "colab": {
          "base_uri": "https://localhost:8080/"
        },
        "id": "_3DfaOER-2qj",
        "outputId": "95ece6e6-8f96-43e0-935f-83f7e625b56f"
      },
      "source": [
        "# Write a program which will create a new string by appending s2 in the middle of s1 given two strings, s1 and s2\r\n",
        "def appendMiddle(s1, s2):\r\n",
        "  middleIndex = int(len(s1) /2)\r\n",
        "  middleThree = s1[:middleIndex:]+ s2 +s1[middleIndex:]\r\n",
        "  print(\"After appending new string in middle\", middleThree)\r\n",
        "  \r\n",
        "appendMiddle(\"Ault\", \"Kelly\")"
      ],
      "execution_count": 71,
      "outputs": [
        {
          "output_type": "stream",
          "text": [
            "After appending new string in middle AuKellylt\n"
          ],
          "name": "stdout"
        }
      ]
    },
    {
      "cell_type": "code",
      "metadata": {
        "colab": {
          "base_uri": "https://localhost:8080/"
        },
        "id": "jnFcueJ7_Fhb",
        "outputId": "a631a64d-89ee-4865-ab91-9381f32e6627"
      },
      "source": [
        "# Arrange string characters such that lowercase letters should come first\r\n",
        "str1 = \"PyNaTive\"\r\n",
        "lower = []\r\n",
        "upper = []\r\n",
        "for char in str1:\r\n",
        "    if char.islower():\r\n",
        "        lower.append(char)\r\n",
        "    else:\r\n",
        "        upper.append(char)\r\n",
        "sorted_string = ''.join(lower + upper)\r\n",
        "print(sorted_string)"
      ],
      "execution_count": 72,
      "outputs": [
        {
          "output_type": "stream",
          "text": [
            "yaivePNT\n"
          ],
          "name": "stdout"
        }
      ]
    },
    {
      "cell_type": "code",
      "metadata": {
        "colab": {
          "base_uri": "https://localhost:8080/"
        },
        "id": "VpqiqHwS_d4P",
        "outputId": "864b08bf-afa4-4f93-cbef-6b76aea4e066"
      },
      "source": [
        "# Given a string, return the sum and average of the digits that appear in the string, ignoring all other characters\r\n",
        "import re\r\n",
        "\r\n",
        "inputStr = \"English = 78 Science = 83 Math = 68 History = 65\"\r\n",
        "markList = [int(num) for num in re.findall(r'\\b\\d+\\b', inputStr)]\r\n",
        "totalMarks = 0\r\n",
        "for mark in markList:\r\n",
        "  totalMarks+=mark\r\n",
        "\r\n",
        "percentage = totalMarks/len(markList)  \r\n",
        "print(\"Total Marks is:\", totalMarks, \"Percentage is \", percentage)"
      ],
      "execution_count": 73,
      "outputs": [
        {
          "output_type": "stream",
          "text": [
            "Total Marks is: 294 Percentage is  73.5\n"
          ],
          "name": "stdout"
        }
      ]
    },
    {
      "cell_type": "code",
      "metadata": {
        "colab": {
          "base_uri": "https://localhost:8080/"
        },
        "id": "tkINVSrB_ktK",
        "outputId": "f8d28bd9-a08a-4dfa-b01a-5c413826c92b"
      },
      "source": [
        "# Given an input string, count occurrences of all characters within a string\r\n",
        "str1 = \"Apple\"\r\n",
        "countDict = dict()\r\n",
        "for char in str1:\r\n",
        "  count = str1.count(char)\r\n",
        "  countDict[char]=count\r\n",
        "print(countDict)"
      ],
      "execution_count": 74,
      "outputs": [
        {
          "output_type": "stream",
          "text": [
            "{'A': 1, 'p': 2, 'l': 1, 'e': 1}\n"
          ],
          "name": "stdout"
        }
      ]
    },
    {
      "cell_type": "code",
      "metadata": {
        "colab": {
          "base_uri": "https://localhost:8080/"
        },
        "id": "ZmtxGzMF_qXt",
        "outputId": "f7b7e790-797a-47d9-88ed-80beb9a4543f"
      },
      "source": [
        "# Reverse a given string\r\n",
        "str1 = \"PYnative\"\r\n",
        "print(\"Original String is:\", str1)\r\n",
        "\r\n",
        "str1 = str1[::-1]\r\n",
        "print(\"Reversed String is:\", str1)"
      ],
      "execution_count": 75,
      "outputs": [
        {
          "output_type": "stream",
          "text": [
            "Original String is: PYnative\n",
            "Reversed String is: evitanYP\n"
          ],
          "name": "stdout"
        }
      ]
    },
    {
      "cell_type": "code",
      "metadata": {
        "colab": {
          "base_uri": "https://localhost:8080/"
        },
        "id": "nn055r2I_zBm",
        "outputId": "31c63538-aa56-4b27-f580-3c23b6319dd7"
      },
      "source": [
        "# Remove special symbols/Punctuation from a given string\r\n",
        "import string\r\n",
        "\r\n",
        "str1 = \"/*Jon is @developer & musician\"\r\n",
        "new_str = str1.translate(str.maketrans('', '', string.punctuation))\r\n",
        "print(\"New string is \", new_str)"
      ],
      "execution_count": 76,
      "outputs": [
        {
          "output_type": "stream",
          "text": [
            "New string is  Jon is developer  musician\n"
          ],
          "name": "stdout"
        }
      ]
    },
    {
      "cell_type": "code",
      "metadata": {
        "colab": {
          "base_uri": "https://localhost:8080/"
        },
        "id": "iTu0KvOm_-5z",
        "outputId": "e48b5bd8-a4fa-451b-e211-4f53d34bc865"
      },
      "source": [
        "# Removal all the characters other than integers from string\r\n",
        "str1 = 'I am 25 years and 10 months old'\r\n",
        "res = \"\".join([item for item in str1 if item.isdigit()])\r\n",
        "print(res)"
      ],
      "execution_count": 77,
      "outputs": [
        {
          "output_type": "stream",
          "text": [
            "2510\n"
          ],
          "name": "stdout"
        }
      ]
    },
    {
      "cell_type": "code",
      "metadata": {
        "colab": {
          "base_uri": "https://localhost:8080/"
        },
        "id": "LQmf7VtBAI6k",
        "outputId": "99e912a3-ad0a-444d-e25c-14edcee84b99"
      },
      "source": [
        "# From given string replace each punctuation with #\r\n",
        "from string import punctuation\r\n",
        "\r\n",
        "str1 = '/*Jon is @developer & musician!!'\r\n",
        "replace_char = '#'\r\n",
        "for char in punctuation:\r\n",
        "    str1 = str1.replace(char, replace_char)\r\n",
        "\r\n",
        "print(\"The strings after replacement : \", str1)"
      ],
      "execution_count": 78,
      "outputs": [
        {
          "output_type": "stream",
          "text": [
            "The strings after replacement :  ##Jon is #developer # musician##\n"
          ],
          "name": "stdout"
        }
      ]
    },
    {
      "cell_type": "code",
      "metadata": {
        "colab": {
          "base_uri": "https://localhost:8080/"
        },
        "id": "ExoonkswAni8",
        "outputId": "3fbf6a8c-57cc-41a4-ecb5-4e9b376fe972"
      },
      "source": [
        "# Given a list iterate it and count the occurrence of each element and create a dictionary to show the count of each elemen\r\n",
        "sampleList = [11, 45, 8, 11, 23, 45, 23, 45, 89]\r\n",
        "countDict = dict()\r\n",
        "for item in sampleList:\r\n",
        "  if(item in countDict):\r\n",
        "    countDict[item] += 1\r\n",
        "  else:\r\n",
        "    countDict[item] = 1\r\n",
        "  \r\n",
        "print(\"Printing count of each item  \",countDict)"
      ],
      "execution_count": 79,
      "outputs": [
        {
          "output_type": "stream",
          "text": [
            "Printing count of each item   {11: 2, 45: 3, 8: 1, 23: 2, 89: 1}\n"
          ],
          "name": "stdout"
        }
      ]
    },
    {
      "cell_type": "code",
      "metadata": {
        "colab": {
          "base_uri": "https://localhost:8080/"
        },
        "id": "D-6xalkRBrmc",
        "outputId": "4fc4442f-2da8-4785-a061-d0c787f41391"
      },
      "source": [
        "# Given a two list of equal size create a set such that it shows the element from both lists in the pair\r\n",
        "firstList = [2, 3, 4, 5, 6, 7, 8]\r\n",
        "secondList = [4, 9, 16, 25, 36, 49, 64]\r\n",
        "result = zip(firstList, secondList)\r\n",
        "resultSet = set(result)\r\n",
        "print(resultSet)"
      ],
      "execution_count": 80,
      "outputs": [
        {
          "output_type": "stream",
          "text": [
            "{(6, 36), (8, 64), (4, 16), (5, 25), (3, 9), (7, 49), (2, 4)}\n"
          ],
          "name": "stdout"
        }
      ]
    },
    {
      "cell_type": "code",
      "metadata": {
        "colab": {
          "base_uri": "https://localhost:8080/"
        },
        "id": "mpYxkTTPKeTC",
        "outputId": "332ba48e-4ef2-47ed-b710-71ea23a3ecf5"
      },
      "source": [
        "# Given a two sets find the intersection and remove those elements from the first set\r\n",
        "firstSet  = {23, 42, 65, 57, 78, 83, 29}\r\n",
        "secondSet = {57, 83, 29, 67, 73, 43, 48}\r\n",
        "\r\n",
        "intersection = firstSet.intersection(secondSet)\r\n",
        "for item in intersection:\r\n",
        "  firstSet.remove(item)\r\n",
        "print(\"First Set after removing common element \", firstSet)"
      ],
      "execution_count": 81,
      "outputs": [
        {
          "output_type": "stream",
          "text": [
            "First Set after removing common element  {65, 42, 78, 23}\n"
          ],
          "name": "stdout"
        }
      ]
    },
    {
      "cell_type": "code",
      "metadata": {
        "colab": {
          "base_uri": "https://localhost:8080/"
        },
        "id": "QWBAKvSGKrhM",
        "outputId": "5da50009-cd64-4e1a-d7a1-80658ba2faa2"
      },
      "source": [
        "# Given a dictionary get all values from the dictionary and add it in a list but don’t add duplicates\r\n",
        "speed  ={'jan':47, 'feb':52, 'march':47, 'April':44, 'May':52, 'June':53,\r\n",
        "          'july':54, 'Aug':44, 'Sept':54} \r\n",
        "\r\n",
        "speedList = []\r\n",
        "for item in speed.values():\r\n",
        "  if item not in speedList:\r\n",
        "    speedList.append(item)\r\n",
        "print(\"unique list\", speedList)"
      ],
      "execution_count": 82,
      "outputs": [
        {
          "output_type": "stream",
          "text": [
            "unique list [47, 52, 44, 53, 54]\n"
          ],
          "name": "stdout"
        }
      ]
    },
    {
      "cell_type": "code",
      "metadata": {
        "colab": {
          "base_uri": "https://localhost:8080/"
        },
        "id": "ornCCtbZLBP0",
        "outputId": "360040c3-75b0-4880-cb42-61fc5229c027"
      },
      "source": [
        "# Convert decimal number to octal\r\n",
        "print('%o,' % (8))"
      ],
      "execution_count": 83,
      "outputs": [
        {
          "output_type": "stream",
          "text": [
            "10,\n"
          ],
          "name": "stdout"
        }
      ]
    },
    {
      "cell_type": "code",
      "metadata": {
        "colab": {
          "base_uri": "https://localhost:8080/"
        },
        "id": "qTg6M-y4LN4J",
        "outputId": "030e6e5d-50d1-4bf5-917f-952d3c4d5e80"
      },
      "source": [
        "# Convert string into a datetime object\r\n",
        "from datetime import datetime\r\n",
        "date_string = \"Feb 25 2020  4:20PM\"\r\n",
        "datetime_object = datetime.strptime(date_string, '%b %d %Y %I:%M%p')\r\n",
        "print(datetime_object)"
      ],
      "execution_count": 84,
      "outputs": [
        {
          "output_type": "stream",
          "text": [
            "2020-02-25 16:20:00\n"
          ],
          "name": "stdout"
        }
      ]
    },
    {
      "cell_type": "code",
      "metadata": {
        "colab": {
          "base_uri": "https://localhost:8080/"
        },
        "id": "lPM3hzdzLU0t",
        "outputId": "2a701f96-03f1-495a-be1a-643bb39aa6c3"
      },
      "source": [
        "# Subtract a week from a given date\r\n",
        "from datetime import datetime, timedelta\r\n",
        "given_date = datetime(2020, 2, 25)\r\n",
        "days_to_subtract = 7\r\n",
        "res_date = given_date - timedelta(days=days_to_subtract)\r\n",
        "print(res_date)"
      ],
      "execution_count": 85,
      "outputs": [
        {
          "output_type": "stream",
          "text": [
            "2020-02-18 00:00:00\n"
          ],
          "name": "stdout"
        }
      ]
    },
    {
      "cell_type": "code",
      "metadata": {
        "colab": {
          "base_uri": "https://localhost:8080/"
        },
        "id": "J5QIXtXxLfKr",
        "outputId": "0ce1cd64-3944-4f85-c952-fdc642a33568"
      },
      "source": [
        "# Find the day of week of a given date?\r\n",
        "from datetime import datetime\r\n",
        "given_date = datetime(2020, 7, 26)\r\n",
        "print(given_date.strftime('%A'))"
      ],
      "execution_count": 86,
      "outputs": [
        {
          "output_type": "stream",
          "text": [
            "Sunday\n"
          ],
          "name": "stdout"
        }
      ]
    },
    {
      "cell_type": "code",
      "metadata": {
        "colab": {
          "base_uri": "https://localhost:8080/"
        },
        "id": "1g_XYabuLt2B",
        "outputId": "ea796266-dbc0-4f11-b82a-4e46424d274c"
      },
      "source": [
        "#  Add week (7 days) and 12 hours to a given date\r\n",
        "from datetime import datetime, timedelta\r\n",
        "given_date = datetime(2020, 3, 22, 10, 00, 00)\r\n",
        "days_to_add = 7\r\n",
        "res_date = given_date + timedelta(days=days_to_add, hours=12)\r\n",
        "print(res_date)"
      ],
      "execution_count": 87,
      "outputs": [
        {
          "output_type": "stream",
          "text": [
            "2020-03-29 22:00:00\n"
          ],
          "name": "stdout"
        }
      ]
    },
    {
      "cell_type": "code",
      "metadata": {
        "colab": {
          "base_uri": "https://localhost:8080/"
        },
        "id": "pxaqppksL381",
        "outputId": "20c20351-fd0a-43b5-e86a-576b5596749e"
      },
      "source": [
        "# Calculate number of days between two given dates\r\n",
        "from datetime import datetime\r\n",
        "\r\n",
        "date_1 = datetime(2020, 2, 25).date()\r\n",
        "date_2 = datetime(2020, 9, 17).date()\r\n",
        "delta = None\r\n",
        "if date_1 > date_2:\r\n",
        "    delta = date_1 - date_2\r\n",
        "else:\r\n",
        "    delta = date_2 - date_1\r\n",
        "print(\"Difference is\", delta.days, \"days\")"
      ],
      "execution_count": 88,
      "outputs": [
        {
          "output_type": "stream",
          "text": [
            "Difference is 205 days\n"
          ],
          "name": "stdout"
        }
      ]
    },
    {
      "cell_type": "code",
      "metadata": {
        "colab": {
          "base_uri": "https://localhost:8080/"
        },
        "id": "YOvpIUtKMIuJ",
        "outputId": "7de86129-5739-405b-dd7d-11c42f41c3eb"
      },
      "source": [
        "# Write a recursive function to calculate the sum of numbers from 0 to 10\r\n",
        "def calculateSum(num):\r\n",
        "    if num:\r\n",
        "        return num + calculateSum(num-1)\r\n",
        "    else:\r\n",
        "        return 0\r\n",
        "res = calculateSum(10)\r\n",
        "print(res)"
      ],
      "execution_count": 89,
      "outputs": [
        {
          "output_type": "stream",
          "text": [
            "55\n"
          ],
          "name": "stdout"
        }
      ]
    },
    {
      "cell_type": "code",
      "metadata": {
        "colab": {
          "base_uri": "https://localhost:8080/"
        },
        "id": "P0BA3kcvMVo3",
        "outputId": "81c51712-67ed-4a10-e59c-408ba9dc9937"
      },
      "source": [
        "# Generate a Python list of all the even numbers between two given numbers\r\n",
        "num1 = 4\r\n",
        "num2 = 30\r\n",
        "myval = [i for i in range(num1, num2, 2)]\r\n",
        "print(myval)"
      ],
      "execution_count": 90,
      "outputs": [
        {
          "output_type": "stream",
          "text": [
            "[4, 6, 8, 10, 12, 14, 16, 18, 20, 22, 24, 26, 28]\n"
          ],
          "name": "stdout"
        }
      ]
    },
    {
      "cell_type": "code",
      "metadata": {
        "colab": {
          "base_uri": "https://localhost:8080/"
        },
        "id": "sc1Q89nzMixF",
        "outputId": "e7ad39ec-6188-4be1-dcdd-0d451162fccf"
      },
      "source": [
        "# Return the largest item from the given list\r\n",
        "aList = [4, 6, 8, 24, 12, 2]\r\n",
        "print(max(aList))"
      ],
      "execution_count": 91,
      "outputs": [
        {
          "output_type": "stream",
          "text": [
            "24\n"
          ],
          "name": "stdout"
        }
      ]
    },
    {
      "cell_type": "code",
      "metadata": {
        "colab": {
          "base_uri": "https://localhost:8080/"
        },
        "id": "nqIasXLRMq89",
        "outputId": "4c569cb6-b2e4-46e7-c41e-3fc0b169fb18"
      },
      "source": [
        "# Write a program to extract each digit from an integer, in the reverse order\r\n",
        "number = 7536\r\n",
        "while (number > 0):\r\n",
        "    digit = number % 10\r\n",
        "    number = number // 10\r\n",
        "    print(digit, end=\" \")"
      ],
      "execution_count": 92,
      "outputs": [
        {
          "output_type": "stream",
          "text": [
            "6 3 5 7 "
          ],
          "name": "stdout"
        }
      ]
    },
    {
      "cell_type": "code",
      "metadata": {
        "colab": {
          "base_uri": "https://localhost:8080/"
        },
        "id": "nlv9kMXbNA28",
        "outputId": "953790af-f187-4f54-9591-35c11a1abd54"
      },
      "source": [
        "#  Given a Python list, remove all occurrence of a given number from the list\r\n",
        "num1 = 20\r\n",
        "list1 = [5, 20, 15, 20, 25, 50, 20]\r\n",
        "\r\n",
        "def removeValue(sampleList, val):\r\n",
        "   return [value for value in sampleList if value != val]\r\n",
        "resList = removeValue(list1, num1)\r\n",
        "print(resList)"
      ],
      "execution_count": 93,
      "outputs": [
        {
          "output_type": "stream",
          "text": [
            "[5, 15, 25, 50]\n"
          ],
          "name": "stdout"
        }
      ]
    },
    {
      "cell_type": "code",
      "metadata": {
        "colab": {
          "base_uri": "https://localhost:8080/"
        },
        "id": "KJ3kt7R9NxAb",
        "outputId": "4cfe89f3-6259-4986-908c-0a63e6e415e5"
      },
      "source": [
        "# Shuffle a list randomly\r\n",
        "import random\r\n",
        "list = [2,5,8,9,12]\r\n",
        "random.shuffle(list)\r\n",
        "print (\"Printing shuffled list \", list)"
      ],
      "execution_count": 94,
      "outputs": [
        {
          "output_type": "stream",
          "text": [
            "Printing shuffled list  [9, 8, 5, 12, 2]\n"
          ],
          "name": "stdout"
        }
      ]
    },
    {
      "cell_type": "code",
      "metadata": {
        "colab": {
          "base_uri": "https://localhost:8080/"
        },
        "id": "tDvmqNpzR_nE",
        "outputId": "54d1371c-323c-4f70-fda6-3f6c4e990e19"
      },
      "source": [
        "# Generate a random n-dimensional array of float numbers\r\n",
        "import numpy\r\n",
        "random_float_array = numpy.random.rand(2, 2)\r\n",
        "print(\"2 X 2 random float array in [0.0, 1.0] \\n\", random_float_array,\"\\n\")"
      ],
      "execution_count": 95,
      "outputs": [
        {
          "output_type": "stream",
          "text": [
            "2 X 2 random float array in [0.0, 1.0] \n",
            " [[0.59065842 0.0490209 ]\n",
            " [0.17509744 0.0606194 ]] \n",
            "\n"
          ],
          "name": "stdout"
        }
      ]
    },
    {
      "cell_type": "code",
      "metadata": {
        "colab": {
          "base_uri": "https://localhost:8080/"
        },
        "id": "VY-a_-kySJwm",
        "outputId": "a886a6ef-c1e1-4d59-a519-b44abf63425e"
      },
      "source": [
        "# Generate random Universally unique IDs\r\n",
        "import uuid\r\n",
        "safeId = uuid.uuid4()\r\n",
        "print(\"safe unique id is \", safeId)"
      ],
      "execution_count": 96,
      "outputs": [
        {
          "output_type": "stream",
          "text": [
            "safe unique id is  f8aae9f5-420a-4a68-9cef-20d8ea043a4a\n"
          ],
          "name": "stdout"
        }
      ]
    },
    {
      "cell_type": "code",
      "metadata": {
        "colab": {
          "base_uri": "https://localhost:8080/"
        },
        "id": "kIEl4NwfSada",
        "outputId": "4de7d2c2-f33a-40aa-9efb-dc25e0305fee"
      },
      "source": [
        "# Choose given number of elements from the list with different probability\r\n",
        "import random\r\n",
        "num1 =5\r\n",
        "numberList = [111, 222, 333, 444, 555]\r\n",
        "print(random.choices(numberList, weights=(10, 20, 30, 40, 50), k=num1))"
      ],
      "execution_count": 97,
      "outputs": [
        {
          "output_type": "stream",
          "text": [
            "[111, 222, 444, 222, 444]\n"
          ],
          "name": "stdout"
        }
      ]
    },
    {
      "cell_type": "code",
      "metadata": {
        "colab": {
          "base_uri": "https://localhost:8080/"
        },
        "id": "A6s7z4VsSoLl",
        "outputId": "b97a650c-d4f5-445a-e3b7-f57c95fabc4a"
      },
      "source": [
        "# Generate weighted random numbers\r\n",
        "import random\r\n",
        "randomList = random.choices(range(10, 40, 5), cum_weights=(5, 15, 10, 25, 40, 65), k=6)\r\n",
        "print(randomList)"
      ],
      "execution_count": 98,
      "outputs": [
        {
          "output_type": "stream",
          "text": [
            "[35, 35, 35, 10, 25, 35]\n"
          ],
          "name": "stdout"
        }
      ]
    },
    {
      "cell_type": "code",
      "metadata": {
        "colab": {
          "base_uri": "https://localhost:8080/"
        },
        "id": "eQ74NzcES2-X",
        "outputId": "a46ff138-ef32-4d5b-adb4-8f22feac0b0c"
      },
      "source": [
        "# generating a reliable secure random number\r\n",
        "import secrets\r\n",
        "print(\"Random integer number generated using secrets module is \")\r\n",
        "number = secrets.randbelow(30)\r\n",
        "print(number)"
      ],
      "execution_count": 99,
      "outputs": [
        {
          "output_type": "stream",
          "text": [
            "Random integer number generated using secrets module is \n",
            "8\n"
          ],
          "name": "stdout"
        }
      ]
    },
    {
      "cell_type": "code",
      "metadata": {
        "colab": {
          "base_uri": "https://localhost:8080/"
        },
        "id": "OY1SGjR-TI1V",
        "outputId": "1324fea4-cc21-4886-c5fd-656aee6e1786"
      },
      "source": [
        "# Calculate memory is being used by an list in Python\r\n",
        "import sys\r\n",
        "list1 = ['Scott', 'Eric', 'Kelly', 'Emma', 'Smith']\r\n",
        "print(\"size of list = \",sys.getsizeof(list1))"
      ],
      "execution_count": 100,
      "outputs": [
        {
          "output_type": "stream",
          "text": [
            "size of list =  104\n"
          ],
          "name": "stdout"
        }
      ]
    },
    {
      "cell_type": "code",
      "metadata": {
        "colab": {
          "base_uri": "https://localhost:8080/"
        },
        "id": "UmJhGrmlTYH9",
        "outputId": "0c2c68b1-9408-4b37-8908-90129a7c5965"
      },
      "source": [
        "# Find if all elements in a list are identical\r\n",
        "listOne = [20, 20, 20, 20]\r\n",
        "print(\"All element are duplicate in listOne:\", listOne.count(listOne[0]) == len(listOne))"
      ],
      "execution_count": 101,
      "outputs": [
        {
          "output_type": "stream",
          "text": [
            "All element are duplicate in listOne: True\n"
          ],
          "name": "stdout"
        }
      ]
    },
    {
      "cell_type": "code",
      "metadata": {
        "colab": {
          "base_uri": "https://localhost:8080/"
        },
        "id": "a_knszkUTlBP",
        "outputId": "b464b6d7-1d46-44f1-b8f7-3ec952af3062"
      },
      "source": [
        "# Merge two dictionaries in a single expression\r\n",
        "currentEmployee = {1: 'Scott', 2: \"Eric\", 3:\"Kelly\"}\r\n",
        "formerEmployee  = {2: 'Eric', 4: \"Emma\"}\r\n",
        "allEmployee = {**currentEmployee, **formerEmployee}\r\n",
        "print(allEmployee)"
      ],
      "execution_count": 102,
      "outputs": [
        {
          "output_type": "stream",
          "text": [
            "{1: 'Scott', 2: 'Eric', 3: 'Kelly', 4: 'Emma'}\n"
          ],
          "name": "stdout"
        }
      ]
    },
    {
      "cell_type": "code",
      "metadata": {
        "colab": {
          "base_uri": "https://localhost:8080/"
        },
        "id": "bnHLDrNSTtqp",
        "outputId": "dc8f2649-0716-48f0-96f7-94b3c1c66df6"
      },
      "source": [
        "# Convert two lists into a dictionary\r\n",
        "ItemId = [54, 65, 76]\r\n",
        "names = [\"Hard Disk\", \"Laptop\", \"RAM\"]\r\n",
        "itemDictionary = dict(zip(ItemId, names))\r\n",
        "print(itemDictionary)"
      ],
      "execution_count": 103,
      "outputs": [
        {
          "output_type": "stream",
          "text": [
            "{54: 'Hard Disk', 65: 'Laptop', 76: 'RAM'}\n"
          ],
          "name": "stdout"
        }
      ]
    },
    {
      "cell_type": "code",
      "metadata": {
        "colab": {
          "base_uri": "https://localhost:8080/"
        },
        "id": "KNAcSz5giDMw",
        "outputId": "7bb06c01-31d5-47af-c76e-28945f6782e2"
      },
      "source": [
        "# Alternate cases in String \r\n",
        "test_str = \"geeksforgeeks\"\r\n",
        "res = \"\" \r\n",
        "for idx in range(len(test_str)): \r\n",
        "    if not idx % 2 : \r\n",
        "       res = res + test_str[idx].upper() \r\n",
        "    else: \r\n",
        "       res = res + test_str[idx].lower() \r\n",
        "print(res)"
      ],
      "execution_count": 104,
      "outputs": [
        {
          "output_type": "stream",
          "text": [
            "GeEkSfOrGeEkS\n"
          ],
          "name": "stdout"
        }
      ]
    }
  ]
}