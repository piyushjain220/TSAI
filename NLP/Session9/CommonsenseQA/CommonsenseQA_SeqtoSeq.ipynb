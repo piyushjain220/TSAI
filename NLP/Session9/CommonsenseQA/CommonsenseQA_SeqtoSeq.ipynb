{
  "nbformat": 4,
  "nbformat_minor": 0,
  "metadata": {
    "kernelspec": {
      "display_name": "Python 3",
      "language": "python",
      "name": "python3"
    },
    "language_info": {
      "codemirror_mode": {
        "name": "ipython",
        "version": 3
      },
      "file_extension": ".py",
      "mimetype": "text/x-python",
      "name": "python",
      "nbconvert_exporter": "python",
      "pygments_lexer": "ipython3",
      "version": "3.8.2"
    },
    "colab": {
      "name": "Assignment_9_Model1_CommonsenseQA.ipynb",
      "provenance": [],
      "collapsed_sections": [],
      "toc_visible": true
    },
    "accelerator": "GPU"
  },
  "cells": [
    {
      "cell_type": "code",
      "metadata": {
        "id": "uUnMLdevEzFT"
      },
      "source": [
        "import torch\n",
        "import torch.nn as nn\n",
        "import torch.optim as optim\n",
        "\n",
        "from torchtext.datasets import Multi30k\n",
        "from torchtext.data import Field, BucketIterator\n",
        "from torchtext import data\n",
        "\n",
        "import spacy\n",
        "import numpy as np\n",
        "\n",
        "import random\n",
        "import math\n",
        "import time"
      ],
      "execution_count": 1,
      "outputs": []
    },
    {
      "cell_type": "code",
      "metadata": {
        "id": "dGTCi0ybsmGn"
      },
      "source": [
        "import json\r\n",
        "import pandas as pd\r\n",
        "from pandas.io.json import json_normalize"
      ],
      "execution_count": 2,
      "outputs": []
    },
    {
      "cell_type": "markdown",
      "metadata": {
        "id": "srzErHAsEzFU"
      },
      "source": [
        "Then set a random seed for deterministic results/reproducability."
      ]
    },
    {
      "cell_type": "code",
      "metadata": {
        "id": "r_wP4J4LEzFX"
      },
      "source": [
        "SEED = 1234\n",
        "\n",
        "random.seed(SEED)\n",
        "np.random.seed(SEED)\n",
        "torch.manual_seed(SEED)\n",
        "torch.cuda.manual_seed(SEED)\n",
        "torch.backends.cudnn.deterministic = True"
      ],
      "execution_count": 3,
      "outputs": []
    },
    {
      "cell_type": "code",
      "metadata": {
        "colab": {
          "base_uri": "https://localhost:8080/"
        },
        "id": "wzqbiyTC6AWZ",
        "outputId": "81a22a7f-241c-4447-9a70-46dff3508a60"
      },
      "source": [
        "data_ls = []\r\n",
        "with open('train_rand_split.jsonl', 'r') as f:\r\n",
        "    for line in f:\r\n",
        "        data_ls.append(json.loads(line))\r\n",
        "    df_data = json_normalize(data_ls)\r\n",
        "    df_data.columns = df_data.columns.map(lambda x: x.split(\".\")[-1])"
      ],
      "execution_count": 4,
      "outputs": [
        {
          "output_type": "stream",
          "text": [
            "/usr/local/lib/python3.6/dist-packages/ipykernel_launcher.py:5: FutureWarning: pandas.io.json.json_normalize is deprecated, use pandas.json_normalize instead\n",
            "  \"\"\"\n"
          ],
          "name": "stderr"
        }
      ]
    },
    {
      "cell_type": "code",
      "metadata": {
        "colab": {
          "base_uri": "https://localhost:8080/",
          "height": 445
        },
        "id": "bFPk3zj9tPG1",
        "outputId": "dfe15b2a-cf87-4568-8582-c13281fecb91"
      },
      "source": [
        "num_choices = len(df_data['choices'][0])\r\n",
        "\r\n",
        "def get_choices(options, val):\r\n",
        "    option = options[int(val)]\r\n",
        "    return option.get('text')\r\n",
        "\r\n",
        "choices = np.arange(num_choices)\r\n",
        "choices = choices.astype('str')\r\n",
        "answer_match = {'A':0, 'B':1, 'C':2, 'D':3, 'E':4}\r\n",
        "\r\n",
        "def get_label(answer):\r\n",
        "    return answer_match.get(answer)\r\n",
        "df_data['label'] = df_data['answerKey'].apply(lambda x: get_label(x))\r\n",
        "\r\n",
        "df_data['answer'] = df_data.apply(lambda x: get_choices(x['choices'], x['label']), axis=1)\r\n",
        "\r\n",
        "df_data.head()"
      ],
      "execution_count": 5,
      "outputs": [
        {
          "output_type": "execute_result",
          "data": {
            "text/html": [
              "<div>\n",
              "<style scoped>\n",
              "    .dataframe tbody tr th:only-of-type {\n",
              "        vertical-align: middle;\n",
              "    }\n",
              "\n",
              "    .dataframe tbody tr th {\n",
              "        vertical-align: top;\n",
              "    }\n",
              "\n",
              "    .dataframe thead th {\n",
              "        text-align: right;\n",
              "    }\n",
              "</style>\n",
              "<table border=\"1\" class=\"dataframe\">\n",
              "  <thead>\n",
              "    <tr style=\"text-align: right;\">\n",
              "      <th></th>\n",
              "      <th>answerKey</th>\n",
              "      <th>id</th>\n",
              "      <th>question_concept</th>\n",
              "      <th>choices</th>\n",
              "      <th>stem</th>\n",
              "      <th>label</th>\n",
              "      <th>answer</th>\n",
              "    </tr>\n",
              "  </thead>\n",
              "  <tbody>\n",
              "    <tr>\n",
              "      <th>0</th>\n",
              "      <td>A</td>\n",
              "      <td>075e483d21c29a511267ef62bedc0461</td>\n",
              "      <td>punishing</td>\n",
              "      <td>[{'label': 'A', 'text': 'ignore'}, {'label': '...</td>\n",
              "      <td>The sanctions against the school were a punish...</td>\n",
              "      <td>0</td>\n",
              "      <td>ignore</td>\n",
              "    </tr>\n",
              "    <tr>\n",
              "      <th>1</th>\n",
              "      <td>B</td>\n",
              "      <td>61fe6e879ff18686d7552425a36344c8</td>\n",
              "      <td>people</td>\n",
              "      <td>[{'label': 'A', 'text': 'race track'}, {'label...</td>\n",
              "      <td>Sammy wanted to go to where the people were.  ...</td>\n",
              "      <td>1</td>\n",
              "      <td>populated areas</td>\n",
              "    </tr>\n",
              "    <tr>\n",
              "      <th>2</th>\n",
              "      <td>A</td>\n",
              "      <td>4c1cb0e95b99f72d55c068ba0255c54d</td>\n",
              "      <td>choker</td>\n",
              "      <td>[{'label': 'A', 'text': 'jewelry store'}, {'la...</td>\n",
              "      <td>To locate a choker not located in a jewelry bo...</td>\n",
              "      <td>0</td>\n",
              "      <td>jewelry store</td>\n",
              "    </tr>\n",
              "    <tr>\n",
              "      <th>3</th>\n",
              "      <td>D</td>\n",
              "      <td>02e821a3e53cb320790950aab4489e85</td>\n",
              "      <td>highway</td>\n",
              "      <td>[{'label': 'A', 'text': 'united states'}, {'la...</td>\n",
              "      <td>Google Maps and other highway and street GPS s...</td>\n",
              "      <td>3</td>\n",
              "      <td>atlas</td>\n",
              "    </tr>\n",
              "    <tr>\n",
              "      <th>4</th>\n",
              "      <td>C</td>\n",
              "      <td>23505889b94e880c3e89cff4ba119860</td>\n",
              "      <td>fox</td>\n",
              "      <td>[{'label': 'A', 'text': 'pretty flowers.'}, {'...</td>\n",
              "      <td>The fox walked from the city into the forest, ...</td>\n",
              "      <td>2</td>\n",
              "      <td>natural habitat</td>\n",
              "    </tr>\n",
              "  </tbody>\n",
              "</table>\n",
              "</div>"
            ],
            "text/plain": [
              "  answerKey                                id  ... label           answer\n",
              "0         A  075e483d21c29a511267ef62bedc0461  ...     0           ignore\n",
              "1         B  61fe6e879ff18686d7552425a36344c8  ...     1  populated areas\n",
              "2         A  4c1cb0e95b99f72d55c068ba0255c54d  ...     0    jewelry store\n",
              "3         D  02e821a3e53cb320790950aab4489e85  ...     3            atlas\n",
              "4         C  23505889b94e880c3e89cff4ba119860  ...     2  natural habitat\n",
              "\n",
              "[5 rows x 7 columns]"
            ]
          },
          "metadata": {
            "tags": []
          },
          "execution_count": 5
        }
      ]
    },
    {
      "cell_type": "code",
      "metadata": {
        "id": "gjY2ISM7t1EP"
      },
      "source": [
        "df_data = df_data[['stem', 'answer']]\r\n",
        "df_data.columns = ['question', 'answer']"
      ],
      "execution_count": 6,
      "outputs": []
    },
    {
      "cell_type": "code",
      "metadata": {
        "id": "N9j9thy2-_Dn"
      },
      "source": [
        "spacy_en = spacy.load('en')"
      ],
      "execution_count": 7,
      "outputs": []
    },
    {
      "cell_type": "code",
      "metadata": {
        "id": "AVkjXini5dbB"
      },
      "source": [
        "def tokenize_text(text):\r\n",
        "    \"\"\"\r\n",
        "    Tokenizes English text from a string into a list of strings\r\n",
        "    \"\"\"\r\n",
        "    return [tok.text for tok in spacy_en.tokenizer(text)]"
      ],
      "execution_count": 8,
      "outputs": []
    },
    {
      "cell_type": "code",
      "metadata": {
        "id": "SbmLCwWA90PP"
      },
      "source": [
        "SRC = Field(tokenize = tokenize_text, \r\n",
        "            init_token = '<sos>', \r\n",
        "            eos_token = '<eos>', \r\n",
        "            lower = True)\r\n",
        "TRG = Field(tokenize = tokenize_text, \r\n",
        "            init_token = '<sos>', \r\n",
        "            eos_token = '<eos>', \r\n",
        "            lower = True)\r\n",
        "\r\n",
        "data_fields = [('SRC', SRC), ('TRG', TRG)]\r\n",
        "\r\n",
        "example = [data.Example.fromlist([df_data.question[i],df_data.answer[i]], data_fields) for i in range(df_data.shape[0])]\r\n",
        "\r\n",
        "QADataset = data.Dataset(example, data_fields)\r\n",
        "\r\n",
        "(train_data, valid_data, test_data) = QADataset.split(split_ratio=[0.80, 0.1, 0.1], random_state=random.seed(SEED))\r\n",
        "\r\n",
        "SRC.build_vocab(train_data, min_freq = 2)\r\n",
        "TRG.build_vocab(train_data, min_freq = 2)"
      ],
      "execution_count": 9,
      "outputs": []
    },
    {
      "cell_type": "markdown",
      "metadata": {
        "id": "hawianoFEzFY"
      },
      "source": [
        "Instantiate our German and English spaCy models."
      ]
    },
    {
      "cell_type": "markdown",
      "metadata": {
        "id": "2bEkyPt5EzFY"
      },
      "source": [
        "Previously we reversed the source (German) sentence, however in the paper we are implementing they don't do this, so neither will we."
      ]
    },
    {
      "cell_type": "markdown",
      "metadata": {
        "id": "i7rbQLYHEzFZ"
      },
      "source": [
        "Create our fields to process our data. This will append the \"start of sentence\" and \"end of sentence\" tokens as well as converting all words to lowercase."
      ]
    },
    {
      "cell_type": "markdown",
      "metadata": {
        "id": "BsycLH0DEzFa"
      },
      "source": [
        "Load our data."
      ]
    },
    {
      "cell_type": "markdown",
      "metadata": {
        "id": "Fen1DHy6EzFb"
      },
      "source": [
        "We'll also print out an example just to double check they're not reversed."
      ]
    },
    {
      "cell_type": "markdown",
      "metadata": {
        "id": "RRDnbA09EzFc"
      },
      "source": [
        "Then create our vocabulary, converting all tokens appearing less than twice into `<unk>` tokens."
      ]
    },
    {
      "cell_type": "markdown",
      "metadata": {
        "id": "F2hiioCLEzFd"
      },
      "source": [
        "Finally, define the `device` and create our iterators."
      ]
    },
    {
      "cell_type": "code",
      "metadata": {
        "id": "f4davOyYEzFd"
      },
      "source": [
        "device = torch.device('cuda' if torch.cuda.is_available() else 'cpu')"
      ],
      "execution_count": 10,
      "outputs": []
    },
    {
      "cell_type": "code",
      "metadata": {
        "id": "ZT4Zg9QrEzFd"
      },
      "source": [
        "BATCH_SIZE = 128\n",
        "\n",
        "train_iterator, valid_iterator, test_iterator = BucketIterator.splits(\n",
        "    (train_data, valid_data, test_data), \n",
        "    batch_size = BATCH_SIZE,\n",
        "    sort_key = lambda X:len(X.SRC),\n",
        "    device = device)"
      ],
      "execution_count": 11,
      "outputs": []
    },
    {
      "cell_type": "code",
      "metadata": {
        "id": "IzKhUJo4EzFb",
        "colab": {
          "base_uri": "https://localhost:8080/"
        },
        "outputId": "a9f03a5a-527c-443e-893d-e7e2e34a16a8"
      },
      "source": [
        "print(vars(train_data.examples[1]))\r\n",
        "print(SRC.vocab.stoi)\r\n",
        "print(TRG.vocab.stoi)"
      ],
      "execution_count": 12,
      "outputs": [
        {
          "output_type": "stream",
          "text": [
            "{'SRC': ['some', 'people', 'get', 'carried', 'away', 'with', 'shopping', ',', 'they', \"'ll\", 'often', 'be', 'buying', 'products', 'they', 'would', \"n't\", 'even', 'find', 'themselves', 'what', '?'], 'TRG': ['being', 'able', 'to', 'use']}\n",
            "defaultdict(<function _default_unk_index at 0x7f7285a0bf28>, {'<unk>': 0, '<pad>': 1, '<sos>': 2, '<eos>': 3, '?': 4, 'what': 5, 'a': 6, 'the': 7, 'to': 8, ',': 9, 'where': 10, 'you': 11, 'he': 12, 'is': 13, 'was': 14, 'of': 15, 'in': 16, 'do': 17, 'it': 18, '.': 19, 'and': 20, 'would': 21, ' ': 22, 'be': 23, 'if': 24, 'they': 25, 'for': 26, 'when': 27, 'that': 28, 'are': 29, 'have': 30, 'his': 31, 'did': 32, 'people': 33, 'might': 34, 'on': 35, 'can': 36, 'she': 37, 'likely': 38, \"n't\": 39, 'with': 40, 'but': 41, 'someone': 42, 'find': 43, 'person': 44, 'could': 45, 'had': 46, 'i': 47, 'does': 48, 'an': 49, 'at': 50, 'not': 51, 'from': 52, 'get': 53, 'were': 54, 'one': 55, 'after': 56, 'go': 57, \"'s\": 58, 'their': 59, 'so': 60, 'her': 61, 'want': 62, 'your': 63, 'all': 64, 'put': 65, 'this': 66, 'out': 67, 'because': 68, 'how': 69, 'place': 70, 'up': 71, 'about': 72, 'wanted': 73, 'john': 74, 'there': 75, 'why': 76, 'many': 77, 'them': 78, 'him': 79, 'will': 80, 'as': 81, 'doing': 82, 'need': 83, 'while': 84, 'should': 85, 'by': 86, 'something': 87, 'has': 88, 'james': 89, 'found': 90, 'time': 91, 'most': 92, 'work': 93, 'who': 94, 'going': 95, 'use': 96, 'good': 97, 'like': 98, 'see': 99, 'happen': 100, 'other': 101, 'some': 102, 'make': 103, 'man': 104, 'new': 105, \"'re\": 106, 'very': 107, 'being': 108, 'feel': 109, 'getting': 110, 'just': 111, 'or': 112, 'home': 113, 'more': 114, 'buy': 115, 'needed': 116, 'food': 117, 'keep': 118, 'used': 119, 'often': 120, 'lot': 121, 'day': 122, 'house': 123, 'playing': 124, 'store': 125, 'been': 126, 'before': 127, 'way': 128, 'things': 129, 'only': 130, 'cause': 131, 'play': 132, 'always': 133, 'long': 134, 'looking': 135, 'happens': 136, 'car': 137, 'made': 138, 'water': 139, 'too': 140, 'live': 141, 'small': 142, 'take': 143, 'having': 144, 'into': 145, 'off': 146, 'much': 147, 'usually': 148, 'than': 149, 'look': 150, 'called': 151, 'lead': 152, 'child': 153, 'human': 154, 'down': 155, 'which': 156, 'children': 157, 'got': 158, 'my': 159, '  ': 160, 'billy': 161, 'eating': 162, 'went': 163, 'kind': 164, 'over': 165, 'felt': 166, 'first': 167, 'city': 168, 'friends': 169, 'result': 170, 'dog': 171, 'eat': 172, 'located': 173, 'large': 174, 'no': 175, 'room': 176, 'thought': 177, 'away': 178, 'even': 179, 'through': 180, 'type': 181, 'another': 182, 'sam': 183, 'two': 184, 'around': 185, 'stop': 186, 'am': 187, 'loved': 188, 'during': 189, 'end': 190, 'area': 191, 'best': 192, 'each': 193, 'job': 194, 'though': 195, 'big': 196, 'kept': 197, 'may': 198, 'driving': 199, 'life': 200, 'money': 201, 'outside': 202, 'school': 203, 'thing': 204, 'using': 205, 'wants': 206, 'bad': 207, 'old': 208, 'part': 209, 'experience': 210, 'student': 211, 'know': 212, 'must': 213, 'hard': 214, 'state': 215, 'well': 216, 'any': 217, 'else': 218, 'great': 219, 'sarah': 220, 'began': 221, 'learning': 222, 'living': 223, 'office': 224, 'saw': 225, 'show': 226, 'trying': 227, 'we': 228, 'building': 229, 'every': 230, 'help': 231, 'joe': 232, 'knew': 233, 'really': 234, 'sort': 235, 'able': 236, 'country': 237, 'feeling': 238, 'told': 239, 'bed': 240, 'bill': 241, 'next': 242, 'said': 243, 'sometimes': 244, 'took': 245, 'also': 246, 'run': 247, 'watch': 248, 'watching': 249, '-': 250, 'near': 251, 'family': 252, 'learn': 253, 'move': 254, 'order': 255, 'still': 256, 'night': 257, 'then': 258, 'tree': 259, 'back': 260, 'buying': 261, 'decided': 262, 'killing': 263, 'left': 264, 'others': 265, 'ball': 266, 'done': 267, 'fun': 268, 'game': 269, 'known': 270, 'never': 271, 'public': 272, 'sally': 273, 'table': 274, 'apple': 275, 'bought': 276, 'computer': 277, 'hear': 278, 'humans': 279, 'working': 280, 'clothes': 281, 'different': 282, 'looked': 283, 'paper': 284, 'liked': 285, 'music': 286, 'shopping': 287, 'talking': 288, 'animals': 289, 'book': 290, 'door': 291, 'high': 292, 'start': 293, 'together': 294, 'body': 295, 'group': 296, 'important': 297, 'light': 298, 'line': 299, 'running': 300, 'cat': 301, 'drinking': 302, 'floor': 303, 'friend': 304, 'kids': 305, 'love': 306, 'probably': 307, 'side': 308, 'come': 309, 'goal': 310, 'information': 311, 'lunch': 312, 'read': 313, 'students': 314, 'think': 315, 'hot': 316, 'its': 317, 'making': 318, 'quite': 319, 'without': 320, 'bring': 321, 'business': 322, 'cold': 323, 'give': 324, 'party': 325, 'say': 326, 'seeing': 327, 'shop': 328, 'tried': 329, 'air': 330, 'bald': 331, 'committing': 332, 'company': 333, 'drunk': 334, 'enjoyed': 335, 'full': 336, 'himself': 337, 'needs': 338, 'restaurant': 339, 'spend': 340, 'spent': 341, 'stay': 342, 'teacher': 343, 'television': 344, \"'d\": 345, 'become': 346, 'call': 347, 'enjoy': 348, 'enough': 349, 'hands': 350, 'inside': 351, 'meeting': 352, 'now': 353, 'right': 354, 'seemed': 355, 'sure': 356, 'try': 357, 'alcohol': 358, 'between': 359, 'common': 360, 'drink': 361, 'hand': 362, 'happened': 363, 'hoping': 364, 'world': 365, 'anything': 366, 'cup': 367, 'everybody': 368, 'fast': 369, 'happy': 370, 'lived': 371, 'lost': 372, 'road': 373, 'set': 374, 'sex': 375, 'sleep': 376, 'taking': 377, 'ticket': 378, 'typically': 379, 'waiting': 380, 'achieve': 381, 'along': 382, 'box': 383, 'competing': 384, 'everyone': 385, 'fish': 386, 'instead': 387, 'somewhere': 388, 'soon': 389, 'tend': 390, 'vacation': 391, 'walk': 392, 'woman': 393, 'expect': 394, 'farmer': 395, 'front': 396, 'games': 397, 'leave': 398, 'little': 399, 'mother': 400, 'moving': 401, 'reading': 402, 'science': 403, 'snake': 404, 'space': 405, 'standing': 406, 'against': 407, 'animal': 408, 'avoid': 409, 'caught': 410, 'chair': 411, 'class': 412, 'eagle': 413, 'glass': 414, 'opposite': 415, 'own': 416, 'sitting': 417, 'warm': 418, 'young': 419, 'yourself': 420, 'art': 421, 'bob': 422, 'build': 423, 'few': 424, 'fire': 425, 'fox': 426, 'me': 427, 'parents': 428, 'weasel': 429, 'asked': 430, 'bag': 431, 'chatting': 432, 'court': 433, 'dogs': 434, 'gave': 435, 'town': 436, 'trees': 437, 'tv': 438, 'wet': 439, 'ca': 440, 'came': 441, 'crab': 442, 'famous': 443, 'government': 444, 'grow': 445, 'kitchen': 446, 'likes': 447, 'location': 448, 'tired': 449, 'wall': 450, \"'ll\": 451, 'better': 452, 'birds': 453, 'brought': 454, 'care': 455, 'clothing': 456, 'coffee': 457, 'gain': 458, 'horse': 459, 'hours': 460, 'last': 461, 'potato': 462, 'ready': 463, 'real': 464, 'themselves': 465, 'visit': 466, 'visiting': 467, 'whole': 468, 'across': 469, 'breakfast': 470, 'cats': 471, 'close': 472, 'favorite': 473, 'finally': 474, 'ground': 475, 'hair': 476, 'hit': 477, 'idea': 478, 'land': 479, 'listening': 480, 'monkey': 481, 'movie': 482, 'nearby': 483, 'police': 484, 'rest': 485, 'same': 486, 'sit': 487, 'sports': 488, 'talk': 489, 'traveling': 490, 'trouble': 491, 'washing': 492, 'worried': 493, 'years': 494, '\"': 495, 'beginning': 496, 'boredom': 497, 'bus': 498, 'check': 499, 'clean': 500, 'ficus': 501, 'free': 502, 'head': 503, 'listen': 504, 'lots': 505, 'makes': 506, 'middle': 507, 'morning': 508, 'shark': 509, 'worked': 510, \"'ve\": 511, 'attending': 512, 'blood': 513, 'carry': 514, 'cars': 515, 'describe': 516, 'doctor': 517, 'due': 518, 'easily': 519, 'emotion': 520, 'feet': 521, 'field': 522, 'finished': 523, 'fishing': 524, 'garden': 525, 'giving': 526, 'hamburger': 527, 'housework': 528, 'items': 529, 'let': 530, 'lying': 531, 'marmot': 532, 'normally': 533, 'open': 534, 'placed': 535, 'plants': 536, 'seen': 537, 'stored': 538, 'stuck': 539, 'suffered': 540, 'suffering': 541, 'trip': 542, 'walking': 543, 'war': 544, 'beer': 545, 'behind': 546, 'both': 547, 'changing': 548, 'death': 549, 'difficult': 550, 'dinner': 551, 'everything': 552, 'expected': 553, 'explained': 554, 'finding': 555, 'general': 556, 'goes': 557, 'highway': 558, 'hold': 559, 'ice': 560, 'item': 561, 'lives': 562, 'lizard': 563, 'main': 564, 'meet': 565, 'murder': 566, 'newspaper': 567, 'ocean': 568, 'phone': 569, 'played': 570, 'problem': 571, 'required': 572, 'sale': 573, 'sign': 574, 'since': 575, 'started': 576, 'sun': 577, 'takes': 578, 'team': 579, 'wife': 580, 'window': 581, 'adult': 582, 'america': 583, 'bar': 584, 'baseball': 585, 'beaver': 586, 'chess': 587, 'coming': 588, 'couple': 589, 'create': 590, 'customers': 591, 'dan': 592, 'desk': 593, 'despite': 594, 'evening': 595, 'exercise': 596, 'eyes': 597, 'hall': 598, 'jane': 599, 'jogging': 600, 'led': 601, 'local': 602, 'machine': 603, 'mountain': 604, 'number': 605, 'places': 606, 'popular': 607, 'putting': 608, 'quickly': 609, 'source': 610, 'such': 611, 'times': 612, 'top': 613, 'traffic': 614, 'under': 615, 'unlikely': 616, 'walked': 617, 'weather': 618, 'audience': 619, 'begin': 620, 'break': 621, 'cards': 622, 'change': 623, 'computers': 624, 'control': 625, 'covered': 626, 'danny': 627, 'drive': 628, 'earth': 629, 'effort': 630, 'fall': 631, 'fight': 632, 'fresh': 633, 'given': 634, 'hated': 635, 'hope': 636, 'instrument': 637, 'jellyfish': 638, 'married': 639, 'museum': 640, 'object': 641, 'parking': 642, 'pet': 643, 'piece': 644, 'plant': 645, 'reality': 646, 'reason': 647, 'sick': 648, 'stand': 649, 'starting': 650, 'telephone': 651, 'tell': 652, 'tennis': 653, 'these': 654, 'travel': 655, 'turn': 656, 'turned': 657, 'vehicle': 658, 'view': 659, 'accident': 660, 'blowfish': 661, 'bread': 662, 'breathing': 663, 'broken': 664, 'clear': 665, 'corner': 666, 'curiosity': 667, 'cut': 668, 'dance': 669, 'event': 670, 'expensive': 671, 'gift': 672, 'grooming': 673, 'hungry': 674, 'hurting': 675, 'inflation': 676, 'injury': 677, 'kid': 678, 'learned': 679, 'leaving': 680, 'losing': 681, 'meal': 682, 'north': 683, 'nothing': 684, 'pay': 685, 'performance': 686, 'pick': 687, 'planning': 688, 'product': 689, 'products': 690, 'radio': 691, 'reception': 692, 'requires': 693, 'river': 694, 'rock': 695, 'safe': 696, 'shelf': 697, 'society': 698, 'stopped': 699, 'u.s.': 700, 'unable': 701, 'wild': 702, 'wood': 703, 'allowed': 704, 'american': 705, 'baby': 706, 'band': 707, 'beautiful': 708, 'board': 709, 'books': 710, 'built': 711, 'caused': 712, 'causes': 713, 'climbing': 714, 'college': 715, 'comes': 716, 'communicate': 717, 'container': 718, 'device': 719, 'exercising': 720, 'experiencing': 721, 'expressing': 722, 'filled': 723, 'film': 724, 'handle': 725, 'here': 726, 'lady': 727, 'late': 728, 'leads': 729, 'longer': 730, 'loose': 731, 'necessary': 732, 'noise': 733, 'preferred': 734, 'purpose': 735, 'rather': 736, 'return': 737, 'ride': 738, 'scared': 739, 'simple': 740, 'situation': 741, 'stuff': 742, 'surprise': 743, 'surrounded': 744, 'term': 745, 'those': 746, 'violin': 747, 'ways': 748, 'action': 749, 'again': 750, 'areas': 751, 'assistance': 752, 'boss': 753, 'boy': 754, 'case': 755, 'certain': 756, 'coast': 757, 'cow': 758, 'dangerous': 759, 'easy': 760, 'effect': 761, 'electricity': 762, 'fact': 763, 'form': 764, 'heart': 765, 'hotel': 766, 'immediately': 767, 'meant': 768, 'member': 769, 'mouse': 770, 'moved': 771, 'park': 772, 'perjury': 773, 'personal': 774, 'possible': 775, 'prevent': 776, 'rain': 777, 'razor': 778, 'relationship': 779, 's': 780, 'sat': 781, 'shoes': 782, 'single': 783, 'sky': 784, 'sleeping': 785, 'special': 786, 'states': 787, 'station': 788, 'staying': 789, 'story': 790, 'straight': 791, 'structure': 792, 'studying': 793, 'suffer': 794, 'surface': 795, 'test': 796, 'thick': 797, 'train': 798, 'until': 799, 'uses': 800, 'wear': 801, 'white': 802, 'write': 803, 'actually': 804, 'afraid': 805, 'agent': 806, 'already': 807, 'amount': 808, 'basketball': 809, 'bathroom': 810, 'becoming': 811, 'believe': 812, 'booth': 813, 'card': 814, 'chicken': 815, 'choose': 816, 'cleaning': 817, 'consequence': 818, 'cook': 819, 'creating': 820, 'decide': 821, 'drop': 822, 'dust': 823, 'electric': 824, 'enjoying': 825, 'environment': 826, 'equipment': 827, 'estate': 828, 'fan': 829, 'far': 830, 'fear': 831, 'fighting': 832, 'finish': 833, 'fit': 834, 'flight': 835, 'gets': 836, 'girl': 837, 'happening': 838, 'heard': 839, 'heat': 840, 'hide': 841, 'jumping': 842, 'key': 843, 'knowledge': 844, 'liquid': 845, 'marmoset': 846, 'mean': 847, 'means': 848, 'men': 849, 'name': 850, 'once': 851, 'owned': 852, 'paid': 853, 'pen': 854, 'piano': 855, 'picked': 856, 'plain': 857, 'plan': 858, 'plate': 859, 'procreating': 860, 'questions': 861, 'ran': 862, 'reaching': 863, 'red': 864, 'region': 865, 'religious': 866, 'rosebush': 867, 'round': 868, 'served': 869, 'setting': 870, 'shape': 871, 'share': 872, 'sharp': 873, 'soldiers': 874, 'southern': 875, 'steak': 876, 'taken': 877, 'truth': 878, 'wait': 879, 'week': 880, 'win': 881, 'writing': 882, 'wrong': 883, 'year': 884, 'zoo': 885, 'alone': 886, 'attached': 887, 'became': 888, 'bedroom': 889, 'catch': 890, 'celebrating': 891, 'cheese': 892, 'constantly': 893, 'couch': 894, 'crowd': 895, 'days': 896, 'deal': 897, 'dentist': 898, 'dirty': 899, 'divorce': 900, 'early': 901, 'east': 902, 'energy': 903, 'falling': 904, 'father': 905, 'forward': 906, 'garbage': 907, 'generally': 908, 'gentleman': 909, 'gone': 910, 'gotten': 911, 'higher': 912, 'instruments': 913, 'johnny': 914, 'judge': 915, 'less': 916, 'lilly': 917, 'mary': 918, 'miles': 919, 'millions': 920, 'mom': 921, 'normal': 922, 'noticed': 923, 'ones': 924, 'parts': 925, 'pass': 926, 'perform': 927, 'pictures': 928, 'plenty': 929, 'purchase': 930, 'quality': 931, 'reach': 932, 'rod': 933, 'serve': 934, 'skin': 935, 'sloth': 936, 'sorts': 937, 'speak': 938, 'sport': 939, 'stage': 940, 'street': 941, 'sunshine': 942, 'thousands': 943, 'throw': 944, 'twenty': 945, 'winter': 946, 'women': 947, 'works': 948, 'act': 949, 'agreeing': 950, 'anger': 951, 'answer': 952, 'attention': 953, 'bird': 954, 'bottle': 955, 'bowl': 956, 'bridge': 957, 'candy': 958, 'chain': 959, 'christmas': 960, 'civil': 961, 'communicating': 962, 'competition': 963, 'concert': 964, 'contemplating': 965, 'continent': 966, 'customer': 967, 'die': 968, 'distance': 969, 'dream': 970, 'dry': 971, 'entrance': 972, 'escape': 973, 'eventually': 974, 'feature': 975, 'fell': 976, 'fly': 977, 'forgot': 978, 'four': 979, 'french': 980, 'god': 981, 'hang': 982, 'healthy': 983, 'heavy': 984, 'held': 985, 'helped': 986, 'hiking': 987, 'houses': 988, 'illness': 989, 'installed': 990, 'lamp': 991, 'least': 992, 'lines': 993, 'magazines': 994, 'market': 995, 'matter': 996, 'meat': 997, 'met': 998, 'milk': 999, 'native': 1000, 'nice': 1001, 'opening': 1002, 'pain': 1003, 'patient': 1004, 'performing': 1005, 'picture': 1006, 'plastic': 1007, 'point': 1008, 'positive': 1009, 'potatoes': 1010, 'practice': 1011, 'program': 1012, 'queen': 1013, 'raised': 1014, 'reaction': 1015, 'remember': 1016, 'riding': 1017, 'sean': 1018, 'seat': 1019, 'sees': 1020, 'shirt': 1021, 'sold': 1022, 'soldier': 1023, 'sound': 1024, 'south': 1025, 'spot': 1026, 'step': 1027, 'subject': 1028, 'suit': 1029, 'telling': 1030, 'thinking': 1031, 'threw': 1032, 'tickets': 1033, 'trance': 1034, 'understand': 1035, 'upon': 1036, 'upright': 1037, 'vessel': 1038, 'words': 1039, 'accomplish': 1040, 'activity': 1041, 'agreement': 1042, 'allow': 1043, 'answering': 1044, 'applying': 1045, 'balloon': 1046, 'bath': 1047, 'beauty': 1048, 'bigger': 1049, 'bike': 1050, 'birthday': 1051, 'bit': 1052, 'black': 1053, 'bone': 1054, 'bored': 1055, 'bringing': 1056, 'brother': 1057, 'buildings': 1058, 'cable': 1059, 'careful': 1060, 'center': 1061, 'chairs': 1062, 'clock': 1063, 'closest': 1064, 'color': 1065, 'complete': 1066, 'condition': 1067, 'connection': 1068, 'considered': 1069, 'continue': 1070, 'cooking': 1071, 'cover': 1072, 'cream': 1073, 'dead': 1074, 'deep': 1075, 'described': 1076, 'drinks': 1077, 'empty': 1078, 'ended': 1079, 'entertaining': 1080, 'entire': 1081, 'especially': 1082, 'excitement': 1083, 'experienced': 1084, 'express': 1085, 'extra': 1086, 'face': 1087, 'farm': 1088, 'feelings': 1089, 'fiddling': 1090, 'folding': 1091, 'gaining': 1092, 'goods': 1093, 'grapes': 1094, 'growing': 1095, 'guilty': 1096, 'guitar': 1097, 'heading': 1098, 'jeans': 1099, 'jim': 1100, 'kissing': 1101, 'leaves': 1102, 'letter': 1103, 'listened': 1104, 'loud': 1105, 'map': 1106, 'metal': 1107, 'odd': 1108, 'passed': 1109, 'past': 1110, 'players': 1111, 'pool': 1112, 'poor': 1113, 'problems': 1114, 'process': 1115, 'project': 1116, 'relax': 1117, 'relaxing': 1118, 'remembering': 1119, 'respect': 1120, 'returning': 1121, 'ring': 1122, 'rubber': 1123, 'screen': 1124, 'seats': 1125, 'second': 1126, 'seek': 1127, 'seeking': 1128, 'sense': 1129, 'serious': 1130, 'service': 1131, 'showed': 1132, 'sight': 1133, 'simply': 1134, 'singing': 1135, 'smell': 1136, 'smoking': 1137, 'soccer': 1138, 'somebody': 1139, 'speaking': 1140, 'speech': 1141, 'spouse': 1142, 'storage': 1143, 'sunlight': 1144, 'today': 1145, 'toward': 1146, 'transportation': 1147, 'types': 1148, 'us': 1149, 'winning': 1150, 'yet': 1151, 'above': 1152, 'adults': 1153, 'affect': 1154, 'airplanes': 1155, 'almost': 1156, 'apartment': 1157, 'ate': 1158, 'bass': 1159, 'birth': 1160, 'bound': 1161, 'businesses': 1162, 'busy': 1163, 'canned': 1164, 'cargo': 1165, 'cheap': 1166, 'comfortable': 1167, 'compete': 1168, 'concerned': 1169, 'contain': 1170, 'copy': 1171, 'crime': 1172, 'dark': 1173, 'dirt': 1174, 'discovering': 1175, 'displayed': 1176, 'drawer': 1177, 'driver': 1178, 'eggs': 1179, 'employee': 1180, 'events': 1181, 'expert': 1182, 'ferret': 1183, 'fiddle': 1184, 'final': 1185, 'foot': 1186, 'football': 1187, 'forest': 1188, 'furniture': 1189, 'gather': 1190, 'glasses': 1191, 'grass': 1192, 'groups': 1193, 'guests': 1194, 'hearing': 1195, 'herself': 1196, 'homes': 1197, 'horses': 1198, 'host': 1199, 'hunger': 1200, 'hurt': 1201, 'improve': 1202, 'inebriated': 1203, 'involved': 1204, 'join': 1205, 'keeps': 1206, 'language': 1207, 'leader': 1208, 'leg': 1209, 'legal': 1210, 'lemur': 1211, 'library': 1212, 'lock': 1213, 'lose': 1214, 'mammoth': 1215, 'mind': 1216, 'mountains': 1217, 'movies': 1218, 'negative': 1219, 'northern': 1220, 'opened': 1221, 'pants': 1222, 'period': 1223, 'planet': 1224, 'popcorn': 1225, 'presents': 1226, 'president': 1227, 'projectile': 1228, 'pull': 1229, 'pulled': 1230, 'require': 1231, 'rise': 1232, 'rope': 1233, 'ships': 1234, 'shows': 1235, 'simon': 1236, 'snow': 1237, 'sofa': 1238, 'specialized': 1239, 'stick': 1240, 'stopping': 1241, 'stores': 1242, 'strong': 1243, 'successful': 1244, 'sugar': 1245, 'system': 1246, 'talked': 1247, 'tentative': 1248, 'thirsty': 1249, 'toilet': 1250, 'tool': 1251, 'toy': 1252, 'trash': 1253, 'useful': 1254, 'variety': 1255, 'waited': 1256, 'wanting': 1257, 'wind': 1258, 'wooden': 1259, 'woods': 1260, 'yard': 1261, \"'m\": 1262, 'ability': 1263, 'advantage': 1264, 'afterwards': 1265, 'ago': 1266, 'airplane': 1267, 'aisle': 1268, 'alcoholic': 1269, 'anemone': 1270, 'artist': 1271, 'attend': 1272, 'auditorium': 1273, 'bags': 1274, 'basement': 1275, 'bbq': 1276, 'bee': 1277, 'blanket': 1278, 'blue': 1279, 'boat': 1280, 'boxes': 1281, 'cake': 1282, 'california': 1283, 'calls': 1284, 'calm': 1285, 'causing': 1286, 'central': 1287, 'chose': 1288, 'cities': 1289, 'closer': 1290, 'commonly': 1291, 'consciousness': 1292, 'contact': 1293, 'contraceptive': 1294, 'convicted': 1295, 'crash': 1296, 'damage': 1297, 'deli': 1298, 'designed': 1299, 'direction': 1300, 'dishes': 1301, 'display': 1302, 'double': 1303, 'dressed': 1304, 'drugs': 1305, 'enter': 1306, 'entertainment': 1307, 'ever': 1308, 'everywhere': 1309, 'excavation': 1310, 'explain': 1311, 'exposed': 1312, 'expressway': 1313, 'extinguisher': 1314, 'faith': 1315, 'fat': 1316, 'figure': 1317, 'finds': 1318, 'flooring': 1319, 'flowers': 1320, 'frozen': 1321, 'george': 1322, 'glue': 1323, 'grape': 1324, 'guy': 1325, 'hamburgers': 1326, 'helping': 1327, 'history': 1328, 'hitting': 1329, 'hour': 1330, 'husband': 1331, 'injured': 1332, 'iron': 1333, 'issues': 1334, 'judging': 1335, 'kill': 1336, 'kinds': 1337, 'king': 1338, 'lawn': 1339, 'lawyer': 1340, 'lazy': 1341, 'lecture': 1342, 'legs': 1343, 'level': 1344, 'lizards': 1345, 'loves': 1346, 'machines': 1347, 'master': 1348, 'match': 1349, 'material': 1350, 'mental': 1351, 'natural': 1352, 'nature': 1353, 'non': 1354, 'nt': 1355, 'offered': 1356, 'older': 1357, 'opponent': 1358, 'original': 1359, 'pacific': 1360, 'paint': 1361, 'papers': 1362, 'parent': 1363, 'passage': 1364, 'paying': 1365, 'peace': 1366, 'plane': 1367, 'planets': 1368, 'platform': 1369, 'poker': 1370, 'pretend': 1371, 'price': 1372, 'professional': 1373, 'protect': 1374, 'quietly': 1375, 'race': 1376, 'raise': 1377, 'reached': 1378, 'receive': 1379, 'received': 1380, 'regarding': 1381, 'regularly': 1382, 'reply': 1383, 'research': 1384, 'results': 1385, 'risk': 1386, 'row': 1387, 'rule': 1388, 'saying': 1389, 'sea': 1390, 'self': 1391, 'send': 1392, 'sent': 1393, 'sheep': 1394, 'short': 1395, 'shower': 1396, 'showing': 1397, 'sides': 1398, 'sink': 1399, 'six': 1400, 'skills': 1401, 'smaller': 1402, 'soft': 1403, 'son': 1404, 'song': 1405, 'star': 1406, 'steel': 1407, 'stock': 1408, 'stood': 1409, 'storm': 1410, 'stove': 1411, 'stranger': 1412, 'success': 1413, 'supplies': 1414, 'supposed': 1415, 'surprising': 1416, 'sweet': 1417, 'task': 1418, 'teachers': 1419, 'temperature': 1420, 'thinks': 1421, 'three': 1422, 'tools': 1423, 'toys': 1424, 'transport': 1425, 'traveled': 1426, 'understanding': 1427, 'united': 1428, 'victim': 1429, 'wash': 1430, 'watched': 1431, 'wheel': 1432, 'wine': 1433, 'wished': 1434, 'won': 1435, 'worry': 1436, 'york': 1437, 'add': 1438, 'address': 1439, 'among': 1440, 'anymore': 1441, 'anyone': 1442, 'apples': 1443, 'arrive': 1444, 'automobile': 1445, 'awake': 1446, 'baking': 1447, 'balcony': 1448, 'balls': 1449, 'base': 1450, 'bathing': 1451, 'below': 1452, 'beside': 1453, 'biggest': 1454, 'bleachers': 1455, 'bobby': 1456, 'borrow': 1457, 'bottom': 1458, 'bull': 1459, 'butter': 1460, 'cabin': 1461, 'capital': 1462, 'cardboard': 1463, 'carpeting': 1464, 'character': 1465, 'chips': 1466, 'chocolate': 1467, 'christian': 1468, 'closed': 1469, 'club': 1470, 'comforter': 1471, 'consequences': 1472, 'cool': 1473, 'cotton': 1474, 'couples': 1475, 'course': 1476, 'created': 1477, 'dancing': 1478, 'decision': 1479, 'dental': 1480, 'desire': 1481, 'diaphragm': 1482, 'dictionary': 1483, 'dining': 1484, 'disability': 1485, 'dish': 1486, 'doctors': 1487, 'doors': 1488, 'drank': 1489, 'drawing': 1490, 'dress': 1491, 'drove': 1492, 'dryer': 1493, 'dying': 1494, 'eastern': 1495, 'eaten': 1496, 'either': 1497, 'employees': 1498, 'engineer': 1499, 'example': 1500, 'exist': 1501, 'extremely': 1502, 'factory': 1503, 'families': 1504, 'fans': 1505, 'feed': 1506, 'flew': 1507, 'foods': 1508, 'force': 1509, 'forced': 1510, 'foreign': 1511, 'fortune': 1512, 'frustrated': 1513, 'furthest': 1514, 'future': 1515, 'gazelle': 1516, 'gel': 1517, 'gives': 1518, 'green': 1519, 'gun': 1520, 'guns': 1521, 'half': 1522, 'happiness': 1523, 'headed': 1524, 'heifer': 1525, 'helps': 1526, 'hill': 1527, 'hired': 1528, 'holding': 1529, 'honest': 1530, 'hundred': 1531, 'install': 1532, 'instituting': 1533, 'interview': 1534, 'jewelry': 1535, 'keyboard': 1536, 'lack': 1537, 'launch': 1538, 'lights': 1539, 'literature': 1540, 'low': 1541, 'mail': 1542, 'mailbox': 1543, 'materials': 1544, 'medical': 1545, 'medicine': 1546, 'members': 1547, 'method': 1548, 'missing': 1549, 'mistake': 1550, 'mold': 1551, 'mostly': 1552, 'multiple': 1553, 'news': 1554, 'nobody': 1555, 'nose': 1556, 'numbers': 1557, 'objects': 1558, 'onto': 1559, 'ordered': 1560, 'organ': 1561, 'outdoors': 1562, 'packed': 1563, 'passing': 1564, 'pencils': 1565, 'physical': 1566, 'pieces': 1567, 'planned': 1568, 'planted': 1569, 'playroom': 1570, 'pond': 1571, 'position': 1572, 'prefer': 1573, 'print': 1574, 'printer': 1575, 'professor': 1576, 'proper': 1577, 'provide': 1578, 'punishment': 1579, 'purchased': 1580, 'ranch': 1581, 'realized': 1582, 'recommended': 1583, 'refused': 1584, 'relieve': 1585, 'remote': 1586, 'reputation': 1587, 'responsible': 1588, 'restaurants': 1589, 'resting': 1590, 'safety': 1591, 'sales': 1592, 'salon': 1593, 'salt': 1594, 'sand': 1595, 'sealed': 1596, 'searching': 1597, 'seem': 1598, 'selling': 1599, 'shaped': 1600, 'shelter': 1601, 'shot': 1602, 'similar': 1603, 'spare': 1604, 'spending': 1605, 'spotted': 1606, 'stabbing': 1607, 'stairs': 1608, 'stories': 1609, 'string': 1610, 'study': 1611, 'summer': 1612, 'susan': 1613, 'swimming': 1614, 'tables': 1615, 'taste': 1616, 'terrace': 1617, 'theater': 1618, 'toothpaste': 1619, 'tourists': 1620, 'towards': 1621, 'treat': 1622, 'turkey': 1623, 'typing': 1624, 'uncomfortable': 1625, 'unfortunately': 1626, 'unusual': 1627, 'vegetables': 1628, 'wearing': 1629, 'weight': 1630, 'whether': 1631, 'wide': 1632, 'wings': 1633, 'wo': 1634, 'word': 1635, 'worst': 1636, \"'\": 1637, '3': 1638, 'abandon': 1639, 'abandoned': 1640, 'acting': 1641, 'activities': 1642, 'added': 1643, 'age': 1644, 'alleviate': 1645, 'ancient': 1646, 'anywhere': 1647, 'apply': 1648, 'archaeologist': 1649, 'artifacts': 1650, 'ask': 1651, 'attack': 1652, 'attempt': 1653, 'attempting': 1654, 'authentic': 1655, 'avoided': 1656, 'awaking': 1657, 'bank': 1658, 'battle': 1659, 'beach': 1660, 'beans': 1661, 'bees': 1662, 'behavior': 1663, 'beings': 1664, 'bench': 1665, 'benefit': 1666, 'beyond': 1667, 'bicycle': 1668, 'binder': 1669, 'border': 1670, 'brass': 1671, 'breathe': 1672, 'brings': 1673, 'cannon': 1674, 'carpet': 1675, 'carrots': 1676, 'cash': 1677, 'cashing': 1678, 'casino': 1679, 'castle': 1680, 'catwalk': 1681, 'cave': 1682, 'charge': 1683, 'checked': 1684, 'choice': 1685, 'church': 1686, 'clerk': 1687, 'cloth': 1688, 'cloud': 1689, 'clouds': 1690, 'coat': 1691, 'coin': 1692, 'comfort': 1693, 'committee': 1694, 'community': 1695, 'companies': 1696, 'complex': 1697, 'conflict': 1698, 'confusion': 1699, 'connected': 1700, 'contains': 1701, 'conversation': 1702, 'cookies': 1703, 'cooling': 1704, 'corn': 1705, 'countries': 1706, 'courtyard': 1707, 'creative': 1708, 'crew': 1709, 'crowded': 1710, 'cutting': 1711, 'dad': 1712, 'daily': 1713, 'date': 1714, 'delivered': 1715, 'desperately': 1716, 'difficulty': 1717, 'discover': 1718, 'divider': 1719, 'drives': 1720, 'driveway': 1721, 'drum': 1722, 'eagles': 1723, 'emergency': 1724, 'emotions': 1725, 'encourage': 1726, 'english': 1727, 'excited': 1728, 'eye': 1729, 'farting': 1730, 'fencing': 1731, 'focused': 1732, 'follow': 1733, 'fountain': 1734, 'frequently': 1735, 'freshest': 1736, 'fruit': 1737, 'fully': 1738, 'glad': 1739, 'grew': 1740, 'grill': 1741, 'grocery': 1742, 'guard': 1743, 'harmonica': 1744, 'hate': 1745, 'highly': 1746, 'hike': 1747, 'hole': 1748, 'hoped': 1749, 'hundreds': 1750, 'hunting': 1751, 'ignorance': 1752, 'illegal': 1753, 'immediate': 1754, 'impact': 1755, 'indicate': 1756, 'indoor': 1757, 'ingredient': 1758, 'insects': 1759, 'interesting': 1760, 'investor': 1761, 'jenny': 1762, 'jill': 1763, 'jimmy': 1764, 'jump': 1765, 'knight': 1766, 'knob': 1767, 'knows': 1768, 'kosher': 1769, 'lake': 1770, 'landed': 1771, 'larger': 1772, 'later': 1773, 'lawyers': 1774, 'lay': 1775, 'lift': 1776, 'loving': 1777, 'lower': 1778, 'mall': 1779, 'mat': 1780, 'math': 1781, 'midwest': 1782, 'mirror': 1783, 'miss': 1784, 'monitor': 1785, 'months': 1786, 'mood': 1787, 'motorway': 1788, 'nation': 1789, 'naturally': 1790, 'needlepoint': 1791, 'odds': 1792, 'oil': 1793, 'okay': 1794, 'opera': 1795, 'operating': 1796, 'opponents': 1797, 'orders': 1798, 'outcome': 1799, 'oven': 1800, 'pack': 1801, 'particular': 1802, 'pencil': 1803, 'pillow': 1804, 'plays': 1805, 'power': 1806, 'preserve': 1807, 'pretending': 1808, 'prevented': 1809, 'primary': 1810, 'prisoner': 1811, 'produce': 1812, 'protected': 1813, 'punishing': 1814, 'question': 1815, 'queue': 1816, 'quiet': 1817, 'railing': 1818, 'random': 1819, 'realize': 1820, 'recently': 1821, 'reproducing': 1822, 'rich': 1823, 'rooms': 1824, 'routine': 1825, 'rows': 1826, 'rug': 1827, 'runway': 1828, 'salad': 1829, 'scene': 1830, 'screwdriver': 1831, 'searched': 1832, 'seated': 1833, 'security': 1834, 'sentence': 1835, 'several': 1836, 'ship': 1837, 'shoulder': 1838, 'signs': 1839, 'sing': 1840, 'sister': 1841, 'size': 1842, 'skiing': 1843, 'skill': 1844, 'socks': 1845, 'soup': 1846, 'spa': 1847, 'speaker': 1848, 'species': 1849, 'specific': 1850, 'spends': 1851, 'spilled': 1852, 'spite': 1853, 'spout': 1854, 'square': 1855, 'stack': 1856, 'stars': 1857, 'status': 1858, 'stolen': 1859, 'stuffed': 1860, 'subway': 1861, 'suicide': 1862, 'sunglasses': 1863, 'surprised': 1864, 'suspect': 1865, 'tall': 1866, 'tasks': 1867, 'taught': 1868, 'tea': 1869, 'testimony': 1870, 'therapist': 1871, 'thoughts': 1872, 'tin': 1873, 'toll': 1874, 'tour': 1875, 'towel': 1876, 'track': 1877, 'travelers': 1878, 'trial': 1879, 'trumpet': 1880, 'uncle': 1881, 'unhappy': 1882, 'union': 1883, 'user': 1884, 'video': 1885, 'violence': 1886, 'waiter': 1887, 'wallet': 1888, 'washed': 1889, 'weekend': 1890, 'wishes': 1891, 'wore': 1892, 'workplace': 1893, 'wound': 1894, 'wrestling': 1895, '   ': 1896, '100': 1897, ';': 1898, 'accused': 1899, 'active': 1900, 'actors': 1901, 'advertisement': 1902, 'afford': 1903, 'afternoon': 1904, 'agree': 1905, 'ahead': 1906, 'alive': 1907, 'angry': 1908, 'annoying': 1909, 'answered': 1910, 'anybody': 1911, 'appointment': 1912, 'arise': 1913, 'artery': 1914, 'aside': 1915, 'associated': 1916, 'audio': 1917, 'avoiding': 1918, 'background': 1919, 'bake': 1920, 'balloons': 1921, 'barber': 1922, 'bare': 1923, 'basics': 1924, 'bearings': 1925, 'begun': 1926, 'belief': 1927, 'believed': 1928, 'beverage': 1929, 'bills': 1930, 'blade': 1931, 'bottles': 1932, 'boys': 1933, 'brain': 1934, 'brand': 1935, 'broke': 1936, 'brush': 1937, 'bug': 1938, 'bullet': 1939, 'bunch': 1940, 'cafeteria': 1941, 'calling': 1942, 'canadian': 1943, 'candle': 1944, 'cans': 1945, 'capture': 1946, 'captured': 1947, 'cared': 1948, 'carelessly': 1949, 'carried': 1950, 'cashier': 1951, 'catalog': 1952, 'ceiling': 1953, 'celebrate': 1954, 'changed': 1955, 'characteristic': 1956, 'charged': 1957, 'charlie': 1958, 'chef': 1959, 'chosen': 1960, 'claim': 1961, 'clarinet': 1962, 'classes': 1963, 'cleaned': 1964, 'clearly': 1965, 'climb': 1966, 'clip': 1967, 'closet': 1968, 'clown': 1969, 'code': 1970, 'cogitating': 1971, 'collection': 1972, 'comb': 1973, 'committed': 1974, 'completely': 1975, 'conditioner': 1976, 'condominium': 1977, 'conductor': 1978, 'connect': 1979, 'consider': 1980, 'contract': 1981, 'counter': 1982, 'countryside': 1983, 'county': 1984, 'covers': 1985, 'cowboy': 1986, 'crossed': 1987, 'cry': 1988, 'cubicle': 1989, 'current': 1990, 'dave': 1991, 'deciding': 1992, 'deodorant': 1993, 'destination': 1994, 'detective': 1995, 'determined': 1996, 'died': 1997, 'diet': 1998, 'directory': 1999, 'disease': 2000, 'dollar': 2001, 'drawstring': 2002, 'dried': 2003, 'dwelling': 2004, 'earlier': 2005, 'easier': 2006, 'edge': 2007, 'edged': 2008, 'electronics': 2009, 'eloquent': 2010, 'email': 2011, 'enemy': 2012, 'entering': 2013, 'entertain': 2014, 'entertained': 2015, 'errands': 2016, 'europe': 2017, 'examine': 2018, 'exams': 2019, 'excess': 2020, 'exchange': 2021, 'experiences': 2022, 'explaining': 2023, 'explosive': 2024, 'expression': 2025, 'facial': 2026, 'fail': 2027, 'failed': 2028, 'failure': 2029, 'fake': 2030, 'faster': 2031, 'fatigue': 2032, 'feels': 2033, 'fifty': 2034, 'files': 2035, 'fine': 2036, 'five': 2037, 'flat': 2038, 'flirting': 2039, 'floating': 2040, 'flow': 2041, 'flower': 2042, 'following': 2043, 'footprints': 2044, 'forever': 2045, 'forgiving': 2046, 'formal': 2047, 'forms': 2048, 'fought': 2049, 'frequent': 2050, 'frightened': 2051, 'garage': 2052, 'germs': 2053, 'girlfriend': 2054, 'girls': 2055, 'grabbed': 2056, 'grain': 2057, 'graveyard': 2058, 'groceries': 2059, 'grows': 2060, 'guest': 2061, 'guide': 2062, 'gym': 2063, 'habitat': 2064, 'hammer': 2065, 'hat': 2066, 'health': 2067, 'hid': 2068, 'holds': 2069, 'homeowner': 2070, 'homework': 2071, 'hunted': 2072, 'hurricane': 2073, 'ideas': 2074, 'impossible': 2075, 'increase': 2076, 'indian': 2077, 'indoors': 2078, 'industry': 2079, 'instructed': 2080, 'involves': 2081, 'island': 2082, 'issue': 2083, 'itself': 2084, 'japanese': 2085, 'jar': 2086, 'joke': 2087, 'joy': 2088, 'jumped': 2089, 'june': 2090, 'justice': 2091, 'keys': 2092, 'killed': 2093, 'labor': 2094, 'lacked': 2095, 'laid': 2096, 'landing': 2097, 'largest': 2098, 'laughed': 2099, 'laundry': 2100, 'law': 2101, 'leading': 2102, 'lemonade': 2103, 'letters': 2104, 'lighting': 2105, 'list': 2106, 'lit': 2107, 'locked': 2108, 'lonely': 2109, 'longingly': 2110, 'loss': 2111, 'luckily': 2112, 'maintain': 2113, 'major': 2114, 'maps': 2115, 'mass': 2116, 'maybe': 2117, 'meals': 2118, 'memories': 2119, 'memory': 2120, 'mess': 2121, 'messy': 2122, 'mexican': 2123, 'mouthwash': 2124, 'musical': 2125, 'named': 2126, 'nearly': 2127, 'neck': 2128, 'needle': 2129, 'nervous': 2130, 'newspapers': 2131, 'nightclub': 2132, 'northwest': 2133, 'notice': 2134, 'occasion': 2135, 'offer': 2136, 'offices': 2137, 'organization': 2138, 'outdoor': 2139, 'overhead': 2140, 'oxygen': 2141, 'pad': 2142, 'painful': 2143, 'painting': 2144, 'paintings': 2145, 'partner': 2146, 'passageway': 2147, 'passengers': 2148, 'passes': 2149, 'pawn': 2150, 'peanut': 2151, 'peanuts': 2152, 'pebble': 2153, 'pee': 2154, 'pens': 2155, 'pets': 2156, 'pie': 2157, 'pile': 2158, 'poet': 2159, 'pointed': 2160, 'poison': 2161, 'policeman': 2162, 'politicians': 2163, 'pray': 2164, 'praying': 2165, 'pretty': 2166, 'pride': 2167, 'primarily': 2168, 'professionals': 2169, 'programs': 2170, 'promised': 2171, 'property': 2172, 'provided': 2173, 'purse': 2174, 'record': 2175, 'recording': 2176, 'referred': 2177, 'regular': 2178, 'related': 2179, 'religion': 2180, 'reside': 2181, 'response': 2182, 'responsibility': 2183, 'resulted': 2184, 'retired': 2185, 'roadway': 2186, 'ruin': 2187, 'rules': 2188, 'sad': 2189, 'salesman': 2190, 'saltshaker': 2191, 'save': 2192, 'scale': 2193, 'scary': 2194, 'scientist': 2195, 'seating': 2196, 'section': 2197, 'secular': 2198, 'secure': 2199, 'seems': 2200, 'sell': 2201, 'serves': 2202, 'services': 2203, 'serving': 2204, 'sets': 2205, 'shade': 2206, 'shoe': 2207, 'shoot': 2208, 'sickness': 2209, 'significant': 2210, 'silly': 2211, 'silverware': 2212, 'simplest': 2213, 'site': 2214, 'sits': 2215, 'situations': 2216, 'skating': 2217, 'slept': 2218, 'smart': 2219, 'snakes': 2220, 'social': 2221, 'socialize': 2222, 'solidity': 2223, 'solution': 2224, 'spaces': 2225, 'speakers': 2226, 'specialty': 2227, 'spoon': 2228, 'squirrel': 2229, 'stadium': 2230, 'stamps': 2231, 'stayed': 2232, 'steakhouse': 2233, 'steve': 2234, 'stress': 2235, 'strike': 2236, 'studio': 2237, 'support': 2238, 'sword': 2239, 'symbol': 2240, 'talent': 2241, 'tape': 2242, 'teach': 2243, 'teams': 2244, 'teenagers': 2245, 'teens': 2246, 'temple': 2247, 'terrible': 2248, 'texas': 2249, 'throwing': 2250, 'tight': 2251, 'tiny': 2252, 'tone': 2253, 'torn': 2254, 'touch': 2255, 'tower': 2256, 'trade': 2257, 'traditional': 2258, 'training': 2259, 'traveler': 2260, 'travelling': 2261, 'triangle': 2262, 'tries': 2263, 'ugly': 2264, 'unexpected': 2265, 'unique': 2266, 'value': 2267, 'visible': 2268, 'visited': 2269, 'voice': 2270, 'volume': 2271, 'waging': 2272, 'walks': 2273, 'walls': 2274, 'waste': 2275, 'wedding': 2276, 'western': 2277, 'whenever': 2278, 'wish': 2279, 'within': 2280, 'worker': 2281, 'workers': 2282, 'wrestle': 2283, 'writer': 2284, 'written': 2285, '10': 2286, '4': 2287, 'a.i.': 2288, 'absolutely': 2289, 'academic': 2290, 'accelerator': 2291, 'accidentally': 2292, 'accidents': 2293, 'actions': 2294, 'actual': 2295, 'adding': 2296, 'aim': 2297, 'alley': 2298, 'allows': 2299, 'altar': 2300, 'amateur': 2301, 'analyse': 2302, 'analysing': 2303, 'anatomy': 2304, 'annoyed': 2305, 'apart': 2306, 'apologized': 2307, 'appear': 2308, 'appreciated': 2309, 'approach': 2310, 'army': 2311, 'arriving': 2312, 'assignments': 2313, 'athlete': 2314, 'atlantic': 2315, 'attempted': 2316, 'attic': 2317, 'attitude': 2318, 'attraction': 2319, 'available': 2320, 'babies': 2321, 'babysitter': 2322, 'bacteria': 2323, 'baggage': 2324, 'bailey': 2325, 'balance': 2326, 'barbecue': 2327, 'basic': 2328, 'bear': 2329, 'beat': 2330, 'becomes': 2331, 'beds': 2332, 'belong': 2333, 'ben': 2334, 'benefits': 2335, 'bible': 2336, 'billboard': 2337, 'block': 2338, 'blowing': 2339, 'bombs': 2340, 'bones': 2341, 'booking': 2342, 'bookshop': 2343, 'bookstore': 2344, 'boundary': 2345, 'breaks': 2346, 'brick': 2347, 'bucket': 2348, 'buffalo': 2349, 'bugle': 2350, 'burn': 2351, 'burned': 2352, 'butt': 2353, 'cabbage': 2354, 'cabinets': 2355, 'cafe': 2356, 'cameras': 2357, 'campaign': 2358, 'camping': 2359, 'canoe': 2360, 'captain': 2361, 'carefully': 2362, 'celebration': 2363, 'cell': 2364, 'cemetery': 2365, 'cereal': 2366, 'certainly': 2367, 'chance': 2368, 'characters': 2369, 'checking': 2370, 'checkup': 2371, 'chest': 2372, 'chew': 2373, 'chief': 2374, 'choices': 2375, 'choosing': 2376, 'churchyard': 2377, 'citizens': 2378, 'clay': 2379, 'climbed': 2380, 'clogged': 2381, 'coach': 2382, 'collect': 2383, 'collector': 2384, 'collects': 2385, 'colorado': 2386, 'colorful': 2387, 'commit': 2388, 'competitions': 2389, 'complained': 2390, 'complaining': 2391, 'completed': 2392, 'concussion': 2393, 'condiments': 2394, 'conditioning': 2395, 'conditions': 2396, 'confined': 2397, 'confirm': 2398, 'conquer': 2399, 'construction': 2400, 'containing': 2401, 'contest': 2402, 'contestant': 2403, 'continents': 2404, 'continued': 2405, 'convenience': 2406, 'cooked': 2407, 'cord': 2408, 'correctly': 2409, 'cost': 2410, 'cottage': 2411, 'courthouse': 2412, 'cracked': 2413, 'craft': 2414, 'creativity': 2415, 'creature': 2416, 'creatures': 2417, 'credit': 2418, 'cross': 2419, 'crossword': 2420, 'cubicles': 2421, 'curious': 2422, 'currently': 2423, 'dairy': 2424, 'dam': 2425, 'danger': 2426, 'debbie': 2427, 'defeat': 2428, 'delicatessen': 2429, 'delicious': 2430, 'delivery': 2431, 'delta': 2432, 'demand': 2433, 'desired': 2434, 'desks': 2435, 'despise': 2436, 'destroy': 2437, 'destroyed': 2438, 'devices': 2439, 'dime': 2440, 'dipped': 2441, 'directed': 2442, 'directly': 2443, 'disagreed': 2444, 'disaster': 2445, 'disco': 2446, 'discuss': 2447, 'disdain': 2448, 'dislike': 2449, 'distances': 2450, 'distinguish': 2451, 'diverse': 2452, 'divine': 2453, 'diving': 2454, 'divorced': 2455, 'donated': 2456, 'draw': 2457, 'dressing': 2458, 'drops': 2459, 'drought': 2460, 'drug': 2461, 'dwellings': 2462, 'ear': 2463, 'earn': 2464, 'eatery': 2465, 'education': 2466, 'effective': 2467, 'effects': 2468, 'elderly': 2469, 'elephant': 2470, 'elephants': 2471, 'elevation': 2472, 'emotional': 2473, 'encouraged': 2474, 'ends': 2475, 'engage': 2476, 'entirely': 2477, 'equal': 2478, 'eraser': 2479, 'escaped': 2480, 'everyday': 2481, 'evidence': 2482, 'examination': 2483, 'examples': 2484, 'expecting': 2485, 'explore': 2486, 'extended': 2487, 'extreme': 2488, 'eyeglasses': 2489, 'fabric': 2490, 'facts': 2491, 'fair': 2492, 'fallen': 2493, 'falls': 2494, 'fancy': 2495, 'fashion': 2496, 'fate': 2497, 'faucet': 2498, 'fields': 2499, 'finishing': 2500, 'fixed': 2501, 'flashing': 2502, 'fleas': 2503, 'flies': 2504, 'float': 2505, 'flood': 2506, 'flooded': 2507, 'floors': 2508, 'florida': 2509, 'flute': 2510, 'focus': 2511, 'followed': 2512, 'forget': 2513, 'former': 2514, 'foxes': 2515, 'fragile': 2516, 'freedom': 2517, 'freezer': 2518, 'fried': 2519, 'fulfill': 2520, 'funeral': 2521, 'furnace': 2522, 'gallery': 2523, 'gallons': 2524, 'gambling': 2525, 'gardener': 2526, 'gasoline': 2527, 'gathered': 2528, 'gentle': 2529, 'gesture': 2530, 'giant': 2531, 'glove': 2532, 'gold': 2533, 'governor': 2534, 'grades': 2535, 'gravity': 2536, 'greatest': 2537, 'greg': 2538, 'grind': 2539, 'grouped': 2540, 'grown': 2541, 'gutter': 2542, 'habit': 2543, 'habits': 2544, 'hardly': 2545, 'harp': 2546, 'hates': 2547, 'healthier': 2548, 'helium': 2549, 'helm': 2550, 'helpful': 2551, 'hills': 2552, 'hinged': 2553, 'historical': 2554, 'hockey': 2555, 'holder': 2556, 'hometown': 2557, 'honey': 2558, 'honor': 2559, 'hopes': 2560, 'horrible': 2561, 'hospital': 2562, 'hung': 2563, 'hurry': 2564, 'idol': 2565, 'including': 2566, 'index': 2567, 'informed': 2568, 'ingredients': 2569, 'ink': 2570, 'insisted': 2571, 'installing': 2572, 'institution': 2573, 'instructions': 2574, 'instructor': 2575, 'integers': 2576, 'intentionally': 2577, 'interest': 2578, 'interested': 2579, 'jame': 2580, 'jan': 2581, 'janitor': 2582, 'jealousy': 2583, 'jelly': 2584, 'jerry': 2585, 'jobs': 2586, 'joked': 2587, 'jury': 2588, 'keeping': 2589, 'kick': 2590, 'kingdom': 2591, 'kiss': 2592, 'kitchenette': 2593, 'kitten': 2594, 'knife': 2595, 'knitting': 2596, 'knocked': 2597, 'koala': 2598, 'ladder': 2599, 'lance': 2600, 'laser': 2601, 'lasting': 2602, 'latest': 2603, 'laura': 2604, 'laying': 2605, 'leather': 2606, 'legged': 2607, 'lettuce': 2608, 'levels': 2609, 'lies': 2610, 'lips': 2611, 'litter': 2612, 'lobby': 2613, 'looks': 2614, 'lotion': 2615, 'loudly': 2616, 'louisiana': 2617, 'lover': 2618, 'luck': 2619, 'lucy': 2620, 'magazine': 2621, 'manage': 2622, 'manager': 2623, 'manufacturing': 2624, 'marathon': 2625, 'marine': 2626, 'mark': 2627, 'mascot': 2628, 'meaning': 2629, 'medication': 2630, 'meditation': 2631, 'menu': 2632, 'merchants': 2633, 'mexico': 2634, 'michigan': 2635, 'microphone': 2636, 'mile': 2637, 'mineral': 2638, 'mistakes': 2639, 'mix': 2640, 'moment': 2641, 'monkeys': 2642, 'moon': 2643, 'motive': 2644, 'mouth': 2645, 'moves': 2646, 'muscles': 2647, 'musician': 2648, 'musicians': 2649, 'nails': 2650, 'needing': 2651, 'neighbor': 2652, 'neighborhood': 2653, 'nerve': 2654, 'nest': 2655, 'nor': 2656, 'note': 2657, 'notebook': 2658, 'notepad': 2659, 'notes': 2660, 'nourishment': 2661, 'nowadays': 2662, 'nurse': 2663, 'observe': 2664, 'obtain': 2665, 'obvious': 2666, 'obviously': 2667, 'occur': 2668, 'officer': 2669, 'offspring': 2670, 'olives': 2671, 'organize': 2672, 'originate': 2673, 'our': 2674, 'overall': 2675, 'overlooked': 2676, 'owner': 2677, 'packaged': 2678, 'parade': 2679, 'parked': 2680, 'participate': 2681, 'parties': 2682, 'passion': 2683, 'picking': 2684, 'picnic': 2685, 'pills': 2686, 'pilot': 2687, 'pit': 2688, 'pizza': 2689, 'plates': 2690, 'player': 2691, 'plumbing': 2692, 'points': 2693, 'politician': 2694, 'pop': 2695, 'population': 2696, 'post': 2697, 'pot': 2698, 'potatosol': 2699, 'potential': 2700, 'poured': 2701, 'powerful': 2702, 'practical': 2703, 'prepare': 2704, 'prepared': 2705, 'prescription': 2706, 'preserved': 2707, 'prevents': 2708, 'prey': 2709, 'prices': 2710, 'principal': 2711, 'printing': 2712, 'prison': 2713, 'prize': 2714, 'professionally': 2715, 'profit': 2716, 'promotion': 2717, 'prompted': 2718, 'proud': 2719, 'prove': 2720, 'punched': 2721, 'punching': 2722, 'pure': 2723, 'pushed': 2724, 'quarter': 2725, 'racing': 2726, 'rails': 2727, 'rainy': 2728, 'referee': 2729, 'reference': 2730, 'refuse': 2731, 'releasing': 2732, 'remain': 2733, 'remembered': 2734, 'reminded': 2735, 'remove': 2736, 'removed': 2737, 'rented': 2738, 'replaced': 2739, 'report': 2740, 'rescue': 2741, 'residents': 2742, 'respected': 2743, 'rested': 2744, 'revolving': 2745, 'rides': 2746, 'ridiculous': 2747, 'rocks': 2748, 'rolled': 2749, 'roller': 2750, 'rolling': 2751, 'roses': 2752, 'route': 2753, 'ruined': 2754, 'ruled': 2755, 'runner': 2756, 'rural': 2757, 'rush': 2758, 'sailor': 2759, 'sandwich': 2760, 'sauce': 2761, 'saucepan': 2762, 'saucer': 2763, 'schedule': 2764, 'scientists': 2765, 'scissors': 2766, 'score': 2767, 'screw': 2768, 'seafood': 2769, 'selfish': 2770, 'semen': 2771, 'semester': 2772, 'senior': 2773, 'sensation': 2774, 'shadow': 2775, 'shake': 2776, 'shaking': 2777, 'showroom': 2778, 'shy': 2779, 'signal': 2780, 'signals': 2781, 'signed': 2782, 'silk': 2783, 'skylight': 2784, 'skyscraper': 2785, 'slaves': 2786, 'slow': 2787, 'smelly': 2788, 'snack': 2789, 'snacks': 2790, 'snoring': 2791, 'socialising': 2792, 'sofabed': 2793, 'sore': 2794, 'sought': 2795, 'sounds': 2796, 'spectator': 2797, 'speed': 2798, 'spicy': 2799, 'spills': 2800, 'spirits': 2801, 'spoke': 2802, 'spring': 2803, 'stamp': 2804, 'standard': 2805, 'statue': 2806, 'steam': 2807, 'steering': 2808, 'stepladder': 2809, 'stereotypical': 2810, 'stone': 2811, 'stops': 2812, 'storey': 2813, 'strangers': 2814, 'stray': 2815, 'stream': 2816, 'streets': 2817, 'stressed': 2818, 'style': 2819, 'stylus': 2820, 'subjects': 2821, 'suburbs': 2822, 'succeeded': 2823, 'successfully': 2824, 'suggest': 2825, 'suggested': 2826, 'sunday': 2827, 'surrounding': 2828, 'swam': 2829, 't': 2830, 'tank': 2831, 'target': 2832, 'taxes': 2833, 'tech': 2834, 'technology': 2835, 'teddy': 2836, 'teen': 2837, 'teeth': 2838, 'ten': 2839, 'tenants': 2840, 'tends': 2841, 'tens': 2842, 'terms': 2843, 'text': 2844, 'thanks': 2845, 'theory': 2846, 'thrown': 2847, 'thus': 2848, 'tires': 2849, 'tissue': 2850, 'title': 2851, 'token': 2852, 'tonight': 2853, 'tossed': 2854, 'tourniquet': 2855, 'towels': 2856, 'tract': 2857, 'treated': 2858, 'treatment': 2859, 'turns': 2860, 'uncommon': 2861, 'underwater': 2862, 'uneven': 2863, 'unhealthy': 2864, 'uniform': 2865, 'university': 2866, 'unlike': 2867, 'unwanted': 2868, 'upper': 2869, 'upset': 2870, 'urgent': 2871, 'useless': 2872, 'varieties': 2873, 'vegetarian': 2874, 'versus': 2875, 'village': 2876, 'visibility': 2877, 'visitors': 2878, 'wake': 2879, 'weapon': 2880, 'weapons': 2881, 'weeks': 2882, 'weird': 2883, 'windows': 2884, 'wire': 2885, 'witness': 2886, 'woke': 2887, 'workout': 2888, 'worship': 2889, 'yellow': 2890, 'zone': 2891, 'zoning': 2892, '!': 2893, '9': 2894, 'abroad': 2895, 'accept': 2896, 'access': 2897, 'accessible': 2898, 'accommodate': 2899, 'accommodations': 2900, 'accomplished': 2901, 'account': 2902, 'acrobats': 2903, 'actor': 2904, 'addictive': 2905, 'addition': 2906, 'adjective': 2907, 'advance': 2908, 'advertisements': 2909, 'affair': 2910, 'affection': 2911, 'affects': 2912, 'agenda': 2913, 'aggressive': 2914, 'aging': 2915, 'ai': 2916, 'airport': 2917, 'alabama': 2918, 'alarm': 2919, 'alaska': 2920, 'allergies': 2921, 'alongside': 2922, 'alphabetically': 2923, 'although': 2924, 'alto': 2925, 'amazing': 2926, 'ambiguous': 2927, 'ambition': 2928, 'anemones': 2929, 'ann': 2930, 'announcement': 2931, 'annually': 2932, 'antarctic': 2933, 'antibiotic': 2934, 'anticipate': 2935, 'antique': 2936, 'anyway': 2937, 'appeared': 2938, 'appreciate': 2939, 'appreciation': 2940, 'aquarium': 2941, 'arbor': 2942, 'arch': 2943, 'architecture': 2944, 'arkansas': 2945, 'arm': 2946, 'armchair': 2947, 'arrangement': 2948, 'arrival': 2949, 'arrived': 2950, 'articles': 2951, 'artificial': 2952, 'asking': 2953, 'asleep': 2954, 'associates': 2955, 'assume': 2956, 'assumed': 2957, 'astray': 2958, 'athletes': 2959, 'atlanta': 2960, 'atmosphere': 2961, 'attach': 2962, 'attache': 2963, 'attempts': 2964, 'attitudes': 2965, 'attributes': 2966, 'australia': 2967, 'authorities': 2968, 'awaits': 2969, 'b': 2970, 'bachelor': 2971, 'backdrop': 2972, 'ballpoint': 2973, 'bananas': 2974, 'bands': 2975, 'banging': 2976, 'banjo': 2977, 'banks': 2978, 'banned': 2979, 'barbershop': 2980, 'barefoot': 2981, 'barely': 2982, 'barn': 2983, 'barren': 2984, 'bars': 2985, 'bassoon': 2986, 'bat': 2987, 'bazaar': 2988, 'beam': 2989, 'bean': 2990, 'beavers': 2991, 'beef': 2992, 'begins': 2993, 'behaving': 2994, 'believes': 2995, 'bell': 2996, 'belly': 2997, 'belonged': 2998, 'belongings': 2999, 'besides': 3000, 'billfold': 3001, 'billionaire': 3002, 'biological': 3003, 'bitter': 3004, 'bladder': 3005, 'blew': 3006, 'blinking': 3007, 'blocking': 3008, 'blocks': 3009, 'blow': 3010, 'bo': 3011, 'bodies': 3012, 'bolt': 3013, 'bookend': 3014, 'boom': 3015, 'booths': 3016, 'boring': 3017, 'born': 3018, 'bosses': 3019, 'bother': 3020, 'bounced': 3021, 'bouncing': 3022, 'branch': 3023, 'breaker': 3024, 'breaking': 3025, 'breathed': 3026, 'bright': 3027, 'britain': 3028, 'broadcast': 3029, 'broader': 3030, 'brownstone': 3031, 'browsing': 3032, 'bubblegum': 3033, 'bugs': 3034, 'bulk': 3035, 'bulls': 3036, 'bully': 3037, 'burning': 3038, 'bust': 3039, 'buys': 3040, 'cage': 3041, 'calculator': 3042, 'calendar': 3043, 'calorie': 3044, 'camper': 3045, 'campus': 3046, 'canals': 3047, 'caregivers': 3048, 'caribbean': 3049, 'carolina': 3050, 'carved': 3051, 'cases': 3052, 'cast': 3053, 'casual': 3054, 'celebrated': 3055, 'celebrates': 3056, 'cellar': 3057, 'certificate': 3058, 'championship': 3059, 'changes': 3060, 'channel': 3061, 'chaos': 3062, 'chemical': 3063, 'chemicals': 3064, 'chemo': 3065, 'chewing': 3066, 'childhood': 3067, 'chocolates': 3068, 'choker': 3069, 'chop': 3070, 'chopping': 3071, 'chuckled': 3072, 'civilians': 3073, 'civilization': 3074, 'classical': 3075, 'classroom': 3076, 'clavichord': 3077, 'client': 3078, 'clientele': 3079, 'clubs': 3080, 'coastal': 3081, 'coaster': 3082, 'cocky': 3083, 'cogitate': 3084, 'colder': 3085, 'colors': 3086, 'columbia': 3087, 'combat': 3088, 'comedy': 3089, 'command': 3090, 'comment': 3091, 'communication': 3092, 'compassionate': 3093, 'compatriots': 3094, 'competent': 3095, 'compost': 3096, 'compromise': 3097, 'concept': 3098, 'concerning': 3099, 'concerns': 3100, 'condemned': 3101, 'condo': 3102, 'condos': 3103, 'confetti': 3104, 'congregate': 3105, 'connections': 3106, 'conservative': 3107, 'constant': 3108, 'constructed': 3109, 'consume': 3110, 'consuming': 3111, 'consumption': 3112, 'contained': 3113, 'containers': 3114, 'controlled': 3115, 'controlling': 3116, 'controversial': 3117, 'convinced': 3118, 'cooks': 3119, 'cop': 3120, 'copulating': 3121, 'cornet': 3122, 'corporeal': 3123, 'correct': 3124, 'costly': 3125, 'costs': 3126, 'costume': 3127, 'costumed': 3128, 'cottages': 3129, 'count': 3130, 'countless': 3131, 'coworker': 3132, 'cows': 3133, 'cozy': 3134, 'crabs': 3135, 'crackers': 3136, 'cramped': 3137, 'crawl': 3138, 'criminals': 3139, 'crossing': 3140, 'crowds': 3141, 'cruise': 3142, 'crushed': 3143, 'crying': 3144, 'cuddling': 3145, 'cultures': 3146, 'cupboards': 3147, 'curb': 3148, 'curled': 3149, 'curling': 3150, 'curtain': 3151, 'damaged': 3152, 'dangers': 3153, 'darkness': 3154, 'data': 3155, 'daughter': 3156, 'david': 3157, 'dealer': 3158, 'dealership': 3159, 'dealing': 3160, 'decorate': 3161, 'decorations': 3162, 'dedicated': 3163, 'deeper': 3164, 'degrees': 3165, 'delay': 3166, 'denny': 3167, 'dense': 3168, 'densely': 3169, 'department': 3170, 'depicted': 3171, 'depressed': 3172, 'desert': 3173, 'designer': 3174, 'determine': 3175, 'developed': 3176, 'development': 3177, 'dial': 3178, 'diamonds': 3179, 'differences': 3180, 'difficulties': 3181, 'digging': 3182, 'digital': 3183, 'dinosaur': 3184, 'director': 3185, 'disagreements': 3186, 'disappeared': 3187, 'discovered': 3188, 'discovery': 3189, 'discussed': 3190, 'disk': 3191, 'disneyland': 3192, 'displaced': 3193, 'disposable': 3194, 'dissolve': 3195, 'divided': 3196, 'dock': 3197, 'doorway': 3198, 'downstairs': 3199, 'dreaming': 3200, 'dribble': 3201, 'dropped': 3202, 'drowning': 3203, 'drunken': 3204, 'dug': 3205, 'dull': 3206, 'dumb': 3207, 'duty': 3208, 'ears': 3209, 'easiest': 3210, 'echoed': 3211, 'effectively': 3212, 'efficiently': 3213, 'efforts': 3214, 'egg': 3215, 'eiffel': 3216, 'einstein': 3217, 'elaborate': 3218, 'elastic': 3219, 'elevated': 3220, 'eliminate': 3221, 'embarrassed': 3222, 'emma': 3223, 'empire': 3224, 'employed': 3225, 'emptied': 3226, 'enables': 3227, 'enclosed': 3228, 'ending': 3229, 'england': 3230, 'enjoys': 3231, 'ensemble': 3232, 'ensure': 3233, 'entered': 3234, 'entity': 3235, 'entry': 3236, 'envy': 3237, 'escalators': 3238, 'essay': 3239, 'european': 3240, 'evacuation': 3241, 'evaluate': 3242, 'except': 3243, 'excessive': 3244, 'excessively': 3245, 'exciting': 3246, 'exhibits': 3247, 'existing': 3248, 'explicit': 3249, 'explosion': 3250, 'extend': 3251, 'faced': 3252, 'faces': 3253, 'facility': 3254, 'facing': 3255, 'false': 3256, 'familiar': 3257, 'farmers': 3258, 'farmland': 3259, 'farms': 3260, 'fathers': 3261, 'featured': 3262, 'features': 3263, 'featuring': 3264, 'female': 3265, 'fetch': 3266, 'fiction': 3267, 'figured': 3268, 'fill': 3269, 'films': 3270, 'finals': 3271, 'finger': 3272, 'fingerboard': 3273, 'fingers': 3274, 'finishes': 3275, 'fires': 3276, 'fix': 3277, 'fixing': 3278, 'flashlight': 3279, 'flea': 3280, 'flipped': 3281, 'flowing': 3282, 'fluffy': 3283, 'flying': 3284, 'foggy': 3285, 'folks': 3286, 'fond': 3287, 'foreman': 3288, 'forgive': 3289, 'formed': 3290, 'forth': 3291, 'forum': 3292, 'foundation': 3293, 'foyer': 3294, 'france': 3295, 'frantically': 3296, 'freeze': 3297, 'friday': 3298, 'friendly': 3299, 'fumes': 3300, 'function': 3301, 'functionality': 3302, 'funds': 3303, 'fungus': 3304, 'funny': 3305, 'further': 3306, 'galaxy': 3307, 'gamblers': 3308, 'gathering': 3309, 'gay': 3310, 'gear': 3311, 'geese': 3312, 'genre': 3313, 'geographic': 3314, 'geography': 3315, 'geological': 3316, 'gloomy': 3317, 'goals': 3318, 'golf': 3319, 'golfed': 3320, 'gossip': 3321, 'grab': 3322, 'grade': 3323, 'graduate': 3324, 'grains': 3325, 'grand': 3326, 'grandfather': 3327, 'grandma': 3328, 'grandpa': 3329, 'greater': 3330, 'greed': 3331, 'greeting': 3332, 'gross': 3333, 'grounds': 3334, 'gulf': 3335, 'gum': 3336, 'guys': 3337, 'ha': 3338, 'hairbrush': 3339, 'hairpin': 3340, 'halls': 3341, 'handed': 3342, 'handsome': 3343, 'happiest': 3344, 'harm': 3345, 'hats': 3346, 'he/': 3347, 'headphones': 3348, 'heads': 3349, 'heated': 3350, 'heater': 3351, 'heavily': 3352, 'heifers': 3353, 'helmets': 3354, 'helper': 3355, 'hermit': 3356, 'hidden': 3357, 'hiding': 3358, 'highest': 3359, 'highlight': 3360, 'hiring': 3361, 'hits': 3362, 'hobbies': 3363, 'holes': 3364, 'homeless': 3365, 'horn': 3366, 'horror': 3367, 'hospitals': 3368, 'household': 3369, 'however': 3370, 'hub': 3371, 'huge': 3372, 'humid': 3373, 'humidity': 3374, 'humorous': 3375, 'hurts': 3376, 'icebox': 3377, 'identify': 3378, 'idiots': 3379, 'ignored': 3380, 'imagined': 3381, 'imminent': 3382, 'imported': 3383, 'impress': 3384, 'impressive': 3385, 'inability': 3386, 'inadequate': 3387, 'incident': 3388, 'included': 3389, 'includes': 3390, 'increased': 3391, 'increasing': 3392, 'individuals': 3393, 'induce': 3394, 'indulgent': 3395, 'inevitable': 3396, 'inexpensive': 3397, 'innocent': 3398, 'insect': 3399, 'inspector': 3400, 'installation': 3401, 'institutions': 3402, 'instruction': 3403, 'insurance': 3404, 'intelligence': 3405, 'intense': 3406, 'intensely': 3407, 'intently': 3408, 'interact': 3409, 'interior': 3410, 'intermission': 3411, 'internet': 3412, 'interrupted': 3413, 'invading': 3414, 'investigator': 3415, 'involve': 3416, 'iphone': 3417, 'ipod': 3418, 'isle': 3419, 'itch': 3420, 'jacks': 3421, 'jackson': 3422, 'jail': 3423, 'jamie': 3424, 'janet': 3425, 'joined': 3426, 'josh': 3427, 'journalist': 3428, 'judged': 3429, 'junk': 3430, 'justified': 3431, 'kingdoms': 3432, 'kite': 3433, 'kleenex': 3434, 'knees': 3435, 'knives': 3436, 'knowing': 3437, 'koalas': 3438, 'kooky': 3439, 'labeled': 3440, 'laconic': 3441, 'laddie': 3442, 'ladies': 3443, 'landmark': 3444, 'landmarks': 3445, 'landmass': 3446, 'landscape': 3447, 'lane': 3448, 'lanes': 3449, 'languages': 3450, 'lantern': 3451, 'laughing': 3452, 'launched': 3453, 'launching': 3454, 'lawnmower': 3455, 'lawns': 3456, 'laws': 3457, 'lays': 3458, 'leaders': 3459, 'leaned': 3460, 'leisure': 3461, 'length': 3462, 'lens': 3463, 'lesson': 3464, 'likelihood': 3465, 'lindy': 3466, 'liquor': 3467, 'listens': 3468, 'livestock': 3469, 'load': 3470, 'loaded': 3471, 'lobster': 3472, 'locally': 3473, 'locals': 3474, 'locations': 3475, 'locker': 3476, 'lodge': 3477, 'log': 3478, 'logo': 3479, 'loneliness': 3480, 'longest': 3481, 'lorna': 3482, 'losers': 3483, 'loses': 3484, 'lounge': 3485, 'lovely': 3486, 'lucky': 3487, 'lud': 3488, 'luggage': 3489, 'luke': 3490, 'lung': 3491, 'luxuries': 3492, 'magnitude': 3493, 'mainly': 3494, 'maintained': 3495, 'mammal': 3496, 'mammals': 3497, 'mandolin': 3498, 'mandy': 3499, 'manner': 3500, 'manual': 3501, 'manufacturers': 3502, 'marijuana': 3503, 'marks': 3504, 'marriage': 3505, 'marsh': 3506, 'massive': 3507, 'mattress': 3508, 'maximize': 3509, 'maze': 3510, 'meadow': 3511, 'meanwhile': 3512, 'measurement': 3513, 'mechanic': 3514, 'medics': 3515, 'medieval': 3516, 'medium': 3517, 'meets': 3518, 'melted': 3519, 'membership': 3520, 'membrane': 3521, 'memorialized': 3522, 'memorize': 3523, 'mid': 3524, 'military': 3525, 'mine': 3526, 'minimize': 3527, 'missed': 3528, 'mission': 3529, 'mississippi': 3530, 'mobile': 3531, 'monotonous': 3532, 'moons': 3533, 'morals': 3534, 'mosquitoes': 3535, 'motion': 3536, 'motor': 3537, 'movement': 3538, 'movements': 3539, 'mowing': 3540, 'muddy': 3541, 'mug': 3542, 'multitude': 3543, 'museums': 3544, 'myself': 3545, 'nap': 3546, 'nasa': 3547, 'nations': 3548, 'neglect': 3549, 'negotiation': 3550, 'neighbors': 3551, 'nerves': 3552, 'nesting': 3553, 'net': 3554, 'netted': 3555, 'nevada': 3556, 'niece': 3557, 'nightstand': 3558, 'none': 3559, 'nonessential': 3560, 'northeastern': 3561, 'nudity': 3562, 'nurses': 3563, 'oath': 3564, 'observation': 3565, 'obsessed': 3566, 'obstructing': 3567, 'obtained': 3568, 'occurring': 3569, 'occurs': 3570, 'oceans': 3571, 'offers': 3572, 'officially': 3573, 'oldest': 3574, 'online': 3575, 'opens': 3576, 'operate': 3577, 'opinions': 3578, 'option': 3579, 'optional': 3580, 'orbiting': 3581, 'ordinary': 3582, 'organized': 3583, 'originated': 3584, 'orthodox': 3585, 'ot': 3586, 'otherwise': 3587, 'outback': 3588, 'outfit': 3589, 'outward': 3590, 'overflow': 3591, 'overuse': 3592, 'owns': 3593, 'page': 3594, 'pail': 3595, 'pair': 3596, 'pairs': 3597, 'pamphlets': 3598, 'pan': 3599, 'panic': 3600, 'pantry': 3601, 'paperwork': 3602, 'paris': 3603, 'partake': 3604, 'participants': 3605, 'passenger': 3606, 'passionate': 3607, 'path': 3608, 'patio': 3609, 'pavement': 3610, 'pedals': 3611, 'peers': 3612, 'penalty': 3613, 'pennies': 3614, 'percentage': 3615, 'perched': 3616, 'perfect': 3617, 'perfectly': 3618, 'performer': 3619, 'performers': 3620, 'perfunctory': 3621, 'perhaps': 3622, 'periods': 3623, 'personality': 3624, 'photos': 3625, 'physiologically': 3626, 'pics': 3627, 'pill': 3628, 'pillowcase': 3629, 'pinched': 3630, 'pioneer': 3631, 'pitch': 3632, 'pitcher': 3633, 'planners': 3634, 'plans': 3635, 'playfully': 3636, 'pleasant': 3637, 'pleasing': 3638, 'pleasure': 3639, 'plot': 3640, 'plug': 3641, 'plush': 3642, 'poke': 3643, 'polite': 3644, 'populated': 3645, 'porch': 3646, 'portable': 3647, 'portray': 3648, 'poster': 3649, 'potatos': 3650, 'potentially': 3651, 'pounds': 3652, 'pour': 3653, 'powered': 3654, 'practically': 3655, 'practicing': 3656, 'precious': 3657, 'predator': 3658, 'prefers': 3659, 'preparing': 3660, 'presence': 3661, 'present': 3662, 'presented': 3663, 'press': 3664, 'previously': 3665, 'priest': 3666, 'primal': 3667, 'priority': 3668, 'prisoners': 3669, 'private': 3670, 'procure': 3671, 'producer': 3672, 'producing': 3673, 'profession': 3674, 'projects': 3675, 'promote': 3676, 'punish': 3677, 'puppy': 3678, 'purchases': 3679, 'purposefully': 3680, 'purposes': 3681, 'pushing': 3682, 'puzzle': 3683, 'qualifications': 3684, 'quarters': 3685, 'quick': 3686, 'quicker': 3687, 'quit': 3688, 'racks': 3689, 'raged': 3690, 'rang': 3691, 'range': 3692, 'rank': 3693, 'rare': 3694, 'rate': 3695, 'raw': 3696, 'ray': 3697, 're': 3698, 'reaches': 3699, 'recall': 3700, 'receiving': 3701, 'recipe': 3702, 'recipient': 3703, 'recognize': 3704, 'recognized': 3705, 'recover': 3706, 'recovery': 3707, 'recreational': 3708, 'refill': 3709, 'refined': 3710, 'reflected': 3711, 'refreshed': 3712, 'refreshing': 3713, 'refrigerator': 3714, 'refuses': 3715, 'regards': 3716, 'regions': 3717, 'register': 3718, 'registry': 3719, 'regrets': 3720, 'release': 3721, 'released': 3722, 'remained': 3723, 'rent': 3724, 'replied': 3725, 'reproduce': 3726, 'researcher': 3727, 'residence': 3728, 'resources': 3729, 'respond': 3730, 'restrictions': 3731, 'resume': 3732, 'retire': 3733, 'retiring': 3734, 'retrieve': 3735, 'retrieved': 3736, 'returned': 3737, 'rhyme': 3738, 'rid': 3739, 'ridge': 3740, 'risky': 3741, 'rivers': 3742, 'roads': 3743, 'robot': 3744, 'robots': 3745, 'rocky': 3746, 'role': 3747, 'romantic': 3748, 'roof': 3749, 'rook': 3750, 'roommate': 3751, 'roommates': 3752, 'rose': 3753, 'rowdy': 3754, 'rub': 3755, 'ruler': 3756, 'rushed': 3757, 'safest': 3758, 'salesperson': 3759, 'samantha': 3760, 'sammy': 3761, 'san': 3762, 'satisfy': 3763, 'saturday': 3764, 'saving': 3765, 'saxophone': 3766, 'scan': 3767, 'scare': 3768, 'schools': 3769, 'scooping': 3770, 'screaming': 3771, 'search': 3772, 'secret': 3773, 'seeks': 3774, 'seller': 3775, 'sells': 3776, 'senator': 3777, 'sensitive': 3778, 'sensor': 3779, 'separated': 3780, 'separates': 3781, 'series': 3782, 'seriously': 3783, 'servant': 3784, 'session': 3785, 'settings': 3786, 'settled': 3787, 'shampoo': 3788, 'shaved': 3789, 'shed': 3790, 'sheets': 3791, 'shelves': 3792, 'shift': 3793, 'shipped': 3794, 'shirts': 3795, 'shock': 3796, 'shocked': 3797, 'shoelaces': 3798, 'shown': 3799, 'shut': 3800, 'shuttle': 3801, 'siblings': 3802, 'sifting': 3803, 'silicone': 3804, 'silo': 3805, 'singer': 3806, 'sip': 3807, 'sized': 3808, 'skate': 3809, 'skeleton': 3810, 'skies': 3811, 'skilled': 3812, 'skyscrapers': 3813, 'slide': 3814, 'slippery': 3815, 'sloppy': 3816, 'slowly': 3817, 'smoke': 3818, 'sneeze': 3819, 'snowflake': 3820, 'snowy': 3821, 'soda': 3822, 'softly': 3823, 'soil': 3824, 'solace': 3825, 'solider': 3826, 'solitude': 3827, 'someones': 3828, 'somethign': 3829, 'sooner': 3830, 'soul': 3831, 'sources': 3832, 'souvenir': 3833, 'souvenirs': 3834, 'spacecraft': 3835, 'spectators': 3836, 'spectrum': 3837, 'spider': 3838, 'spiders': 3839, 'spill': 3840, 'spirit': 3841, 'split': 3842, 'spoil': 3843, 'sponge': 3844, 'sporting': 3845, 'spots': 3846, 'spray': 3847, 'spread': 3848, 'spreading': 3849, 'spy': 3850, 'staff': 3851, 'stale': 3852, 'staple': 3853, 'staring': 3854, 'statement': 3855, 'stations': 3856, 'statistician': 3857, 'stays': 3858, 'steady': 3859, 'steakhouses': 3860, 'steep': 3861, 'stereotype': 3862, 'sticking': 3863, 'stool': 3864, 'stretch': 3865, 'strict': 3866, 'stride': 3867, 'struck': 3868, 'structures': 3869, 'studies': 3870, 'studios': 3871, 'stumbling': 3872, 'stunning': 3873, 'stupid': 3874, 'suddenly': 3875, 'sunny': 3876, 'suntan': 3877, 'super': 3878, 'superhighway': 3879, 'superman': 3880, 'supermarket': 3881, 'supply': 3882, 'surprisingly': 3883, 'surroundings': 3884, 'survive': 3885, 'sushi': 3886, 'swallow': 3887, 'swelling': 3888, 'swinging': 3889, 'swore': 3890, 'symbolize': 3891, 'symptoms': 3892, 'synonym': 3893, 'tabby': 3894, 'tacos': 3895, 'tallest': 3896, 'tax': 3897, 'taxi': 3898, 'teakettle': 3899, 'tearoom': 3900, 'technique': 3901, 'teenager': 3902, 'televisions': 3903, 'temperatures': 3904, 'temporarily': 3905, 'terminal': 3906, 'terrain': 3907, 'textbook': 3908, 'thanking': 3909, 'theaters': 3910, 'thermometer': 3911, 'thin': 3912, 'thoroughfare': 3913, 'thousand': 3914, 'throat': 3915, 'thunder': 3916, 'ti': 3917, 'tie': 3918, 'tied': 3919, 'tighten': 3920, 'tim': 3921, 'timid': 3922, 'toddler': 3923, 'tomato': 3924, 'tomatoes': 3925, 'topic': 3926, 'toronto': 3927, 'total': 3928, 'tote': 3929, 'tough': 3930, 'tourist': 3931, 'tracks': 3932, 'traders': 3933, 'trapped': 3934, 'travellers': 3935, 'tricks': 3936, 'tripped': 3937, 'trips': 3938, 'trivial': 3939, 'trombone': 3940, 'trophy': 3941, 'true': 3942, 'truly': 3943, 'trust': 3944, 'tune': 3945, 'tuning': 3946, 'tunnel': 3947, 'turtles': 3948, 'twelve': 3949, 'underground': 3950, 'understood': 3951, 'unexpectedly': 3952, 'unfamiliar': 3953, 'unpaid': 3954, 'unused': 3955, 'unwind': 3956, 'upcoming': 3957, 'urinate': 3958, 'usual': 3959, 'utensils': 3960, 'utilize': 3961, 'vacuum': 3962, 'valley': 3963, 'valuable': 3964, 'valued': 3965, 'van': 3966, 'vast': 3967, 'vegetable': 3968, 'vehicles': 3969, 'via': 3970, 'victoria': 3971, 'views': 3972, 'vigorously': 3973, 'villain': 3974, 'vinyl': 3975, 'viola': 3976, 'violent': 3977, 'virginia': 3978, 'vision': 3979, 'vivid': 3980, 'volunteer': 3981, 'voted': 3982, 'wage': 3983, 'wagon': 3984, 'waht': 3985, 'wandering': 3986, 'wares': 3987, 'warned': 3988, 'washer': 3989, 'watchign': 3990, 'watering': 3991, 'waving': 3992, 'wealth': 3993, 'weights': 3994, 'welcome': 3995, 'wendy': 3996, 'west': 3997, 'wheat': 3998, 'wheelchair': 3999, 'wheels': 4000, 'whose': 4001, 'wildflowers': 4002, 'wildly': 4003, 'willing': 4004, 'winters': 4005, 'wondered': 4006, 'wonderful': 4007, 'wool': 4008, 'worn': 4009, 'worse': 4010, 'worth': 4011, 'worthy': 4012, 'wristwatch': 4013, 'wronged': 4014, 'wrote': 4015, 'x': 4016, 'xylophone': 4017, 'yelled': 4018, 'yelling': 4019, 'yesterday': 4020, 'yoga': 4021, 'younger': 4022, 'yoyo': 4023, 'zoological': 4024})\n",
            "defaultdict(<function _default_unk_index at 0x7f7285a0bf28>, {'<unk>': 0, '<pad>': 1, '<sos>': 2, '<eos>': 3, 'store': 4, 'of': 5, 'to': 6, 'house': 7, 'office': 8, \"'s\": 9, 'room': 10, 'city': 11, 'get': 12, 'building': 13, 'school': 14, 'go': 15, 'have': 16, 'new': 17, 'in': 18, 'money': 19, 'music': 20, 'food': 21, 'down': 22, 'home': 23, 'water': 24, 'feel': 25, 'being': 26, 'park': 27, 'restaurant': 28, 'area': 29, 'shop': 30, 'fun': 31, 'game': 32, 'out': 33, 'own': 34, 'cabinet': 35, 'good': 36, 'countryside': 37, 'death': 38, 'getting': 39, 'make': 40, 'car': 41, 'up': 42, 'work': 43, 'kitchen': 44, 'people': 45, 'table': 46, 'feeling': 47, 'market': 48, 'band': 49, 'desk': 50, 'tired': 51, 'for': 52, 'ground': 53, 'pain': 54, 'play': 55, 'town': 56, 'apartment': 57, 'box': 58, 'drawer': 59, 'knowledge': 60, 'michigan': 61, 'street': 62, 'eat': 63, 'hotel': 64, 'ocean': 65, 'show': 66, 'station': 67, 'rest': 68, 'space': 69, 'television': 70, 'time': 71, 'bedroom': 72, 'better': 73, 'bus': 74, 'classroom': 75, 'closet': 76, 'fall': 77, 'friend': 78, 'mall': 79, 'refrigerator': 80, 'supermarket': 81, 'toy': 82, 'airport': 83, 'cupboard': 84, 'drink': 85, 'going': 86, 'great': 87, 'jail': 88, 'learn': 89, 'public': 90, 'sporting': 91, 'state': 92, 'take': 93, 'at': 94, 'book': 95, 'church': 96, 'die': 97, 'earth': 98, 'happiness': 99, 'large': 100, 'life': 101, 'more': 102, 'states': 103, 'america': 104, 'and': 105, 'basement': 106, 'become': 107, 'falling': 108, 'grocery': 109, 'movie': 110, 'museum': 111, 'place': 112, 'shuttle': 113, 'yard': 114, 'york': 115, 'country': 116, 'front': 117, 'gain': 118, 'high': 119, 'hospital': 120, 'meeting': 121, 'neighbor': 122, 'person': 123, 'pocket': 124, 'sleep': 125, 'theater': 126, 'things': 127, 'united': 128, 'asleep': 129, 'bathroom': 130, 'big': 131, 'body': 132, 'garage': 133, 'hard': 134, 'jar': 135, 'living': 136, 'other': 137, 'outside': 138, 'shelf': 139, 'south': 140, 'stress': 141, 'use': 142, 'weight': 143, 'with': 144, 'back': 145, 'bed': 146, 'center': 147, 'each': 148, 'england': 149, 'full': 150, 'garden': 151, 'line': 152, 'loss': 153, 'open': 154, 'satisfaction': 155, 'think': 156, 'train': 157, 'war': 158, 'about': 159, 'art': 160, 'away': 161, 'backpack': 162, 'bad': 163, 'bar': 164, 'california': 165, 'children': 166, 'department': 167, 'door': 168, 'fear': 169, 'goods': 170, 'hockey': 171, 'library': 172, 'north': 173, 'off': 174, 'on': 175, 'orchestra': 176, 'pleasure': 177, 'relaxation': 178, 'sex': 179, 'shopping': 180, 'stop': 181, 'surface': 182, 'themselves': 183, 'wet': 184, 'alley': 185, 'class': 186, 'club': 187, 'cold': 188, 'desktop': 189, 'do': 190, 'forest': 191, 'hardware': 192, 'having': 193, 'information': 194, 'love': 195, 'medicine': 196, 'mexico': 197, 'military': 198, 'not': 199, 'old': 200, 'soccer': 201, 'supply': 202, 'theatre': 203, 'tree': 204, 'anger': 205, 'bank': 206, 'books': 207, 'canada': 208, 'coffee': 209, 'concert': 210, 'disneyland': 211, 'experience': 212, 'fast': 213, 'fire': 214, 'fish': 215, 'gas': 216, 'hands': 217, 'happy': 218, 'health': 219, 'injury': 220, 'meet': 221, 'or': 222, 'outdoors': 223, 'pool': 224, 'sea': 225, 'somewhere': 226, 'study': 227, 'zoo': 228, 'boat': 229, 'cellar': 230, 'communication': 231, 'computer': 232, 'container': 233, 'corner': 234, 'depot': 235, 'dinner': 236, 'downtown': 237, 'energy': 238, 'fight': 239, 'frustration': 240, 'heart': 241, 'human': 242, 'laboratory': 243, 'legs': 244, 'listen': 245, 'live': 246, 'mail': 247, 'opera': 248, 'pantry': 249, 'pass': 250, 'pay': 251, 'produce': 252, 'race': 253, 'see': 254, 'sky': 255, 'talk': 256, 'together': 257, 'two': 258, 'wait': 259, 'warm': 260, 'write': 261, 'you': 262, 'air': 263, 'base': 264, 'bowling': 265, 'buy': 266, 'case': 267, 'college': 268, 'control': 269, 'demonstration': 270, 'event': 271, 'exhaustion': 272, 'fatigue': 273, 'feelings': 274, 'field': 275, 'free': 276, 'friends': 277, 'furniture': 278, 'head': 279, 'headaches': 280, 'himself': 281, 'increased': 282, 'lake': 283, 'learning': 284, 'losing': 285, 'mouth': 286, 'movies': 287, 'purse': 288, 'read': 289, 'river': 290, 'ship': 291, 'smile': 292, 'still': 293, 'suitcase': 294, 'swimming': 295, 'very': 296, 'yourself': 297, 'american': 298, 'ask': 299, 'bridge': 300, 'cafe': 301, 'clothes': 302, 'comfortable': 303, 'construction': 304, 'doctor': 305, 'early': 306, 'eyes': 307, 'family': 308, 'farmer': 309, 'floor': 310, 'fountain': 311, 'fridge': 312, 'hall': 313, 'lie': 314, 'many': 315, 'motel': 316, 'need': 317, 'newspaper': 318, 'post': 319, 'problems': 320, 'roof': 321, 'satisfied': 322, 'say': 323, 'stomach': 324, 'system': 325, 'texas': 326, 'track': 327, 'turn': 328, 'universe': 329, 'university': 330, 'well': 331, 'working': 332, 'amusement': 333, 'anxiety': 334, 'bag': 335, 'beach': 336, 'board': 337, 'breath': 338, 'business': 339, 'change': 340, 'clear': 341, 'community': 342, 'court': 343, 'cup': 344, 'deep': 345, 'drug': 346, 'enjoy': 347, 'enjoyment': 348, 'every': 349, 'everything': 350, 'express': 351, 'fairgrounds': 352, 'fly': 353, 'freedom': 354, 'from': 355, 'fruit': 356, 'grow': 357, 'injuries': 358, 'inspiration': 359, 'internet': 360, 'livingroom': 361, 'lot': 362, 'machine': 363, 'making': 364, 'mountains': 365, 'muscles': 366, 'one': 367, 'paper': 368, 'pizza': 369, 'plate': 370, 'pride': 371, 'prison': 372, 'punishment': 373, 'repair': 374, 'rug': 375, 'rural': 376, 'set': 377, 'sit': 378, 'solar': 379, 'sports': 380, 'stadium': 381, 'stay': 382, 'sweating': 383, 'symphony': 384, 'synagogue': 385, 'trouble': 386, 'wall': 387, 'washington': 388, 'win': 389, \"'re\": 390, 'atlantic': 391, 'attic': 392, 'backyard': 393, 'becoming': 394, 'bones': 395, 'bookstore': 396, 'bored': 397, 'breathe': 398, 'broken': 399, 'care': 400, 'carnival': 401, 'carolina': 402, 'cause': 403, 'chess': 404, 'chest': 405, 'compete': 406, 'conference': 407, 'cool': 408, 'depression': 409, 'dishes': 410, 'dream': 411, 'dry': 412, 'end': 413, 'entertained': 414, 'entertainment': 415, 'excitement': 416, 'eye': 417, 'feet': 418, 'form': 419, 'freeway': 420, 'georgia': 421, 'god': 422, 'guilt': 423, 'hand': 424, 'headache': 425, 'hear': 426, 'hold': 427, 'ideas': 428, 'joy': 429, 'laugh': 430, 'light': 431, 'like': 432, 'london': 433, 'lose': 434, 'louisiana': 435, 'lower': 436, 'marching': 437, 'middle': 438, 'moving': 439, 'nature': 440, 'no': 441, 'noise': 442, 'over': 443, 'panic': 444, 'party': 445, 'peace': 446, 'pet': 447, 'physical': 448, 'pile': 449, 'porch': 450, 'problem': 451, 'question': 452, 'questions': 453, 'radio': 454, 'relax': 455, 'safe': 456, 'san': 457, 'sentence': 458, 'site': 459, 'sitting': 460, 'skill': 461, 'skin': 462, 'speak': 463, 'stage': 464, 'stand': 465, 'strip': 466, 'suffering': 467, 'sun': 468, 'sweat': 469, 'tall': 470, 'thinking': 471, 'tool': 472, 'understand': 473, 'urban': 474, 'watch': 475, 'wear': 476, 'will': 477, 'windowsill': 478, 'accomplishment': 479, 'africa': 480, 'aircraft': 481, 'airplane': 482, 'all': 483, 'angry': 484, 'antique': 485, 'atlas': 486, 'attacks': 487, 'attention': 488, 'auditorium': 489, 'australia': 490, 'battlefield': 491, 'blood': 492, 'boredom': 493, 'bread': 494, 'brown': 495, 'carpet': 496, 'catch': 497, 'circus': 498, 'cities': 499, 'clean': 500, 'cleanliness': 501, 'come': 502, 'commercial': 503, 'complete': 504, 'concentrate': 505, 'contact': 506, 'crime': 507, 'cross': 508, 'dance': 509, 'detroit': 510, 'dirty': 511, 'drugstore': 512, 'east': 513, 'enemy': 514, 'enlightenment': 515, 'expensive': 516, 'fabric': 517, 'factory': 518, 'find': 519, 'fishing': 520, 'flower': 521, 'four': 522, 'french': 523, 'gaining': 524, 'guilty': 525, 'hair': 526, 'hang': 527, 'heat': 528, 'help': 529, 'history': 530, 'houses': 531, 'hurt': 532, 'interesting': 533, 'lab': 534, 'late': 535, 'lay': 536, 'let': 537, 'listening': 538, 'maine': 539, 'manhattan': 540, 'meat': 541, 'montana': 542, 'motion': 543, 'move': 544, 'national': 545, 'natural': 546, 'nausea': 547, 'neighborhood': 548, 'nice': 549, 'night': 550, 'northern': 551, 'nothing': 552, 'ohio': 553, 'oven': 554, 'pacific': 555, 'pharmacy': 556, 'phone': 557, 'plant': 558, 'plants': 559, 'practice': 560, 'prepare': 561, 'pressure': 562, 'rain': 563, 'raise': 564, 'remorse': 565, 'reproduce': 566, 'roadblock': 567, 'rock': 568, 'run': 569, 'save': 570, 'sing': 571, 'smoke': 572, 'sorrow': 573, 'spending': 574, 'subway': 575, 'suffer': 576, 'summer': 577, 'surf': 578, 'throw': 579, 'ticket': 580, 'transportation': 581, 'travel': 582, 'trunk': 583, 'truth': 584, 'utah': 585, 'victory': 586, 'voice': 587, 'wine': 588, 'world': 589, 'wrong': 590, 'able': 591, 'age': 592, 'ahead': 593, 'animal': 594, 'another': 595, 'answer': 596, 'appear': 597, 'arena': 598, 'arm': 599, 'attempt': 600, 'awake': 601, 'basket': 602, 'bay': 603, 'beer': 604, 'believe': 605, 'birth': 606, 'booth': 607, 'bowl': 608, 'brain': 609, 'breathing': 610, 'bring': 611, 'can': 612, 'carry': 613, 'cars': 614, 'celebrate': 615, 'chair': 616, 'close': 617, 'commit': 618, 'company': 619, 'complex': 620, 'continent': 621, 'controversy': 622, 'corn': 623, 'cost': 624, 'cow': 625, 'create': 626, 'dangerous': 627, 'discomfort': 628, 'dress': 629, 'drive': 630, 'drop': 631, 'education': 632, 'emergency': 633, 'europe': 634, 'facts': 635, 'fairy': 636, 'farm': 637, 'fat': 638, 'flowers': 639, 'francisco': 640, 'further': 641, 'games': 642, 'give': 643, 'grade': 644, 'hallway': 645, 'healthy': 646, 'heavy': 647, 'higher': 648, 'hungry': 649, 'ice': 650, 'illness': 651, 'important': 652, 'instrument': 653, 'intelligence': 654, 'interest': 655, 'japan': 656, 'keep': 657, 'kentucky': 658, 'kit': 659, 'laughter': 660, 'law': 661, 'leave': 662, 'legal': 663, 'linen': 664, 'lobby': 665, 'look': 666, 'magazine': 667, 'marry': 668, 'math': 669, 'might': 670, 'mind': 671, 'mood': 672, 'mountain': 673, 'net': 674, 'notebook': 675, 'order': 676, 'parking': 677, 'piano': 678, 'pick': 679, 'places': 680, 'pond': 681, 'populated': 682, 'pot': 683, 'press': 684, 'put': 685, 'relief': 686, 'road': 687, 'salon': 688, 'science': 689, 'shake': 690, 'share': 691, 'shower': 692, 'sink': 693, 'slow': 694, 'soap': 695, 'social': 696, 'socialize': 697, 'soft': 698, 'sore': 699, 'sound': 700, 'soup': 701, 'spare': 702, 'spend': 703, 'story': 704, 'strength': 705, 'studio': 706, 'sunny': 707, 'talking': 708, 'teach': 709, 'tension': 710, 'tiredness': 711, 'understanding': 712, 'valley': 713, 'virginia': 714, 'walk': 715, 'wash': 716, 'waterfall': 717, 'welcome': 718, 'west': 719, 'western': 720, 'white': 721, 'wild': 722, 'winning': 723, 'yellow': 724, 'accident': 725, 'accidents': 726, 'accomplish': 727, 'adequate': 728, 'against': 729, 'aggression': 730, 'alive': 731, 'amount': 732, 'anything': 733, 'anywhere': 734, 'areas': 735, 'army': 736, 'around': 737, 'arrest': 738, 'arrested': 739, 'arrive': 740, 'arthritis': 741, 'asia': 742, 'atmosphere': 743, 'bankruptcy': 744, 'basin': 745, 'basketball': 746, 'battle': 747, 'bedside': 748, 'begin': 749, 'bills': 750, 'bleeding': 751, 'blisters': 752, 'bottle': 753, 'briefcase': 754, 'bright': 755, 'calm': 756, 'campus': 757, 'capital': 758, 'captivity': 759, 'card': 760, 'cards': 761, 'carpal': 762, 'cash': 763, 'cast': 764, 'central': 765, 'centre': 766, 'chemistry': 767, 'chicken': 768, 'choice': 769, 'christmas': 770, 'climate': 771, 'climb': 772, 'clothing': 773, 'collection': 774, 'colorado': 775, 'common': 776, 'communicate': 777, 'competition': 778, 'compost': 779, 'conclusion': 780, 'confusion': 781, 'contempt': 782, 'contract': 783, 'conversation': 784, 'cook': 785, 'cooler': 786, 'coral': 787, 'cough': 788, 'countries': 789, 'course': 790, 'cramps': 791, 'crash': 792, 'creation': 793, 'day': 794, 'deck': 795, 'delicious': 796, 'dentist': 797, 'deposit': 798, 'depressed': 799, 'desert': 800, 'destroy': 801, 'dictionary': 802, 'different': 803, 'direct': 804, 'disease': 805, 'dishwasher': 806, 'dog': 807, 'done': 808, 'doors': 809, 'drinking': 810, 'driving': 811, 'drunk': 812, 'drunkenness': 813, 'earn': 814, 'ears': 815, 'eating': 816, 'electric': 817, 'embarrassment': 818, 'emotion': 819, 'encyclopedia': 820, 'erections': 821, 'exchange': 822, 'excited': 823, 'exhibits': 824, 'expect': 825, 'expense': 826, 'experiences': 827, 'faces': 828, 'fair': 829, 'film': 830, 'flat': 831, 'florida': 832, 'football': 833, 'foreign': 834, 'forgetfulness': 835, 'france': 836, 'freezer': 837, 'fresh': 838, 'friendly': 839, 'gardens': 840, 'germany': 841, 'gifts': 842, 'glass': 843, 'goodbye': 844, 'government': 845, 'grass': 846, 'green': 847, 'growth': 848, 'gulf': 849, 'gymnasium': 850, 'hampshire': 851, 'hangover': 852, 'heartburn': 853, 'heaven': 854, 'hell': 855, 'hemisphere': 856, 'homework': 857, 'hot': 858, 'hunger': 859, 'hurry': 860, 'idaho': 861, 'ignore': 862, 'imagination': 863, 'imprisoned': 864, 'into': 865, 'irritation': 866, 'jazz': 867, 'jersey': 868, 'job': 869, 'justice': 870, 'king': 871, 'kiss': 872, 'know': 873, 'known': 874, 'labyrinth': 875, 'land': 876, 'landfill': 877, 'language': 878, 'laundromat': 879, 'lawn': 880, 'laziness': 881, 'left': 882, 'leg': 883, 'less': 884, 'letter': 885, 'locker': 886, 'longer': 887, 'looking': 888, 'loud': 889, 'main': 890, 'man': 891, 'mansion': 892, 'map': 893, 'mass': 894, 'may': 895, 'meadow': 896, 'medical': 897, 'meditate': 898, 'minnesota': 899, 'mistakes': 900, 'misunderstanding': 901, 'misunderstandings': 902, 'most': 903, 'mountainous': 904, 'much': 905, 'musical': 906, 'news': 907, 'nightclub': 908, 'nose': 909, 'notes': 910, 'nursery': 911, 'obesity': 912, 'older': 913, 'opening': 914, 'opinions': 915, 'orchard': 916, 'orgasm': 917, 'others': 918, 'pages': 919, 'painting': 920, 'palace': 921, 'part': 922, 'patience': 923, 'pennsylvania': 924, 'petting': 925, 'plan': 926, 'planet': 927, 'playground': 928, 'playing': 929, 'police': 930, 'poor': 931, 'power': 932, 'pregnancy': 933, 'pretty': 934, 'prices': 935, 'progress': 936, 'property': 937, 'rate': 938, 'rates': 939, 'receive': 940, 'record': 941, 'red': 942, 'reef': 943, 'register': 944, 'regret': 945, 'reject': 946, 'relaxing': 947, 'report': 948, 'research': 949, 'residential': 950, 'resort': 951, 'respect': 952, 'retail': 953, 'retribution': 954, 'ride': 955, 'row': 956, 'sadness': 957, 'salad': 958, 'salt': 959, 'sand': 960, 'sense': 961, 'separate': 962, 'serve': 963, 'service': 964, 'settle': 965, 'sewer': 966, 'shadow': 967, 'shape': 968, 'shed': 969, 'shelter': 970, 'shirt': 971, 'shock': 972, 'shoes': 973, 'side': 974, 'small': 975, 'smiles': 976, 'smiling': 977, 'society': 978, 'southern': 979, 'special': 980, 'stairs': 981, 'standing': 982, 'stories': 983, 'straight': 984, 'strong': 985, 'stupidity': 986, 'subdivision': 987, 'suburb': 988, 'suburbs': 989, 'suicide': 990, 'sunshine': 991, 'syndrome': 992, 'tale': 993, 'telephone': 994, 'terrible': 995, 'there': 996, 'thought': 997, 'treasure': 998, 'trial': 999, 'tropical': 1000, 'truck': 1001, 'tunnel': 1002, 'tv': 1003, 'underground': 1004, 'understood': 1005, 'unpredictable': 1006, 'upright': 1007, 'vegetable': 1008, 'vegetables': 1009, 'video': 1010, 'vomiting': 1011, 'walking': 1012, 'washing': 1013, 'wave': 1014, 'weakness': 1015, 'wealth': 1016, 'weather': 1017, 'wedding': 1018, 'were': 1019, 'wheel': 1020, 'wonder': 1021, 'workplace': 1022, 'written': 1023, 'years': 1024, \"'ll\": 1025, 'abandoned': 1026, 'accelerate': 1027, 'accidental': 1028, 'accomplishing': 1029, 'acquire': 1030, 'act': 1031, 'action': 1032, 'active': 1033, 'added': 1034, 'addiction': 1035, 'admiration': 1036, 'admire': 1037, 'afternoon': 1038, 'aggravation': 1039, 'aid': 1040, 'alcohol': 1041, 'allergies': 1042, 'alone': 1043, 'along': 1044, 'amazon': 1045, 'ancient': 1046, 'animals': 1047, 'answers': 1048, 'ante': 1049, 'apart': 1050, 'appliance': 1051, 'apply': 1052, 'aquarium': 1053, 'arcade': 1054, 'arctic': 1055, 'argument': 1056, 'arguments': 1057, 'arkansas': 1058, 'arms': 1059, 'arriving': 1060, 'article': 1061, 'articulate': 1062, 'artifacts': 1063, 'artificial': 1064, 'artist': 1065, 'ashtray': 1066, 'asthma': 1067, 'authority': 1068, 'babies': 1069, 'backache': 1070, 'baking': 1071, 'ballpark': 1072, 'barbeque': 1073, 'barber': 1074, 'barn': 1075, 'bathe': 1076, 'battleship': 1077, 'be': 1078, 'beautiful': 1079, 'behavior': 1080, 'best': 1081, 'betrayal': 1082, 'bible': 1083, 'bicycle': 1084, 'black': 1085, 'blaring': 1086, 'bloom': 1087, 'blue': 1088, 'boardroom': 1089, 'bodies': 1090, 'botanical': 1091, 'branch': 1092, 'brass': 1093, 'break': 1094, 'breakfast': 1095, 'british': 1096, 'broadcast': 1097, 'brother': 1098, 'buildings': 1099, 'burn': 1100, 'bush': 1101, 'busy': 1102, 'buying': 1103, 'cafeteria': 1104, 'cage': 1105, 'calluses': 1106, 'camp': 1107, 'cancer': 1108, 'candy': 1109, 'canon': 1110, 'cape': 1111, 'careful': 1112, 'casino': 1113, 'castle': 1114, 'cat': 1115, 'catching': 1116, 'cave': 1117, 'cease': 1118, 'celebrating': 1119, 'ceremony': 1120, 'charming': 1121, 'chicago': 1122, 'child': 1123, 'china': 1124, 'chinatown': 1125, 'clap': 1126, 'clerk': 1127, 'clock': 1128, 'closed': 1129, 'closing': 1130, 'cloudy': 1131, 'code': 1132, 'colors': 1133, 'columbia': 1134, 'coma': 1135, 'coming': 1136, 'communicating': 1137, 'compare': 1138, 'compassion': 1139, 'competitiveness': 1140, 'composted': 1141, 'confession': 1142, 'congress': 1143, 'connecticut': 1144, 'conquer': 1145, 'conscience': 1146, 'construct': 1147, 'continue': 1148, 'cooking': 1149, 'coop': 1150, 'correct': 1151, 'county': 1152, 'cover': 1153, 'criminal': 1154, 'crops': 1155, 'crowd': 1156, 'crown': 1157, 'cry': 1158, 'dairy': 1159, 'dakota': 1160, 'dancing': 1161, 'dead': 1162, 'deceive': 1163, 'decisions': 1164, 'decomposition': 1165, 'deflation': 1166, 'demand': 1167, 'dense': 1168, 'deny': 1169, 'desire': 1170, 'despair': 1171, 'destruction': 1172, 'detestable': 1173, 'diego': 1174, 'dining': 1175, 'disaster': 1176, 'discount': 1177, 'discovery': 1178, 'disorientation': 1179, 'distress': 1180, 'district': 1181, 'diverse': 1182, 'doing': 1183, 'doorway': 1184, 'doze': 1185, 'dressing': 1186, 'driveway': 1187, 'dump': 1188, 'dying': 1189, 'eastern': 1190, 'easy': 1191, 'economic': 1192, 'eden': 1193, 'efficiency': 1194, 'effort': 1195, 'egg': 1196, 'email': 1197, 'embarassment': 1198, 'embrace': 1199, 'engine': 1200, 'english': 1201, 'enjoyable': 1202, 'enough': 1203, 'enter': 1204, 'entertain': 1205, 'entertaining': 1206, 'estate': 1207, 'euphoria': 1208, 'exceptional': 1209, 'exercise': 1210, 'exertion': 1211, 'exist': 1212, 'expectations': 1213, 'expected': 1214, 'expression': 1215, 'failure': 1216, 'faithful': 1217, 'far': 1218, 'fart': 1219, 'female': 1220, 'fields': 1221, 'fights': 1222, 'filing': 1223, 'firm': 1224, 'first': 1225, 'fitness': 1226, 'fitting': 1227, 'flatulence': 1228, 'fleas': 1229, 'flowing': 1230, 'follow': 1231, 'foot': 1232, 'forbid': 1233, 'forget': 1234, 'forrest': 1235, 'forward': 1236, 'found': 1237, 'frame': 1238, 'fraternity': 1239, 'freight': 1240, 'friendship': 1241, 'friendships': 1242, 'fright': 1243, 'frustrated': 1244, 'fullness': 1245, 'funding': 1246, 'funeral': 1247, 'funny': 1248, 'galaxy': 1249, 'gap': 1250, 'garbage': 1251, 'gathering': 1252, 'gear': 1253, 'generous': 1254, 'geometry': 1255, 'glee': 1256, 'grades': 1257, 'group': 1258, 'guard': 1259, 'guitar': 1260, 'gym': 1261, 'habitat': 1262, 'hallucination': 1263, 'harmful': 1264, 'harsh': 1265, 'heard': 1266, 'helicopter': 1267, 'hello': 1268, 'herself': 1269, 'hole': 1270, 'holster': 1271, 'homeschool': 1272, 'honor': 1273, 'horrible': 1274, 'horseradish': 1275, 'horses': 1276, 'hour': 1277, 'humdrum': 1278, 'hunt': 1279, 'illinois': 1280, 'illiterate': 1281, 'improve': 1282, 'improved': 1283, 'increase': 1284, 'inhale': 1285, 'injured': 1286, 'ink': 1287, 'innocence': 1288, 'insights': 1289, 'insomnia': 1290, 'inspiring': 1291, 'investigation': 1292, 'istanbul': 1293, 'italy': 1294, 'jealousy': 1295, 'jeans': 1296, 'jerusalem': 1297, 'jewelry': 1298, 'jewish': 1299, 'join': 1300, 'judge': 1301, 'jump': 1302, 'jungle': 1303, 'k': 1304, 'kansas': 1305, 'karma': 1306, 'kill': 1307, 'killing': 1308, 'lack': 1309, 'laid': 1310, 'landscape': 1311, 'larger': 1312, 'las': 1313, 'last': 1314, 'latin': 1315, 'laughing': 1316, 'laundry': 1317, 'lawyer': 1318, 'lessons': 1319, 'lies': 1320, 'lights': 1321, 'liquid': 1322, 'liquor': 1323, 'little': 1324, 'lives': 1325, 'loft': 1326, 'lonely': 1327, 'long': 1328, 'loose': 1329, 'loved': 1330, 'low': 1331, 'lunch': 1332, 'magazines': 1333, 'major': 1334, 'males': 1335, 'mammals': 1336, 'mandatory': 1337, 'manipulate': 1338, 'maritime': 1339, 'mart': 1340, 'meditation': 1341, 'memories': 1342, 'memory': 1343, 'meow': 1344, 'metro': 1345, 'miracles': 1346, 'misery': 1347, 'mississippi': 1348, 'moon': 1349, 'motorbike': 1350, 'movement': 1351, 'mulberry': 1352, 'names': 1353, 'near': 1354, 'neatness': 1355, 'needle': 1356, 'nest': 1357, 'nevada': 1358, 'nightmares': 1359, 'novel': 1360, 'nursing': 1361, 'object': 1362, 'objects': 1363, 'offer': 1364, 'offices': 1365, 'oklahoma': 1366, 'online': 1367, 'orders': 1368, 'ore': 1369, 'oregon': 1370, 'organization': 1371, 'orleans': 1372, 'outrage': 1373, 'overspending': 1374, 'oxygen': 1375, 'paid': 1376, 'palpitations': 1377, 'panel': 1378, 'paris': 1379, 'past': 1380, 'patient': 1381, 'paying': 1382, 'payment': 1383, 'pencil': 1384, 'perspiration': 1385, 'picture': 1386, 'piggy': 1387, 'plain': 1388, 'player': 1389, 'pleasant': 1390, 'plug': 1391, 'point': 1392, 'poisonous': 1393, 'polite': 1394, 'pollution': 1395, 'popularity': 1396, 'port': 1397, 'possessing': 1398, 'pregnant': 1399, 'prepared': 1400, 'pretend': 1401, 'procreate': 1402, 'program': 1403, 'promise': 1404, 'putting': 1405, 'puzzle': 1406, 'quartet': 1407, 'quickly': 1408, 'rainforest': 1409, 'rainy': 1410, 'ranch': 1411, 'range': 1412, 'reach': 1413, 'real': 1414, 'realization': 1415, 'reason': 1416, 'recorded': 1417, 'recording': 1418, 'recycled': 1419, 'refineries': 1420, 'refreshed': 1421, 'region': 1422, 'relationship': 1423, 'release': 1424, 'religion': 1425, 'remember': 1426, 'reproduction': 1427, 'resentment': 1428, 'response': 1429, 'responsibility': 1430, 'restroom': 1431, 'retaliation': 1432, 'reverse': 1433, 'revolution': 1434, 'rice': 1435, 'rich': 1436, 'rink': 1437, 'riots': 1438, 'rivalry': 1439, 'roadsides': 1440, 'rocky': 1441, 'rod': 1442, 'rome': 1443, 'rope': 1444, 'running': 1445, 'rush': 1446, 'russia': 1447, 'schools': 1448, 'score': 1449, 'sears': 1450, 'seattle': 1451, 'secret': 1452, 'seeing': 1453, 'sell': 1454, 'selling': 1455, 'sensible': 1456, 'serving': 1457, 'settlement': 1458, 'severe': 1459, 'sharing': 1460, 'shops': 1461, 'shore': 1462, 'shortness': 1463, 'shout': 1464, 'sick': 1465, 'sickness': 1466, 'sign': 1467, 'sincere': 1468, 'single': 1469, 'skiing': 1470, 'skinny': 1471, 'skyscraper': 1472, 'slapped': 1473, 'slavery': 1474, 'sleepiness': 1475, 'sleeping': 1476, 'sleepy': 1477, 'slender': 1478, 'slim': 1479, 'slot': 1480, 'smart': 1481, 'smell': 1482, 'soda': 1483, 'solitude': 1484, 'solution': 1485, 'solve': 1486, 'son': 1487, 'song': 1488, 'sores': 1489, 'soundly': 1490, 'southwest': 1491, 'spain': 1492, 'speaking': 1493, 'speed': 1494, 'speeding': 1495, 'spot': 1496, 'spouse': 1497, 'spread': 1498, 'spring': 1499, 'staggering': 1500, 'stairwell': 1501, 'staying': 1502, 'steam': 1503, 'step': 1504, 'stew': 1505, 'stock': 1506, 'stopping': 1507, 'stores': 1508, 'strain': 1509, 'stream': 1510, 'stretch': 1511, 'string': 1512, 'student': 1513, 'students': 1514, 'stumbling': 1515, 'stupid': 1516, 'suburbia': 1517, 'success': 1518, 'suddenly': 1519, 'suit': 1520, 'swim': 1521, 'switch': 1522, 'switzerland': 1523, 'taste': 1524, 'tasty': 1525, 'team': 1526, 'tears': 1527, 'temperate': 1528, 'tennessee': 1529, 'tennis': 1530, 'tensions': 1531, 'tent': 1532, 'terrarium': 1533, 'text': 1534, 'thank': 1535, 'then': 1536, 'thick': 1537, 'thin': 1538, 'throwing': 1539, 'thumb': 1540, 'tidal': 1541, 'too': 1542, 'tops': 1543, 'torso': 1544, 'tow': 1545, 'towns': 1546, 'toys': 1547, 'trade': 1548, 'traffic': 1549, 'trap': 1550, 'trash': 1551, 'trashcan': 1552, 'treated': 1553, 'trees': 1554, 'trip': 1555, 'triple': 1556, 'tropics': 1557, 'trust': 1558, 'try': 1559, 'trying': 1560, 'unconventional': 1561, 'underwater': 1562, 'union': 1563, 'unique': 1564, 'unobservant': 1565, 'upset': 1566, 'used': 1567, 'useless': 1568, 'using': 1569, 'utility': 1570, 'vegas': 1571, 'vengeance': 1572, 'vessel': 1573, 'village': 1574, 'visual': 1575, 'wage': 1576, 'waiting': 1577, 'wake': 1578, 'want': 1579, 'warehouse': 1580, 'warmth': 1581, 'waste': 1582, 'weapons': 1583, 'web': 1584, 'wellness': 1585, 'whisper': 1586, 'wilderness': 1587, 'wimbledon': 1588, 'winch': 1589, 'window': 1590, 'winery': 1591, 'wings': 1592, 'winter': 1593, 'wishing': 1594, 'wood': 1595, 'woods': 1596, 'words': 1597, 'worthy': 1598, 'wyoming': 1599, 'zero': 1600})\n"
          ],
          "name": "stdout"
        }
      ]
    },
    {
      "cell_type": "code",
      "metadata": {
        "id": "11CnDhTkEzFd"
      },
      "source": [
        "class Encoder(nn.Module):\n",
        "    def __init__(self, input_dim, emb_dim, hid_dim, dropout):\n",
        "        super().__init__()\n",
        "\n",
        "        self.hid_dim = hid_dim\n",
        "        \n",
        "        self.embedding = nn.Embedding(input_dim, emb_dim) #no dropout as only one layer!\n",
        "        \n",
        "        self.rnn = nn.GRU(emb_dim, hid_dim)\n",
        "        \n",
        "        self.dropout = nn.Dropout(dropout)\n",
        "        \n",
        "    def forward(self, src):\n",
        "        \n",
        "        #src = [src len, batch size]\n",
        "        \n",
        "        embedded = self.dropout(self.embedding(src))\n",
        "        \n",
        "        #embedded = [src len, batch size, emb dim]\n",
        "        \n",
        "        outputs, hidden = self.rnn(embedded) #no cell state!\n",
        "        \n",
        "        #outputs = [src len, batch size, hid dim * n directions]\n",
        "        #hidden = [n layers * n directions, batch size, hid dim]\n",
        "        \n",
        "        #outputs are always from the top hidden layer\n",
        "        \n",
        "        return hidden"
      ],
      "execution_count": 13,
      "outputs": []
    },
    {
      "cell_type": "code",
      "metadata": {
        "id": "wRA8hkiLEzFh"
      },
      "source": [
        "class Decoder(nn.Module):\n",
        "    def __init__(self, output_dim, emb_dim, hid_dim, dropout):\n",
        "        super().__init__()\n",
        "\n",
        "        self.hid_dim = hid_dim\n",
        "        self.output_dim = output_dim\n",
        "        \n",
        "        self.embedding = nn.Embedding(output_dim, emb_dim)\n",
        "        \n",
        "        self.rnn = nn.GRU(emb_dim + hid_dim, hid_dim)\n",
        "        \n",
        "        self.fc_out = nn.Linear(emb_dim + hid_dim * 2, output_dim)\n",
        "        \n",
        "        self.dropout = nn.Dropout(dropout)\n",
        "        \n",
        "    def forward(self, input, hidden, context):\n",
        "        \n",
        "        #input = [batch size]\n",
        "        #hidden = [n layers * n directions, batch size, hid dim]\n",
        "        #context = [n layers * n directions, batch size, hid dim]\n",
        "        \n",
        "        #n layers and n directions in the decoder will both always be 1, therefore:\n",
        "        #hidden = [1, batch size, hid dim]\n",
        "        #context = [1, batch size, hid dim]\n",
        "        \n",
        "        input = input.unsqueeze(0)\n",
        "        \n",
        "        #input = [1, batch size]\n",
        "        \n",
        "        embedded = self.dropout(self.embedding(input))\n",
        "        \n",
        "        #embedded = [1, batch size, emb dim]\n",
        "                \n",
        "        emb_con = torch.cat((embedded, context), dim = 2)\n",
        "            \n",
        "        #emb_con = [1, batch size, emb dim + hid dim]\n",
        "            \n",
        "        output, hidden = self.rnn(emb_con, hidden)\n",
        "        \n",
        "        #output = [seq len, batch size, hid dim * n directions]\n",
        "        #hidden = [n layers * n directions, batch size, hid dim]\n",
        "        \n",
        "        #seq len, n layers and n directions will always be 1 in the decoder, therefore:\n",
        "        #output = [1, batch size, hid dim]\n",
        "        #hidden = [1, batch size, hid dim]\n",
        "        \n",
        "        output = torch.cat((embedded.squeeze(0), hidden.squeeze(0), context.squeeze(0)), \n",
        "                           dim = 1)\n",
        "        \n",
        "        #output = [batch size, emb dim + hid dim * 2]\n",
        "        \n",
        "        prediction = self.fc_out(output)\n",
        "        \n",
        "        #prediction = [batch size, output dim]\n",
        "        \n",
        "        return prediction, hidden"
      ],
      "execution_count": 14,
      "outputs": []
    },
    {
      "cell_type": "code",
      "metadata": {
        "id": "FDyNrQ8VEzFk"
      },
      "source": [
        "class Seq2Seq(nn.Module):\n",
        "    def __init__(self, encoder, decoder, device):\n",
        "        super().__init__()\n",
        "        \n",
        "        self.encoder = encoder\n",
        "        self.decoder = decoder\n",
        "        self.device = device\n",
        "        \n",
        "        assert encoder.hid_dim == decoder.hid_dim, \\\n",
        "            \"Hidden dimensions of encoder and decoder must be equal!\"\n",
        "        \n",
        "    def forward(self, src, trg, teacher_forcing_ratio = 0.5):\n",
        "        \n",
        "        #src = [src len, batch size]\n",
        "        #trg = [trg len, batch size]\n",
        "        #teacher_forcing_ratio is probability to use teacher forcing\n",
        "        #e.g. if teacher_forcing_ratio is 0.75 we use ground-truth inputs 75% of the time\n",
        "        \n",
        "        batch_size = trg.shape[1]\n",
        "        trg_len = trg.shape[0]\n",
        "        trg_vocab_size = self.decoder.output_dim\n",
        "        \n",
        "        #tensor to store decoder outputs\n",
        "        outputs = torch.zeros(trg_len, batch_size, trg_vocab_size).to(self.device)\n",
        "        \n",
        "        #last hidden state of the encoder is the context\n",
        "        context = self.encoder(src)\n",
        "        \n",
        "        #context also used as the initial hidden state of the decoder\n",
        "        hidden = context\n",
        "        \n",
        "        #first input to the decoder is the <sos> tokens\n",
        "        input = trg[0,:]\n",
        "        \n",
        "        for t in range(1, trg_len):\n",
        "            \n",
        "            #insert input token embedding, previous hidden state and the context state\n",
        "            #receive output tensor (predictions) and new hidden state\n",
        "            output, hidden = self.decoder(input, hidden, context)\n",
        "            \n",
        "            #place predictions in a tensor holding predictions for each token\n",
        "            outputs[t] = output\n",
        "            \n",
        "            #decide if we are going to use teacher forcing or not\n",
        "            teacher_force = random.random() < teacher_forcing_ratio\n",
        "            \n",
        "            #get the highest predicted token from our predictions\n",
        "            top1 = output.argmax(1) \n",
        "            \n",
        "            #if teacher forcing, use actual next token as next input\n",
        "            #if not, use predicted token\n",
        "            input = trg[t] if teacher_force else top1\n",
        "\n",
        "        return outputs"
      ],
      "execution_count": 15,
      "outputs": []
    },
    {
      "cell_type": "markdown",
      "metadata": {
        "id": "uxVMMPUyEzFk"
      },
      "source": [
        "# Training the Seq2Seq Model\n",
        "\n",
        "The rest of this session is very similar to the previous one. \n",
        "\n",
        "We initialise our encoder, decoder and seq2seq model (placing it on the GPU if we have one). As before, the embedding dimensions and the amount of dropout used can be different between the encoder and the decoder, but the hidden dimensions must remain the same."
      ]
    },
    {
      "cell_type": "code",
      "metadata": {
        "id": "WDG6jOSuEzFk"
      },
      "source": [
        "INPUT_DIM = len(SRC.vocab)\n",
        "OUTPUT_DIM = len(TRG.vocab)\n",
        "ENC_EMB_DIM = 256\n",
        "DEC_EMB_DIM = 256\n",
        "HID_DIM = 512\n",
        "ENC_DROPOUT = 0.5\n",
        "DEC_DROPOUT = 0.5\n",
        "\n",
        "enc = Encoder(INPUT_DIM, ENC_EMB_DIM, HID_DIM, ENC_DROPOUT)\n",
        "dec = Decoder(OUTPUT_DIM, DEC_EMB_DIM, HID_DIM, DEC_DROPOUT)\n",
        "\n",
        "device = torch.device('cuda' if torch.cuda.is_available() else 'cpu')\n",
        "\n",
        "model = Seq2Seq(enc, dec, device).to(device)"
      ],
      "execution_count": 16,
      "outputs": []
    },
    {
      "cell_type": "markdown",
      "metadata": {
        "id": "RLIc1l6CEzFk"
      },
      "source": [
        "Next, we initialize our parameters. The paper states the parameters are initialized from a normal distribution with a mean of 0 and a standard deviation of 0.01, i.e. $\\mathcal{N}(0, 0.01)$. \n",
        "\n",
        "It also states we should initialize the recurrent parameters to a special initialization, however to keep things simple we'll also initialize them to $\\mathcal{N}(0, 0.01)$."
      ]
    },
    {
      "cell_type": "code",
      "metadata": {
        "id": "HgqMqq-oEzFk",
        "colab": {
          "base_uri": "https://localhost:8080/"
        },
        "outputId": "ba4f9d71-fcf8-480a-a9c1-70c61a028347"
      },
      "source": [
        "def init_weights(m):\n",
        "    for name, param in m.named_parameters():\n",
        "        nn.init.normal_(param.data, mean=0, std=0.01)\n",
        "        \n",
        "model.apply(init_weights)"
      ],
      "execution_count": 17,
      "outputs": [
        {
          "output_type": "execute_result",
          "data": {
            "text/plain": [
              "Seq2Seq(\n",
              "  (encoder): Encoder(\n",
              "    (embedding): Embedding(4025, 256)\n",
              "    (rnn): GRU(256, 512)\n",
              "    (dropout): Dropout(p=0.5, inplace=False)\n",
              "  )\n",
              "  (decoder): Decoder(\n",
              "    (embedding): Embedding(1601, 256)\n",
              "    (rnn): GRU(768, 512)\n",
              "    (fc_out): Linear(in_features=1280, out_features=1601, bias=True)\n",
              "    (dropout): Dropout(p=0.5, inplace=False)\n",
              "  )\n",
              ")"
            ]
          },
          "metadata": {
            "tags": []
          },
          "execution_count": 17
        }
      ]
    },
    {
      "cell_type": "markdown",
      "metadata": {
        "id": "hd1QoOsUEzFl"
      },
      "source": [
        "We print out the number of parameters.\n",
        "\n",
        "Even though we only have a single layer RNN for our encoder and decoder we actually have **more** parameters  than the last model. This is due to the increased size of the inputs to the GRU and the linear layer. However, it is not a significant amount of parameters and causes a minimal amount of increase in training time (~3 seconds per epoch extra)."
      ]
    },
    {
      "cell_type": "code",
      "metadata": {
        "id": "IggCwIBgEzFl",
        "colab": {
          "base_uri": "https://localhost:8080/"
        },
        "outputId": "840118aa-05e6-4583-9ab9-0cdb373c373b"
      },
      "source": [
        "def count_parameters(model):\n",
        "    return sum(p.numel() for p in model.parameters() if p.requires_grad)\n",
        "\n",
        "print(f'The model has {count_parameters(model):,} trainable parameters')"
      ],
      "execution_count": 18,
      "outputs": [
        {
          "output_type": "stream",
          "text": [
            "The model has 6,643,009 trainable parameters\n"
          ],
          "name": "stdout"
        }
      ]
    },
    {
      "cell_type": "markdown",
      "metadata": {
        "id": "YiH54qzHEzFl"
      },
      "source": [
        "We initiaize our optimizer."
      ]
    },
    {
      "cell_type": "code",
      "metadata": {
        "id": "eO1_eoG7EzFl"
      },
      "source": [
        "optimizer = optim.Adam(model.parameters())"
      ],
      "execution_count": 19,
      "outputs": []
    },
    {
      "cell_type": "markdown",
      "metadata": {
        "id": "BwkV3FKlEzFl"
      },
      "source": [
        "We also initialize the loss function, making sure to ignore the loss on `<pad>` tokens."
      ]
    },
    {
      "cell_type": "code",
      "metadata": {
        "id": "H0DAbGbcEzFl"
      },
      "source": [
        "TRG_PAD_IDX = TRG.vocab.stoi[TRG.pad_token]\n",
        "\n",
        "criterion = nn.CrossEntropyLoss(ignore_index = TRG_PAD_IDX)"
      ],
      "execution_count": 20,
      "outputs": []
    },
    {
      "cell_type": "markdown",
      "metadata": {
        "id": "FTay7E9rEzFm"
      },
      "source": [
        "We then create the training loop..."
      ]
    },
    {
      "cell_type": "code",
      "metadata": {
        "id": "A5OYuoFdEzFm"
      },
      "source": [
        "def train(model, iterator, optimizer, criterion, clip):\n",
        "    \n",
        "    model.train()\n",
        "    \n",
        "    epoch_loss = 0\n",
        "    \n",
        "    for i, batch in enumerate(iterator):\n",
        "        \n",
        "        src = batch.SRC\n",
        "        trg = batch.TRG\n",
        "        \n",
        "        optimizer.zero_grad()\n",
        "        \n",
        "        output = model(src, trg)\n",
        "        \n",
        "        #trg = [trg len, batch size]\n",
        "        #output = [trg len, batch size, output dim]\n",
        "        \n",
        "        output_dim = output.shape[-1]\n",
        "        \n",
        "        output = output[1:].view(-1, output_dim)\n",
        "        trg = trg[1:].view(-1)\n",
        "        \n",
        "        #trg = [(trg len - 1) * batch size]\n",
        "        #output = [(trg len - 1) * batch size, output dim]\n",
        "        \n",
        "        loss = criterion(output, trg)\n",
        "        \n",
        "        loss.backward()\n",
        "        \n",
        "        torch.nn.utils.clip_grad_norm_(model.parameters(), clip)\n",
        "        \n",
        "        optimizer.step()\n",
        "        \n",
        "        epoch_loss += loss.item()\n",
        "        \n",
        "    return epoch_loss / len(iterator)"
      ],
      "execution_count": 21,
      "outputs": []
    },
    {
      "cell_type": "markdown",
      "metadata": {
        "id": "6rfUx5lhEzFm"
      },
      "source": [
        "...and the evaluation loop, remembering to set the model to `eval` mode and turn off teaching forcing."
      ]
    },
    {
      "cell_type": "code",
      "metadata": {
        "id": "Jw022pw0EzFm"
      },
      "source": [
        "def evaluate(model, iterator, criterion):\n",
        "    \n",
        "    model.eval()\n",
        "    \n",
        "    epoch_loss = 0\n",
        "    \n",
        "    with torch.no_grad():\n",
        "    \n",
        "        for i, batch in enumerate(iterator):\n",
        "\n",
        "            src = batch.SRC\n",
        "            trg = batch.TRG\n",
        "\n",
        "            output = model(src, trg, 0) #turn off teacher forcing\n",
        "\n",
        "            #trg = [trg len, batch size]\n",
        "            #output = [trg len, batch size, output dim]\n",
        "\n",
        "            output_dim = output.shape[-1]\n",
        "            \n",
        "            output = output[1:].view(-1, output_dim)\n",
        "            trg = trg[1:].view(-1)\n",
        "\n",
        "            #trg = [(trg len - 1) * batch size]\n",
        "            #output = [(trg len - 1) * batch size, output dim]\n",
        "\n",
        "            loss = criterion(output, trg)\n",
        "\n",
        "            epoch_loss += loss.item()\n",
        "        \n",
        "    return epoch_loss / len(iterator)"
      ],
      "execution_count": 22,
      "outputs": []
    },
    {
      "cell_type": "markdown",
      "metadata": {
        "id": "E43h8dnQEzFm"
      },
      "source": [
        "We'll also define the function that calculates how long an epoch takes."
      ]
    },
    {
      "cell_type": "code",
      "metadata": {
        "id": "zTAmu3-EEzFm"
      },
      "source": [
        "def epoch_time(start_time, end_time):\n",
        "    elapsed_time = end_time - start_time\n",
        "    elapsed_mins = int(elapsed_time / 60)\n",
        "    elapsed_secs = int(elapsed_time - (elapsed_mins * 60))\n",
        "    return elapsed_mins, elapsed_secs"
      ],
      "execution_count": 23,
      "outputs": []
    },
    {
      "cell_type": "markdown",
      "metadata": {
        "id": "kbCGyO4ZEzFm"
      },
      "source": [
        "Then, we train our model, saving the parameters that give us the best validation loss."
      ]
    },
    {
      "cell_type": "code",
      "metadata": {
        "id": "jjFyRUK9EzFm",
        "colab": {
          "base_uri": "https://localhost:8080/"
        },
        "outputId": "8c3d31e5-7c91-4d48-deda-ba9c0fd13d7f"
      },
      "source": [
        "N_EPOCHS = 50\n",
        "CLIP = 1\n",
        "\n",
        "best_valid_loss = float('inf')\n",
        "\n",
        "for epoch in range(N_EPOCHS):\n",
        "    \n",
        "    start_time = time.time()\n",
        "    \n",
        "    train_loss = train(model, train_iterator, optimizer, criterion, CLIP)\n",
        "    valid_loss = evaluate(model, valid_iterator, criterion)\n",
        "    \n",
        "    end_time = time.time()\n",
        "    \n",
        "    epoch_mins, epoch_secs = epoch_time(start_time, end_time)\n",
        "    \n",
        "    if valid_loss < best_valid_loss:\n",
        "        best_valid_loss = valid_loss\n",
        "        torch.save(model.state_dict(), 'tut2-model.pt')\n",
        "    \n",
        "    print(f'Epoch: {epoch+1:02} | Time: {epoch_mins}m {epoch_secs}s')\n",
        "    print(f'\\tTrain Loss: {train_loss:.3f} | Train PPL: {math.exp(train_loss):7.3f}')\n",
        "    print(f'\\t Val. Loss: {valid_loss:.3f} |  Val. PPL: {math.exp(valid_loss):7.3f}')"
      ],
      "execution_count": 24,
      "outputs": [
        {
          "output_type": "stream",
          "text": [
            "Epoch: 01 | Time: 0m 1s\n",
            "\tTrain Loss: 4.557 | Train PPL:  95.305\n",
            "\t Val. Loss: 3.665 |  Val. PPL:  39.037\n",
            "Epoch: 02 | Time: 0m 1s\n",
            "\tTrain Loss: 4.005 | Train PPL:  54.870\n",
            "\t Val. Loss: 3.634 |  Val. PPL:  37.855\n",
            "Epoch: 03 | Time: 0m 1s\n",
            "\tTrain Loss: 3.923 | Train PPL:  50.537\n",
            "\t Val. Loss: 3.629 |  Val. PPL:  37.657\n",
            "Epoch: 04 | Time: 0m 1s\n",
            "\tTrain Loss: 3.863 | Train PPL:  47.617\n",
            "\t Val. Loss: 3.596 |  Val. PPL:  36.450\n",
            "Epoch: 05 | Time: 0m 1s\n",
            "\tTrain Loss: 3.846 | Train PPL:  46.811\n",
            "\t Val. Loss: 3.653 |  Val. PPL:  38.578\n",
            "Epoch: 06 | Time: 0m 1s\n",
            "\tTrain Loss: 3.833 | Train PPL:  46.204\n",
            "\t Val. Loss: 3.605 |  Val. PPL:  36.790\n",
            "Epoch: 07 | Time: 0m 1s\n",
            "\tTrain Loss: 3.807 | Train PPL:  45.034\n",
            "\t Val. Loss: 3.597 |  Val. PPL:  36.490\n",
            "Epoch: 08 | Time: 0m 1s\n",
            "\tTrain Loss: 3.802 | Train PPL:  44.804\n",
            "\t Val. Loss: 3.604 |  Val. PPL:  36.733\n",
            "Epoch: 09 | Time: 0m 1s\n",
            "\tTrain Loss: 3.729 | Train PPL:  41.656\n",
            "\t Val. Loss: 3.640 |  Val. PPL:  38.078\n",
            "Epoch: 10 | Time: 0m 1s\n",
            "\tTrain Loss: 3.725 | Train PPL:  41.455\n",
            "\t Val. Loss: 3.613 |  Val. PPL:  37.091\n",
            "Epoch: 11 | Time: 0m 1s\n",
            "\tTrain Loss: 3.698 | Train PPL:  40.370\n",
            "\t Val. Loss: 3.622 |  Val. PPL:  37.429\n",
            "Epoch: 12 | Time: 0m 1s\n",
            "\tTrain Loss: 3.684 | Train PPL:  39.791\n",
            "\t Val. Loss: 3.649 |  Val. PPL:  38.454\n",
            "Epoch: 13 | Time: 0m 1s\n",
            "\tTrain Loss: 3.640 | Train PPL:  38.074\n",
            "\t Val. Loss: 3.728 |  Val. PPL:  41.613\n",
            "Epoch: 14 | Time: 0m 1s\n",
            "\tTrain Loss: 3.648 | Train PPL:  38.380\n",
            "\t Val. Loss: 3.702 |  Val. PPL:  40.509\n",
            "Epoch: 15 | Time: 0m 1s\n",
            "\tTrain Loss: 3.643 | Train PPL:  38.209\n",
            "\t Val. Loss: 3.880 |  Val. PPL:  48.443\n",
            "Epoch: 16 | Time: 0m 1s\n",
            "\tTrain Loss: 3.630 | Train PPL:  37.714\n",
            "\t Val. Loss: 3.797 |  Val. PPL:  44.555\n",
            "Epoch: 17 | Time: 0m 1s\n",
            "\tTrain Loss: 3.574 | Train PPL:  35.666\n",
            "\t Val. Loss: 3.785 |  Val. PPL:  44.014\n",
            "Epoch: 18 | Time: 0m 1s\n",
            "\tTrain Loss: 3.427 | Train PPL:  30.775\n",
            "\t Val. Loss: 3.756 |  Val. PPL:  42.793\n",
            "Epoch: 19 | Time: 0m 1s\n",
            "\tTrain Loss: 3.441 | Train PPL:  31.204\n",
            "\t Val. Loss: 3.884 |  Val. PPL:  48.611\n",
            "Epoch: 20 | Time: 0m 1s\n",
            "\tTrain Loss: 3.295 | Train PPL:  26.990\n",
            "\t Val. Loss: 3.767 |  Val. PPL:  43.261\n",
            "Epoch: 21 | Time: 0m 1s\n",
            "\tTrain Loss: 3.246 | Train PPL:  25.691\n",
            "\t Val. Loss: 3.834 |  Val. PPL:  46.232\n",
            "Epoch: 22 | Time: 0m 1s\n",
            "\tTrain Loss: 3.231 | Train PPL:  25.302\n",
            "\t Val. Loss: 3.985 |  Val. PPL:  53.787\n",
            "Epoch: 23 | Time: 0m 1s\n",
            "\tTrain Loss: 3.196 | Train PPL:  24.445\n",
            "\t Val. Loss: 4.019 |  Val. PPL:  55.623\n",
            "Epoch: 24 | Time: 0m 1s\n",
            "\tTrain Loss: 3.092 | Train PPL:  22.021\n",
            "\t Val. Loss: 4.095 |  Val. PPL:  60.051\n",
            "Epoch: 25 | Time: 0m 1s\n",
            "\tTrain Loss: 3.092 | Train PPL:  22.022\n",
            "\t Val. Loss: 4.105 |  Val. PPL:  60.652\n",
            "Epoch: 26 | Time: 0m 1s\n",
            "\tTrain Loss: 2.960 | Train PPL:  19.305\n",
            "\t Val. Loss: 4.186 |  Val. PPL:  65.736\n",
            "Epoch: 27 | Time: 0m 1s\n",
            "\tTrain Loss: 2.844 | Train PPL:  17.182\n",
            "\t Val. Loss: 4.287 |  Val. PPL:  72.729\n",
            "Epoch: 28 | Time: 0m 1s\n",
            "\tTrain Loss: 2.836 | Train PPL:  17.051\n",
            "\t Val. Loss: 4.248 |  Val. PPL:  69.983\n",
            "Epoch: 29 | Time: 0m 1s\n",
            "\tTrain Loss: 2.668 | Train PPL:  14.413\n",
            "\t Val. Loss: 4.394 |  Val. PPL:  80.989\n",
            "Epoch: 30 | Time: 0m 1s\n",
            "\tTrain Loss: 2.605 | Train PPL:  13.528\n",
            "\t Val. Loss: 4.405 |  Val. PPL:  81.826\n",
            "Epoch: 31 | Time: 0m 1s\n",
            "\tTrain Loss: 2.463 | Train PPL:  11.739\n",
            "\t Val. Loss: 4.467 |  Val. PPL:  87.069\n",
            "Epoch: 32 | Time: 0m 1s\n",
            "\tTrain Loss: 2.298 | Train PPL:   9.957\n",
            "\t Val. Loss: 4.577 |  Val. PPL:  97.215\n",
            "Epoch: 33 | Time: 0m 1s\n",
            "\tTrain Loss: 2.114 | Train PPL:   8.285\n",
            "\t Val. Loss: 4.693 |  Val. PPL: 109.190\n",
            "Epoch: 34 | Time: 0m 1s\n",
            "\tTrain Loss: 1.978 | Train PPL:   7.228\n",
            "\t Val. Loss: 4.785 |  Val. PPL: 119.689\n",
            "Epoch: 35 | Time: 0m 1s\n",
            "\tTrain Loss: 1.854 | Train PPL:   6.383\n",
            "\t Val. Loss: 4.893 |  Val. PPL: 133.317\n",
            "Epoch: 36 | Time: 0m 1s\n",
            "\tTrain Loss: 1.601 | Train PPL:   4.956\n",
            "\t Val. Loss: 5.036 |  Val. PPL: 153.926\n",
            "Epoch: 37 | Time: 0m 1s\n",
            "\tTrain Loss: 1.390 | Train PPL:   4.016\n",
            "\t Val. Loss: 5.095 |  Val. PPL: 163.259\n",
            "Epoch: 38 | Time: 0m 1s\n",
            "\tTrain Loss: 1.207 | Train PPL:   3.344\n",
            "\t Val. Loss: 5.154 |  Val. PPL: 173.199\n",
            "Epoch: 39 | Time: 0m 1s\n",
            "\tTrain Loss: 0.989 | Train PPL:   2.688\n",
            "\t Val. Loss: 5.299 |  Val. PPL: 200.192\n",
            "Epoch: 40 | Time: 0m 1s\n",
            "\tTrain Loss: 0.824 | Train PPL:   2.280\n",
            "\t Val. Loss: 5.410 |  Val. PPL: 223.671\n",
            "Epoch: 41 | Time: 0m 1s\n",
            "\tTrain Loss: 0.655 | Train PPL:   1.925\n",
            "\t Val. Loss: 5.561 |  Val. PPL: 260.055\n",
            "Epoch: 42 | Time: 0m 1s\n",
            "\tTrain Loss: 0.536 | Train PPL:   1.709\n",
            "\t Val. Loss: 5.651 |  Val. PPL: 284.444\n",
            "Epoch: 43 | Time: 0m 1s\n",
            "\tTrain Loss: 0.434 | Train PPL:   1.543\n",
            "\t Val. Loss: 5.679 |  Val. PPL: 292.696\n",
            "Epoch: 44 | Time: 0m 1s\n",
            "\tTrain Loss: 0.346 | Train PPL:   1.413\n",
            "\t Val. Loss: 5.773 |  Val. PPL: 321.531\n",
            "Epoch: 45 | Time: 0m 1s\n",
            "\tTrain Loss: 0.277 | Train PPL:   1.319\n",
            "\t Val. Loss: 5.903 |  Val. PPL: 366.257\n",
            "Epoch: 46 | Time: 0m 1s\n",
            "\tTrain Loss: 0.229 | Train PPL:   1.258\n",
            "\t Val. Loss: 5.953 |  Val. PPL: 384.979\n",
            "Epoch: 47 | Time: 0m 1s\n",
            "\tTrain Loss: 0.181 | Train PPL:   1.199\n",
            "\t Val. Loss: 6.021 |  Val. PPL: 411.846\n",
            "Epoch: 48 | Time: 0m 1s\n",
            "\tTrain Loss: 0.146 | Train PPL:   1.157\n",
            "\t Val. Loss: 6.057 |  Val. PPL: 426.938\n",
            "Epoch: 49 | Time: 0m 1s\n",
            "\tTrain Loss: 0.120 | Train PPL:   1.128\n",
            "\t Val. Loss: 6.172 |  Val. PPL: 479.182\n",
            "Epoch: 50 | Time: 0m 1s\n",
            "\tTrain Loss: 0.110 | Train PPL:   1.116\n",
            "\t Val. Loss: 6.200 |  Val. PPL: 492.704\n"
          ],
          "name": "stdout"
        }
      ]
    },
    {
      "cell_type": "markdown",
      "metadata": {
        "id": "ztR5mNm8EzFn"
      },
      "source": [
        "Finally, we test the model on the test set using these \"best\" parameters."
      ]
    },
    {
      "cell_type": "code",
      "metadata": {
        "id": "xaJo3X9aEzFn",
        "colab": {
          "base_uri": "https://localhost:8080/"
        },
        "outputId": "e59671a2-b45c-460d-b54a-f239ae0c2dbc"
      },
      "source": [
        "model.load_state_dict(torch.load('tut2-model.pt'))\n",
        "\n",
        "test_loss = evaluate(model, test_iterator, criterion)\n",
        "\n",
        "print(f'| Test Loss: {test_loss:.3f} | Test PPL: {math.exp(test_loss):7.3f} |')"
      ],
      "execution_count": 25,
      "outputs": [
        {
          "output_type": "stream",
          "text": [
            "| Test Loss: 3.708 | Test PPL:  40.783 |\n"
          ],
          "name": "stdout"
        }
      ]
    },
    {
      "cell_type": "markdown",
      "metadata": {
        "id": "QY7SsC8TEzFn"
      },
      "source": [
        "Just looking at the test loss, we get better performance. This is a pretty good sign that this model architecture is doing something right! Relieving the information compression seems like the way forard, and in the next tutorial we'll expand on this even further with *attention*."
      ]
    }
  ]
}